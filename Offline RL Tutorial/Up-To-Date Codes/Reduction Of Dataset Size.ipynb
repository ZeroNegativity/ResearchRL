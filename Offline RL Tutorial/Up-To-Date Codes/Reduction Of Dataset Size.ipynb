{
 "cells": [
  {
   "cell_type": "code",
   "execution_count": 1,
   "id": "ffcd610d-369a-4d80-83f3-78263a60fba6",
   "metadata": {},
   "outputs": [],
   "source": [
    "import numpy as np\n",
    "import random\n",
    "import sys\n",
    "import pandas as pd\n",
    "from sklearn.preprocessing import OneHotEncoder\n",
    "from sklearn.neural_network import MLPRegressor\n",
    "from sklearn.neural_network import MLPClassifier\n",
    "from sklearn.model_selection import train_test_split"
   ]
  },
  {
   "cell_type": "code",
   "execution_count": 2,
   "id": "65334346-181d-463a-9c73-03312935b709",
   "metadata": {},
   "outputs": [],
   "source": [
    "def randPair(s,e):\n",
    "    return np.random.randint(s,e), np.random.randint(s,e)\n",
    "\n",
    "class BoardPiece:\n",
    "\n",
    "    def __init__(self, name, code, pos):\n",
    "        self.name = name #name of the piece\n",
    "        self.code = code #an ASCII character to display on the board\n",
    "        self.pos = pos #2-tuple e.g. (1,4)\n",
    "\n",
    "class BoardMask:\n",
    "\n",
    "    def __init__(self, name, mask, code):\n",
    "        self.name = name\n",
    "        self.mask = mask\n",
    "        self.code = code\n",
    "\n",
    "    def get_positions(self): #returns tuple of arrays\n",
    "        return np.nonzero(self.mask)\n",
    "\n",
    "def zip_positions2d(positions): #positions is tuple of two arrays\n",
    "    x,y = positions\n",
    "    return list(zip(x,y))\n",
    "\n",
    "class GridBoard:\n",
    "\n",
    "    def __init__(self, size=4):\n",
    "        self.size = size #Board dimensions, e.g. 4 x 4\n",
    "        self.components = {} #name : board piece\n",
    "        self.masks = {}\n",
    "\n",
    "    def addPiece(self, name, code, pos=(0,0)):\n",
    "        newPiece = BoardPiece(name, code, pos)\n",
    "        self.components[name] = newPiece\n",
    "\n",
    "    #basically a set of boundary elements\n",
    "    def addMask(self, name, mask, code):\n",
    "        #mask is a 2D-numpy array with 1s where the boundary elements are\n",
    "        newMask = BoardMask(name, mask, code)\n",
    "        self.masks[name] = newMask\n",
    "\n",
    "    def movePiece(self, name, pos):\n",
    "        move = True\n",
    "        for _, mask in self.masks.items():\n",
    "            if pos in zip_positions2d(mask.get_positions()):\n",
    "                move = False\n",
    "        if move:\n",
    "            self.components[name].pos = pos\n",
    "\n",
    "    def delPiece(self, name):\n",
    "        del self.components['name']\n",
    "\n",
    "    def render(self):\n",
    "        dtype = '<U2'\n",
    "        displ_board = np.zeros((self.size, self.size), dtype=dtype)\n",
    "        displ_board[:] = ' '\n",
    "\n",
    "        for name, piece in self.components.items():\n",
    "            displ_board[piece.pos] = piece.code\n",
    "\n",
    "        for name, mask in self.masks.items():\n",
    "            displ_board[mask.get_positions()] = mask.code\n",
    "\n",
    "        return displ_board\n",
    "\n",
    "    def render_np(self):\n",
    "        num_pieces = len(self.components) + len(self.masks)\n",
    "        displ_board = np.zeros((num_pieces, self.size, self.size), dtype=np.uint8)\n",
    "        layer = 0\n",
    "        for name, piece in self.components.items():\n",
    "            pos = (layer,) + piece.pos\n",
    "            displ_board[pos] = 1\n",
    "            layer += 1\n",
    "\n",
    "        for name, mask in self.masks.items():\n",
    "            x,y = self.masks['boundary'].get_positions()\n",
    "            z = np.repeat(layer,len(x))\n",
    "            a = (z,x,y)\n",
    "            displ_board[a] = 1\n",
    "            layer += 1\n",
    "        return displ_board\n",
    "\n",
    "def addTuple(a,b):\n",
    "    return tuple([sum(x) for x in zip(a,b)])"
   ]
  },
  {
   "cell_type": "code",
   "execution_count": 3,
   "id": "d5bd3c95-fa58-4bcb-b010-32e8cb74f130",
   "metadata": {},
   "outputs": [],
   "source": [
    "class Gridworld:\n",
    "\n",
    "    def __init__(self, size=4, mode='static'):\n",
    "        if size >= 4:\n",
    "            self.board = GridBoard(size=size)\n",
    "        else:\n",
    "            print(\"Minimum board size is 4. Initialized to size 4.\")\n",
    "            self.board = GridBoard(size=4)\n",
    "\n",
    "        #Add pieces, positions will be updated later\n",
    "        self.board.addPiece('Player','P',(0,0))\n",
    "        self.board.addPiece('Goal','+',(0,3))\n",
    "        self.board.addPiece('Pit','-',(0,3))\n",
    "        self.board.addPiece('Wall','W',(2,3))\n",
    "\n",
    "        if mode == 'static':\n",
    "            self.initGridStatic()\n",
    "        elif mode == 'player':\n",
    "            self.initGridPlayer()\n",
    "        else:\n",
    "            self.initGridRand()\n",
    "\n",
    "    #Initialize stationary grid, all items are placed deterministically\n",
    "    def initGridStatic(self):\n",
    "        #Setup static pieces\n",
    "        self.board.components['Player'].pos = randPair(0,self.board.size) #Row, Column\n",
    "        self.board.components['Goal'].pos = (3,0)\n",
    "        self.board.components['Pit'].pos = (3,1)\n",
    "        self.board.components['Wall'].pos = (3,2)\n",
    "        \n",
    "        if (not self.validateBoard()):\n",
    "            #print('Invalid grid. Rebuilding..')\n",
    "            self.initGridStatic()\n",
    "\n",
    "\n",
    "    #Check if board is initialized appropriately (no overlapping pieces)\n",
    "    #also remove impossible-to-win boards\n",
    "    def validateBoard(self):\n",
    "        valid = True\n",
    "\n",
    "        player = self.board.components['Player']\n",
    "        goal = self.board.components['Goal']\n",
    "        wall = self.board.components['Wall']\n",
    "        pit = self.board.components['Pit']\n",
    "\n",
    "        all_positions = [piece for name,piece in self.board.components.items()]\n",
    "        all_positions = [player.pos, goal.pos, wall.pos, pit.pos]\n",
    "        if len(all_positions) > len(set(all_positions)):\n",
    "            return False\n",
    "\n",
    "        corners = [(0,0),(0,self.board.size), (self.board.size,0), (self.board.size,self.board.size)]\n",
    "        #if player is in corner, can it move? if goal is in corner, is it blocked?\n",
    "        if player.pos in corners or goal.pos in corners:\n",
    "            val_move_pl = [self.validateMove('Player', addpos) for addpos in [(0,1),(1,0),(-1,0),(0,-1)]]\n",
    "            val_move_go = [self.validateMove('Goal', addpos) for addpos in [(0,1),(1,0),(-1,0),(0,-1)]]\n",
    "            if 0 not in val_move_pl or 0 not in val_move_go:\n",
    "                #print(self.display())\n",
    "                #print(\"Invalid board. Re-initializing...\")\n",
    "                valid = False\n",
    "\n",
    "        return valid\n",
    "\n",
    "    #Initialize player in random location, but keep wall, goal and pit stationary\n",
    "    def initGridPlayer(self):\n",
    "        #height x width x depth (number of pieces)\n",
    "        self.initGridStatic()\n",
    "        #place player\n",
    "        self.board.components['Player'].pos = randPair(0,self.board.size)\n",
    "\n",
    "        if (not self.validateBoard()):\n",
    "            #print('Invalid grid. Rebuilding..')\n",
    "            self.initGridPlayer()\n",
    "\n",
    "    #Initialize grid so that goal, pit, wall, player are all randomly placed\n",
    "    def initGridRand(self):\n",
    "        #height x width x depth (number of pieces)\n",
    "        self.board.components['Player'].pos = randPair(0,self.board.size)\n",
    "        self.board.components['Goal'].pos = randPair(0,self.board.size)\n",
    "        self.board.components['Pit'].pos = randPair(0,self.board.size)\n",
    "        self.board.components['Wall'].pos = randPair(0,self.board.size)\n",
    "\n",
    "        if (not self.validateBoard()):\n",
    "            #print('Invalid grid. Rebuilding..')\n",
    "            self.initGridRand()\n",
    "\n",
    "    def validateMove(self, piece, addpos=(0,0)):\n",
    "        outcome = 0 #0 is valid, 1 invalid, 2 lost game\n",
    "        pit = self.board.components['Pit'].pos\n",
    "        wall = self.board.components['Wall'].pos\n",
    "        new_pos = addTuple(self.board.components[piece].pos, addpos)\n",
    "        if new_pos == wall:\n",
    "            outcome = 1 #block move, player can't move to wall\n",
    "        elif max(new_pos) > (self.board.size-1):    #if outside bounds of board\n",
    "            outcome = 1\n",
    "        elif min(new_pos) < 0: #if outside bounds\n",
    "            outcome = 1\n",
    "        elif new_pos == pit:\n",
    "            outcome = 2\n",
    "\n",
    "        return outcome\n",
    "\n",
    "    def makeMove(self, action):\n",
    "        #need to determine what object (if any) is in the new grid spot the player is moving to\n",
    "        #actions in {u,d,l,r}\n",
    "        def checkMove(addpos):\n",
    "            if self.validateMove('Player', addpos) in [0,2]:\n",
    "                new_pos = addTuple(self.board.components['Player'].pos, addpos)\n",
    "                self.board.movePiece('Player', new_pos)\n",
    "\n",
    "        if action == 'u': #up\n",
    "            checkMove((-1,0))\n",
    "        elif action == 'd': #down\n",
    "            checkMove((1,0))\n",
    "        elif action == 'l': #left\n",
    "            checkMove((0,-1))\n",
    "        elif action == 'r': #right\n",
    "            checkMove((0,1))\n",
    "        else:\n",
    "            pass\n",
    "\n",
    "    def reward(self):\n",
    "        if (self.board.components['Player'].pos == self.board.components['Pit'].pos):\n",
    "            return -10\n",
    "        elif (self.board.components['Player'].pos == self.board.components['Goal'].pos):\n",
    "            return 10\n",
    "        else:\n",
    "            return -1\n",
    "\n",
    "    def display(self):\n",
    "        return self.board.render()"
   ]
  },
  {
   "cell_type": "code",
   "execution_count": 4,
   "id": "4997431e-08f0-415a-af39-bbdcf434eab9",
   "metadata": {},
   "outputs": [],
   "source": [
    "action_set = {\n",
    "    0: 'u',\n",
    "    1: 'd',\n",
    "    2: 'l',\n",
    "    3: 'r',\n",
    "}"
   ]
  },
  {
   "cell_type": "code",
   "execution_count": 5,
   "id": "030d1737-cacb-41e7-9037-fe9b0db88eb6",
   "metadata": {},
   "outputs": [],
   "source": [
    "\"\"\"\n",
    "from2dto1d:\n",
    "    Args: \n",
    "        pos(tuple):2d position of the objects(Player, Wall, Goal, Pit) in the gridworld\n",
    "    Return:\n",
    "        return(integer): 1d position of the objects(Player, Wall, Goal, Pit)in the gridworld\n",
    "\"\"\" \n",
    "def from2dto1d(pos):\n",
    "    if pos == '(0, 0)':\n",
    "        return 0\n",
    "    if pos == '(0, 1)':\n",
    "        return 1\n",
    "    if pos == '(0, 2)':\n",
    "        return 2\n",
    "    if pos == '(0, 3)':\n",
    "        return 3\n",
    "    if pos == '(1, 0)':\n",
    "        return 4\n",
    "    if pos == '(1, 1)':\n",
    "        return 5\n",
    "    if pos == '(1, 2)':\n",
    "        return 6\n",
    "    if pos == '(1, 3)':\n",
    "        return 7\n",
    "    if pos == '(2, 0)':\n",
    "        return 8\n",
    "    if pos == '(2, 1)':\n",
    "        return 9\n",
    "    if pos == '(2, 2)':\n",
    "        return 10\n",
    "    if pos == '(2, 3)':\n",
    "        return 11\n",
    "    if pos == '(3, 0)':\n",
    "        return 12\n",
    "    if pos == '(3, 1)':\n",
    "        return 13\n",
    "    if pos == '(3, 2)':\n",
    "        return 14\n",
    "    if pos == '(3, 3)':\n",
    "        return 15"
   ]
  },
  {
   "cell_type": "code",
   "execution_count": 6,
   "id": "8d239c76-ac12-44ba-b36d-522bd601dae5",
   "metadata": {},
   "outputs": [],
   "source": [
    "def from1dto2d(pos):\n",
    "    if pos == 0:\n",
    "        return (0, 0)\n",
    "    if pos == 1:\n",
    "        return (0, 1)\n",
    "    if pos == 2:\n",
    "        return (0, 2)\n",
    "    if pos == 3:\n",
    "        return (0, 3)\n",
    "    if pos == 4:\n",
    "        return (1, 0)\n",
    "    if pos == 5:\n",
    "        return (1, 1)\n",
    "    if pos == 6:\n",
    "        return (1, 2)\n",
    "    if pos == 7:\n",
    "        return (1, 3)\n",
    "    if pos == 8:\n",
    "        return (2, 0)\n",
    "    if pos == 9:\n",
    "        return (2, 1)\n",
    "    if pos == 10:\n",
    "        return (2, 2)\n",
    "    if pos == 11:\n",
    "        return (2, 3)\n",
    "    if pos == 12:\n",
    "        return (3, 0)\n",
    "    if pos == 13:\n",
    "        return (3, 1)\n",
    "    if pos == 14:\n",
    "        return (3, 2)\n",
    "    if pos == 15:\n",
    "        return (3, 3)"
   ]
  },
  {
   "cell_type": "code",
   "execution_count": 7,
   "id": "84848635-1cba-4297-a84f-0cb7fe80ce1c",
   "metadata": {},
   "outputs": [],
   "source": [
    "\"\"\"\n",
    "from_num_to_one_hot_encode:\n",
    "    Args: \n",
    "        num(int): number from 0 to 15 representing the state of the objects(Player, Wall, Goal, Pit) in the gridworld\n",
    "    Return:\n",
    "        return(tuple): encoded binary code with the size of 16-bit \n",
    "\"\"\"\n",
    "def from_num_to_one_hot_encode(num):\n",
    "    en0,en1,en2,en3,en4,en5,en6,en7,en8,en9,en10,en11,en12,en13,en14,en15 = 0,0,0,0,0,0,0,0,0,0,0,0,0,0,0,0\n",
    "    if num == 0:\n",
    "        en0 = 1\n",
    "    if num == 1:\n",
    "        en1 = 1\n",
    "    if num == 2:\n",
    "        en2 = 1\n",
    "    if num == 3:\n",
    "        en3 = 1\n",
    "    if num == 4:\n",
    "        en4 = 1\n",
    "    if num == 5:\n",
    "        en5 = 1\n",
    "    if num == 6:\n",
    "        en6 = 1\n",
    "    if num == 7:\n",
    "        en7 = 1\n",
    "    if num == 8:\n",
    "        en8 = 1\n",
    "    if num == 9:\n",
    "        en9 = 1\n",
    "    if num == 10:\n",
    "        en10 = 1\n",
    "    if num == 11:\n",
    "        en11 = 1\n",
    "    if num == 12:\n",
    "        en12 = 1\n",
    "    if num == 13:\n",
    "        en13 = 1\n",
    "    if num == 14:\n",
    "        en14 = 1\n",
    "    if num == 15:\n",
    "        en15 = 1\n",
    "    return en0,en1,en2,en3,en4,en5,en6,en7,en8,en9,en10,en11,en12,en13,en14,en15"
   ]
  },
  {
   "cell_type": "code",
   "execution_count": 8,
   "id": "83402fa7-d2ab-45aa-8fc5-e82cabdb49c2",
   "metadata": {},
   "outputs": [
    {
     "data": {
      "text/html": [
       "<div>\n",
       "<style scoped>\n",
       "    .dataframe tbody tr th:only-of-type {\n",
       "        vertical-align: middle;\n",
       "    }\n",
       "\n",
       "    .dataframe tbody tr th {\n",
       "        vertical-align: top;\n",
       "    }\n",
       "\n",
       "    .dataframe thead th {\n",
       "        text-align: right;\n",
       "    }\n",
       "</style>\n",
       "<table border=\"1\" class=\"dataframe\">\n",
       "  <thead>\n",
       "    <tr style=\"text-align: right;\">\n",
       "      <th></th>\n",
       "      <th>Unnamed: 0</th>\n",
       "      <th>Player</th>\n",
       "      <th>Goal</th>\n",
       "      <th>Wall</th>\n",
       "      <th>Pit</th>\n",
       "      <th>Q_Current</th>\n",
       "      <th>Reward_Current</th>\n",
       "      <th>Q1_Next</th>\n",
       "      <th>Reward_1_Next</th>\n",
       "      <th>Q2_Next</th>\n",
       "      <th>Reward_2_Next</th>\n",
       "      <th>Q3_Next</th>\n",
       "      <th>Reward_3_Next</th>\n",
       "      <th>Q4_Next</th>\n",
       "      <th>Reward_4_Next</th>\n",
       "      <th>Max_Q_Next</th>\n",
       "      <th>Reward_Max_Next</th>\n",
       "      <th>Bellman_Operator</th>\n",
       "    </tr>\n",
       "  </thead>\n",
       "  <tbody>\n",
       "    <tr>\n",
       "      <th>0</th>\n",
       "      <td>0</td>\n",
       "      <td>0</td>\n",
       "      <td>2</td>\n",
       "      <td>1</td>\n",
       "      <td>0</td>\n",
       "      <td>-0.356023</td>\n",
       "      <td>0.50</td>\n",
       "      <td>-10.000000</td>\n",
       "      <td>0.00</td>\n",
       "      <td>2.647438</td>\n",
       "      <td>0.62</td>\n",
       "      <td>-10.000000</td>\n",
       "      <td>0.00</td>\n",
       "      <td>-10.000000</td>\n",
       "      <td>0.00</td>\n",
       "      <td>2.647438</td>\n",
       "      <td>0.62</td>\n",
       "      <td>3.002694</td>\n",
       "    </tr>\n",
       "    <tr>\n",
       "      <th>1</th>\n",
       "      <td>1</td>\n",
       "      <td>2</td>\n",
       "      <td>2</td>\n",
       "      <td>1</td>\n",
       "      <td>0</td>\n",
       "      <td>9.709291</td>\n",
       "      <td>0.75</td>\n",
       "      <td>-10.000000</td>\n",
       "      <td>0.00</td>\n",
       "      <td>7.422089</td>\n",
       "      <td>0.62</td>\n",
       "      <td>-10.000000</td>\n",
       "      <td>0.00</td>\n",
       "      <td>7.962252</td>\n",
       "      <td>0.62</td>\n",
       "      <td>7.962252</td>\n",
       "      <td>0.62</td>\n",
       "      <td>10.000000</td>\n",
       "    </tr>\n",
       "    <tr>\n",
       "      <th>2</th>\n",
       "      <td>2</td>\n",
       "      <td>3</td>\n",
       "      <td>2</td>\n",
       "      <td>1</td>\n",
       "      <td>0</td>\n",
       "      <td>7.962252</td>\n",
       "      <td>0.62</td>\n",
       "      <td>-10.000000</td>\n",
       "      <td>0.00</td>\n",
       "      <td>6.114790</td>\n",
       "      <td>0.62</td>\n",
       "      <td>9.709291</td>\n",
       "      <td>0.75</td>\n",
       "      <td>-10.000000</td>\n",
       "      <td>0.00</td>\n",
       "      <td>9.709291</td>\n",
       "      <td>0.75</td>\n",
       "      <td>9.488361</td>\n",
       "    </tr>\n",
       "    <tr>\n",
       "      <th>3</th>\n",
       "      <td>3</td>\n",
       "      <td>4</td>\n",
       "      <td>2</td>\n",
       "      <td>1</td>\n",
       "      <td>0</td>\n",
       "      <td>2.647438</td>\n",
       "      <td>0.62</td>\n",
       "      <td>-0.356023</td>\n",
       "      <td>0.50</td>\n",
       "      <td>2.080958</td>\n",
       "      <td>0.62</td>\n",
       "      <td>-10.000000</td>\n",
       "      <td>0.00</td>\n",
       "      <td>6.384776</td>\n",
       "      <td>0.62</td>\n",
       "      <td>6.384776</td>\n",
       "      <td>0.62</td>\n",
       "      <td>6.366299</td>\n",
       "    </tr>\n",
       "    <tr>\n",
       "      <th>4</th>\n",
       "      <td>4</td>\n",
       "      <td>5</td>\n",
       "      <td>2</td>\n",
       "      <td>1</td>\n",
       "      <td>0</td>\n",
       "      <td>6.384776</td>\n",
       "      <td>0.62</td>\n",
       "      <td>-10.000000</td>\n",
       "      <td>0.00</td>\n",
       "      <td>3.147437</td>\n",
       "      <td>0.62</td>\n",
       "      <td>2.647438</td>\n",
       "      <td>0.62</td>\n",
       "      <td>7.422089</td>\n",
       "      <td>0.62</td>\n",
       "      <td>7.422089</td>\n",
       "      <td>0.62</td>\n",
       "      <td>7.299880</td>\n",
       "    </tr>\n",
       "    <tr>\n",
       "      <th>...</th>\n",
       "      <td>...</td>\n",
       "      <td>...</td>\n",
       "      <td>...</td>\n",
       "      <td>...</td>\n",
       "      <td>...</td>\n",
       "      <td>...</td>\n",
       "      <td>...</td>\n",
       "      <td>...</td>\n",
       "      <td>...</td>\n",
       "      <td>...</td>\n",
       "      <td>...</td>\n",
       "      <td>...</td>\n",
       "      <td>...</td>\n",
       "      <td>...</td>\n",
       "      <td>...</td>\n",
       "      <td>...</td>\n",
       "      <td>...</td>\n",
       "      <td>...</td>\n",
       "    </tr>\n",
       "    <tr>\n",
       "      <th>50395</th>\n",
       "      <td>50395</td>\n",
       "      <td>8</td>\n",
       "      <td>13</td>\n",
       "      <td>14</td>\n",
       "      <td>15</td>\n",
       "      <td>6.419645</td>\n",
       "      <td>0.62</td>\n",
       "      <td>4.150536</td>\n",
       "      <td>0.62</td>\n",
       "      <td>10.481168</td>\n",
       "      <td>0.62</td>\n",
       "      <td>-10.000000</td>\n",
       "      <td>0.00</td>\n",
       "      <td>6.489353</td>\n",
       "      <td>0.62</td>\n",
       "      <td>10.481168</td>\n",
       "      <td>0.62</td>\n",
       "      <td>10.000000</td>\n",
       "    </tr>\n",
       "    <tr>\n",
       "      <th>50396</th>\n",
       "      <td>50396</td>\n",
       "      <td>13</td>\n",
       "      <td>13</td>\n",
       "      <td>14</td>\n",
       "      <td>15</td>\n",
       "      <td>9.970391</td>\n",
       "      <td>0.75</td>\n",
       "      <td>6.489353</td>\n",
       "      <td>0.62</td>\n",
       "      <td>-10.000000</td>\n",
       "      <td>0.00</td>\n",
       "      <td>10.481168</td>\n",
       "      <td>0.62</td>\n",
       "      <td>-10.000000</td>\n",
       "      <td>0.00</td>\n",
       "      <td>10.481168</td>\n",
       "      <td>0.62</td>\n",
       "      <td>10.000000</td>\n",
       "    </tr>\n",
       "    <tr>\n",
       "      <th>50397</th>\n",
       "      <td>50397</td>\n",
       "      <td>9</td>\n",
       "      <td>13</td>\n",
       "      <td>14</td>\n",
       "      <td>15</td>\n",
       "      <td>6.489353</td>\n",
       "      <td>0.62</td>\n",
       "      <td>3.969529</td>\n",
       "      <td>0.62</td>\n",
       "      <td>9.970391</td>\n",
       "      <td>0.75</td>\n",
       "      <td>6.419645</td>\n",
       "      <td>0.62</td>\n",
       "      <td>6.954754</td>\n",
       "      <td>0.62</td>\n",
       "      <td>9.970391</td>\n",
       "      <td>0.75</td>\n",
       "      <td>9.723352</td>\n",
       "    </tr>\n",
       "    <tr>\n",
       "      <th>50398</th>\n",
       "      <td>50398</td>\n",
       "      <td>12</td>\n",
       "      <td>13</td>\n",
       "      <td>14</td>\n",
       "      <td>15</td>\n",
       "      <td>10.481168</td>\n",
       "      <td>0.62</td>\n",
       "      <td>6.419645</td>\n",
       "      <td>0.62</td>\n",
       "      <td>-10.000000</td>\n",
       "      <td>0.00</td>\n",
       "      <td>-10.000000</td>\n",
       "      <td>0.00</td>\n",
       "      <td>9.970391</td>\n",
       "      <td>0.75</td>\n",
       "      <td>9.970391</td>\n",
       "      <td>0.75</td>\n",
       "      <td>9.723352</td>\n",
       "    </tr>\n",
       "    <tr>\n",
       "      <th>50399</th>\n",
       "      <td>50399</td>\n",
       "      <td>11</td>\n",
       "      <td>13</td>\n",
       "      <td>14</td>\n",
       "      <td>15</td>\n",
       "      <td>3.581769</td>\n",
       "      <td>0.62</td>\n",
       "      <td>3.595412</td>\n",
       "      <td>0.62</td>\n",
       "      <td>2.446715</td>\n",
       "      <td>0.50</td>\n",
       "      <td>6.954754</td>\n",
       "      <td>0.62</td>\n",
       "      <td>-10.000000</td>\n",
       "      <td>0.00</td>\n",
       "      <td>6.954754</td>\n",
       "      <td>0.62</td>\n",
       "      <td>6.879279</td>\n",
       "    </tr>\n",
       "  </tbody>\n",
       "</table>\n",
       "<p>50400 rows × 18 columns</p>\n",
       "</div>"
      ],
      "text/plain": [
       "       Unnamed: 0  Player  Goal  Wall  Pit  Q_Current  Reward_Current  \\\n",
       "0               0       0     2     1    0  -0.356023            0.50   \n",
       "1               1       2     2     1    0   9.709291            0.75   \n",
       "2               2       3     2     1    0   7.962252            0.62   \n",
       "3               3       4     2     1    0   2.647438            0.62   \n",
       "4               4       5     2     1    0   6.384776            0.62   \n",
       "...           ...     ...   ...   ...  ...        ...             ...   \n",
       "50395       50395       8    13    14   15   6.419645            0.62   \n",
       "50396       50396      13    13    14   15   9.970391            0.75   \n",
       "50397       50397       9    13    14   15   6.489353            0.62   \n",
       "50398       50398      12    13    14   15  10.481168            0.62   \n",
       "50399       50399      11    13    14   15   3.581769            0.62   \n",
       "\n",
       "         Q1_Next  Reward_1_Next    Q2_Next  Reward_2_Next    Q3_Next  \\\n",
       "0     -10.000000           0.00   2.647438           0.62 -10.000000   \n",
       "1     -10.000000           0.00   7.422089           0.62 -10.000000   \n",
       "2     -10.000000           0.00   6.114790           0.62   9.709291   \n",
       "3      -0.356023           0.50   2.080958           0.62 -10.000000   \n",
       "4     -10.000000           0.00   3.147437           0.62   2.647438   \n",
       "...          ...            ...        ...            ...        ...   \n",
       "50395   4.150536           0.62  10.481168           0.62 -10.000000   \n",
       "50396   6.489353           0.62 -10.000000           0.00  10.481168   \n",
       "50397   3.969529           0.62   9.970391           0.75   6.419645   \n",
       "50398   6.419645           0.62 -10.000000           0.00 -10.000000   \n",
       "50399   3.595412           0.62   2.446715           0.50   6.954754   \n",
       "\n",
       "       Reward_3_Next    Q4_Next  Reward_4_Next  Max_Q_Next  Reward_Max_Next  \\\n",
       "0               0.00 -10.000000           0.00    2.647438             0.62   \n",
       "1               0.00   7.962252           0.62    7.962252             0.62   \n",
       "2               0.75 -10.000000           0.00    9.709291             0.75   \n",
       "3               0.00   6.384776           0.62    6.384776             0.62   \n",
       "4               0.62   7.422089           0.62    7.422089             0.62   \n",
       "...              ...        ...            ...         ...              ...   \n",
       "50395           0.00   6.489353           0.62   10.481168             0.62   \n",
       "50396           0.62 -10.000000           0.00   10.481168             0.62   \n",
       "50397           0.62   6.954754           0.62    9.970391             0.75   \n",
       "50398           0.00   9.970391           0.75    9.970391             0.75   \n",
       "50399           0.62 -10.000000           0.00    6.954754             0.62   \n",
       "\n",
       "       Bellman_Operator  \n",
       "0              3.002694  \n",
       "1             10.000000  \n",
       "2              9.488361  \n",
       "3              6.366299  \n",
       "4              7.299880  \n",
       "...                 ...  \n",
       "50395         10.000000  \n",
       "50396         10.000000  \n",
       "50397          9.723352  \n",
       "50398          9.723352  \n",
       "50399          6.879279  \n",
       "\n",
       "[50400 rows x 18 columns]"
      ]
     },
     "execution_count": 8,
     "metadata": {},
     "output_type": "execute_result"
    }
   ],
   "source": [
    "df = pd.read_csv(\"Reward_Changes_2.csv\")\n",
    "df"
   ]
  },
  {
   "cell_type": "code",
   "execution_count": 9,
   "id": "af7b8d16-64b3-4ab0-bf47-dfae58753d7f",
   "metadata": {},
   "outputs": [
    {
     "data": {
      "text/html": [
       "<div>\n",
       "<style scoped>\n",
       "    .dataframe tbody tr th:only-of-type {\n",
       "        vertical-align: middle;\n",
       "    }\n",
       "\n",
       "    .dataframe tbody tr th {\n",
       "        vertical-align: top;\n",
       "    }\n",
       "\n",
       "    .dataframe thead th {\n",
       "        text-align: right;\n",
       "    }\n",
       "</style>\n",
       "<table border=\"1\" class=\"dataframe\">\n",
       "  <thead>\n",
       "    <tr style=\"text-align: right;\">\n",
       "      <th></th>\n",
       "      <th>Unnamed: 0</th>\n",
       "      <th>Player</th>\n",
       "      <th>Goal</th>\n",
       "      <th>Wall</th>\n",
       "      <th>Pit</th>\n",
       "      <th>Q_Current</th>\n",
       "      <th>Reward_Current</th>\n",
       "      <th>Q1_Next</th>\n",
       "      <th>Reward_1_Next</th>\n",
       "      <th>Q2_Next</th>\n",
       "      <th>Reward_2_Next</th>\n",
       "      <th>Q3_Next</th>\n",
       "      <th>Reward_3_Next</th>\n",
       "      <th>Q4_Next</th>\n",
       "      <th>Reward_4_Next</th>\n",
       "      <th>Max_Q_Next</th>\n",
       "      <th>Reward_Max_Next</th>\n",
       "      <th>Bellman_Operator</th>\n",
       "    </tr>\n",
       "  </thead>\n",
       "  <tbody>\n",
       "    <tr>\n",
       "      <th>0</th>\n",
       "      <td>0</td>\n",
       "      <td>0</td>\n",
       "      <td>2</td>\n",
       "      <td>1</td>\n",
       "      <td>0</td>\n",
       "      <td>-0.356023</td>\n",
       "      <td>0.50</td>\n",
       "      <td>-10.000000</td>\n",
       "      <td>0.00</td>\n",
       "      <td>2.647438</td>\n",
       "      <td>0.62</td>\n",
       "      <td>-10.000000</td>\n",
       "      <td>0.00</td>\n",
       "      <td>-10.000000</td>\n",
       "      <td>0.00</td>\n",
       "      <td>2.647438</td>\n",
       "      <td>0.62</td>\n",
       "      <td>3.002694</td>\n",
       "    </tr>\n",
       "    <tr>\n",
       "      <th>1</th>\n",
       "      <td>1</td>\n",
       "      <td>2</td>\n",
       "      <td>2</td>\n",
       "      <td>1</td>\n",
       "      <td>0</td>\n",
       "      <td>9.709291</td>\n",
       "      <td>0.75</td>\n",
       "      <td>-10.000000</td>\n",
       "      <td>0.00</td>\n",
       "      <td>7.422089</td>\n",
       "      <td>0.62</td>\n",
       "      <td>-10.000000</td>\n",
       "      <td>0.00</td>\n",
       "      <td>7.962252</td>\n",
       "      <td>0.62</td>\n",
       "      <td>7.962252</td>\n",
       "      <td>0.62</td>\n",
       "      <td>10.000000</td>\n",
       "    </tr>\n",
       "    <tr>\n",
       "      <th>2</th>\n",
       "      <td>2</td>\n",
       "      <td>3</td>\n",
       "      <td>2</td>\n",
       "      <td>1</td>\n",
       "      <td>0</td>\n",
       "      <td>7.962252</td>\n",
       "      <td>0.62</td>\n",
       "      <td>-10.000000</td>\n",
       "      <td>0.00</td>\n",
       "      <td>6.114790</td>\n",
       "      <td>0.62</td>\n",
       "      <td>9.709291</td>\n",
       "      <td>0.75</td>\n",
       "      <td>-10.000000</td>\n",
       "      <td>0.00</td>\n",
       "      <td>9.709291</td>\n",
       "      <td>0.75</td>\n",
       "      <td>9.488361</td>\n",
       "    </tr>\n",
       "    <tr>\n",
       "      <th>3</th>\n",
       "      <td>3</td>\n",
       "      <td>4</td>\n",
       "      <td>2</td>\n",
       "      <td>1</td>\n",
       "      <td>0</td>\n",
       "      <td>2.647438</td>\n",
       "      <td>0.62</td>\n",
       "      <td>-0.356023</td>\n",
       "      <td>0.50</td>\n",
       "      <td>2.080958</td>\n",
       "      <td>0.62</td>\n",
       "      <td>-10.000000</td>\n",
       "      <td>0.00</td>\n",
       "      <td>6.384776</td>\n",
       "      <td>0.62</td>\n",
       "      <td>6.384776</td>\n",
       "      <td>0.62</td>\n",
       "      <td>6.366299</td>\n",
       "    </tr>\n",
       "    <tr>\n",
       "      <th>4</th>\n",
       "      <td>4</td>\n",
       "      <td>5</td>\n",
       "      <td>2</td>\n",
       "      <td>1</td>\n",
       "      <td>0</td>\n",
       "      <td>6.384776</td>\n",
       "      <td>0.62</td>\n",
       "      <td>-10.000000</td>\n",
       "      <td>0.00</td>\n",
       "      <td>3.147437</td>\n",
       "      <td>0.62</td>\n",
       "      <td>2.647438</td>\n",
       "      <td>0.62</td>\n",
       "      <td>7.422089</td>\n",
       "      <td>0.62</td>\n",
       "      <td>7.422089</td>\n",
       "      <td>0.62</td>\n",
       "      <td>7.299880</td>\n",
       "    </tr>\n",
       "    <tr>\n",
       "      <th>...</th>\n",
       "      <td>...</td>\n",
       "      <td>...</td>\n",
       "      <td>...</td>\n",
       "      <td>...</td>\n",
       "      <td>...</td>\n",
       "      <td>...</td>\n",
       "      <td>...</td>\n",
       "      <td>...</td>\n",
       "      <td>...</td>\n",
       "      <td>...</td>\n",
       "      <td>...</td>\n",
       "      <td>...</td>\n",
       "      <td>...</td>\n",
       "      <td>...</td>\n",
       "      <td>...</td>\n",
       "      <td>...</td>\n",
       "      <td>...</td>\n",
       "      <td>...</td>\n",
       "    </tr>\n",
       "    <tr>\n",
       "      <th>50395</th>\n",
       "      <td>50395</td>\n",
       "      <td>8</td>\n",
       "      <td>13</td>\n",
       "      <td>14</td>\n",
       "      <td>15</td>\n",
       "      <td>6.419645</td>\n",
       "      <td>0.62</td>\n",
       "      <td>4.150536</td>\n",
       "      <td>0.62</td>\n",
       "      <td>10.481168</td>\n",
       "      <td>0.62</td>\n",
       "      <td>-10.000000</td>\n",
       "      <td>0.00</td>\n",
       "      <td>6.489353</td>\n",
       "      <td>0.62</td>\n",
       "      <td>10.481168</td>\n",
       "      <td>0.62</td>\n",
       "      <td>10.000000</td>\n",
       "    </tr>\n",
       "    <tr>\n",
       "      <th>50396</th>\n",
       "      <td>50396</td>\n",
       "      <td>13</td>\n",
       "      <td>13</td>\n",
       "      <td>14</td>\n",
       "      <td>15</td>\n",
       "      <td>9.970391</td>\n",
       "      <td>0.75</td>\n",
       "      <td>6.489353</td>\n",
       "      <td>0.62</td>\n",
       "      <td>-10.000000</td>\n",
       "      <td>0.00</td>\n",
       "      <td>10.481168</td>\n",
       "      <td>0.62</td>\n",
       "      <td>-10.000000</td>\n",
       "      <td>0.00</td>\n",
       "      <td>10.481168</td>\n",
       "      <td>0.62</td>\n",
       "      <td>10.000000</td>\n",
       "    </tr>\n",
       "    <tr>\n",
       "      <th>50397</th>\n",
       "      <td>50397</td>\n",
       "      <td>9</td>\n",
       "      <td>13</td>\n",
       "      <td>14</td>\n",
       "      <td>15</td>\n",
       "      <td>6.489353</td>\n",
       "      <td>0.62</td>\n",
       "      <td>3.969529</td>\n",
       "      <td>0.62</td>\n",
       "      <td>9.970391</td>\n",
       "      <td>0.75</td>\n",
       "      <td>6.419645</td>\n",
       "      <td>0.62</td>\n",
       "      <td>6.954754</td>\n",
       "      <td>0.62</td>\n",
       "      <td>9.970391</td>\n",
       "      <td>0.75</td>\n",
       "      <td>9.723352</td>\n",
       "    </tr>\n",
       "    <tr>\n",
       "      <th>50398</th>\n",
       "      <td>50398</td>\n",
       "      <td>12</td>\n",
       "      <td>13</td>\n",
       "      <td>14</td>\n",
       "      <td>15</td>\n",
       "      <td>10.481168</td>\n",
       "      <td>0.62</td>\n",
       "      <td>6.419645</td>\n",
       "      <td>0.62</td>\n",
       "      <td>-10.000000</td>\n",
       "      <td>0.00</td>\n",
       "      <td>-10.000000</td>\n",
       "      <td>0.00</td>\n",
       "      <td>9.970391</td>\n",
       "      <td>0.75</td>\n",
       "      <td>9.970391</td>\n",
       "      <td>0.75</td>\n",
       "      <td>9.723352</td>\n",
       "    </tr>\n",
       "    <tr>\n",
       "      <th>50399</th>\n",
       "      <td>50399</td>\n",
       "      <td>11</td>\n",
       "      <td>13</td>\n",
       "      <td>14</td>\n",
       "      <td>15</td>\n",
       "      <td>3.581769</td>\n",
       "      <td>0.62</td>\n",
       "      <td>3.595412</td>\n",
       "      <td>0.62</td>\n",
       "      <td>2.446715</td>\n",
       "      <td>0.50</td>\n",
       "      <td>6.954754</td>\n",
       "      <td>0.62</td>\n",
       "      <td>-10.000000</td>\n",
       "      <td>0.00</td>\n",
       "      <td>6.954754</td>\n",
       "      <td>0.62</td>\n",
       "      <td>6.879279</td>\n",
       "    </tr>\n",
       "  </tbody>\n",
       "</table>\n",
       "<p>50400 rows × 18 columns</p>\n",
       "</div>"
      ],
      "text/plain": [
       "       Unnamed: 0  Player  Goal  Wall  Pit  Q_Current  Reward_Current  \\\n",
       "0               0       0     2     1    0  -0.356023            0.50   \n",
       "1               1       2     2     1    0   9.709291            0.75   \n",
       "2               2       3     2     1    0   7.962252            0.62   \n",
       "3               3       4     2     1    0   2.647438            0.62   \n",
       "4               4       5     2     1    0   6.384776            0.62   \n",
       "...           ...     ...   ...   ...  ...        ...             ...   \n",
       "50395       50395       8    13    14   15   6.419645            0.62   \n",
       "50396       50396      13    13    14   15   9.970391            0.75   \n",
       "50397       50397       9    13    14   15   6.489353            0.62   \n",
       "50398       50398      12    13    14   15  10.481168            0.62   \n",
       "50399       50399      11    13    14   15   3.581769            0.62   \n",
       "\n",
       "         Q1_Next  Reward_1_Next    Q2_Next  Reward_2_Next    Q3_Next  \\\n",
       "0     -10.000000           0.00   2.647438           0.62 -10.000000   \n",
       "1     -10.000000           0.00   7.422089           0.62 -10.000000   \n",
       "2     -10.000000           0.00   6.114790           0.62   9.709291   \n",
       "3      -0.356023           0.50   2.080958           0.62 -10.000000   \n",
       "4     -10.000000           0.00   3.147437           0.62   2.647438   \n",
       "...          ...            ...        ...            ...        ...   \n",
       "50395   4.150536           0.62  10.481168           0.62 -10.000000   \n",
       "50396   6.489353           0.62 -10.000000           0.00  10.481168   \n",
       "50397   3.969529           0.62   9.970391           0.75   6.419645   \n",
       "50398   6.419645           0.62 -10.000000           0.00 -10.000000   \n",
       "50399   3.595412           0.62   2.446715           0.50   6.954754   \n",
       "\n",
       "       Reward_3_Next    Q4_Next  Reward_4_Next  Max_Q_Next  Reward_Max_Next  \\\n",
       "0               0.00 -10.000000           0.00    2.647438             0.62   \n",
       "1               0.00   7.962252           0.62    7.962252             0.62   \n",
       "2               0.75 -10.000000           0.00    9.709291             0.75   \n",
       "3               0.00   6.384776           0.62    6.384776             0.62   \n",
       "4               0.62   7.422089           0.62    7.422089             0.62   \n",
       "...              ...        ...            ...         ...              ...   \n",
       "50395           0.00   6.489353           0.62   10.481168             0.62   \n",
       "50396           0.62 -10.000000           0.00   10.481168             0.62   \n",
       "50397           0.62   6.954754           0.62    9.970391             0.75   \n",
       "50398           0.00   9.970391           0.75    9.970391             0.75   \n",
       "50399           0.62 -10.000000           0.00    6.954754             0.62   \n",
       "\n",
       "       Bellman_Operator  \n",
       "0              3.002694  \n",
       "1             10.000000  \n",
       "2              9.488361  \n",
       "3              6.366299  \n",
       "4              7.299880  \n",
       "...                 ...  \n",
       "50395         10.000000  \n",
       "50396         10.000000  \n",
       "50397          9.723352  \n",
       "50398          9.723352  \n",
       "50399          6.879279  \n",
       "\n",
       "[50400 rows x 18 columns]"
      ]
     },
     "execution_count": 9,
     "metadata": {},
     "output_type": "execute_result"
    }
   ],
   "source": [
    "no_dup_df = df\n",
    "no_dup_df"
   ]
  },
  {
   "cell_type": "markdown",
   "id": "2be45399-c6a8-4bce-b440-39b2bb10917e",
   "metadata": {},
   "source": [
    "## Bellman Opeartor 100%"
   ]
  },
  {
   "cell_type": "code",
   "execution_count": 31,
   "id": "e1c7e3de-9866-48e5-b2d7-bd0a5ade6b9d",
   "metadata": {},
   "outputs": [],
   "source": [
    "from sklearn.model_selection import train_test_split\n",
    "X = no_dup_df[['Player','Pit', 'Goal', 'Wall']]\n",
    "y = no_dup_df[['Bellman_Operator']]\n",
    "X_train, X_test, y_train, y_test = train_test_split(X, y, test_size = 1/10, random_state = 0)"
   ]
  },
  {
   "cell_type": "code",
   "execution_count": 32,
   "id": "8c2a1ee1-656d-4679-8887-d224126f6223",
   "metadata": {},
   "outputs": [],
   "source": [
    "mlp = MLPRegressor(hidden_layer_sizes=(200,120), max_iter=300, activation = 'relu', solver='adam', random_state=123)"
   ]
  },
  {
   "cell_type": "code",
   "execution_count": 33,
   "id": "1f2ddb17-6ff2-4997-9821-112dd566b11e",
   "metadata": {},
   "outputs": [
    {
     "name": "stderr",
     "output_type": "stream",
     "text": [
      "D:\\Conda\\lib\\site-packages\\sklearn\\neural_network\\_multilayer_perceptron.py:702: ConvergenceWarning: Stochastic Optimizer: Maximum iterations (300) reached and the optimization hasn't converged yet.\n",
      "  warnings.warn(\n"
     ]
    },
    {
     "data": {
      "text/html": [
       "<style>#sk-container-id-5 {color: black;background-color: white;}#sk-container-id-5 pre{padding: 0;}#sk-container-id-5 div.sk-toggleable {background-color: white;}#sk-container-id-5 label.sk-toggleable__label {cursor: pointer;display: block;width: 100%;margin-bottom: 0;padding: 0.3em;box-sizing: border-box;text-align: center;}#sk-container-id-5 label.sk-toggleable__label-arrow:before {content: \"▸\";float: left;margin-right: 0.25em;color: #696969;}#sk-container-id-5 label.sk-toggleable__label-arrow:hover:before {color: black;}#sk-container-id-5 div.sk-estimator:hover label.sk-toggleable__label-arrow:before {color: black;}#sk-container-id-5 div.sk-toggleable__content {max-height: 0;max-width: 0;overflow: hidden;text-align: left;background-color: #f0f8ff;}#sk-container-id-5 div.sk-toggleable__content pre {margin: 0.2em;color: black;border-radius: 0.25em;background-color: #f0f8ff;}#sk-container-id-5 input.sk-toggleable__control:checked~div.sk-toggleable__content {max-height: 200px;max-width: 100%;overflow: auto;}#sk-container-id-5 input.sk-toggleable__control:checked~label.sk-toggleable__label-arrow:before {content: \"▾\";}#sk-container-id-5 div.sk-estimator input.sk-toggleable__control:checked~label.sk-toggleable__label {background-color: #d4ebff;}#sk-container-id-5 div.sk-label input.sk-toggleable__control:checked~label.sk-toggleable__label {background-color: #d4ebff;}#sk-container-id-5 input.sk-hidden--visually {border: 0;clip: rect(1px 1px 1px 1px);clip: rect(1px, 1px, 1px, 1px);height: 1px;margin: -1px;overflow: hidden;padding: 0;position: absolute;width: 1px;}#sk-container-id-5 div.sk-estimator {font-family: monospace;background-color: #f0f8ff;border: 1px dotted black;border-radius: 0.25em;box-sizing: border-box;margin-bottom: 0.5em;}#sk-container-id-5 div.sk-estimator:hover {background-color: #d4ebff;}#sk-container-id-5 div.sk-parallel-item::after {content: \"\";width: 100%;border-bottom: 1px solid gray;flex-grow: 1;}#sk-container-id-5 div.sk-label:hover label.sk-toggleable__label {background-color: #d4ebff;}#sk-container-id-5 div.sk-serial::before {content: \"\";position: absolute;border-left: 1px solid gray;box-sizing: border-box;top: 0;bottom: 0;left: 50%;z-index: 0;}#sk-container-id-5 div.sk-serial {display: flex;flex-direction: column;align-items: center;background-color: white;padding-right: 0.2em;padding-left: 0.2em;position: relative;}#sk-container-id-5 div.sk-item {position: relative;z-index: 1;}#sk-container-id-5 div.sk-parallel {display: flex;align-items: stretch;justify-content: center;background-color: white;position: relative;}#sk-container-id-5 div.sk-item::before, #sk-container-id-5 div.sk-parallel-item::before {content: \"\";position: absolute;border-left: 1px solid gray;box-sizing: border-box;top: 0;bottom: 0;left: 50%;z-index: -1;}#sk-container-id-5 div.sk-parallel-item {display: flex;flex-direction: column;z-index: 1;position: relative;background-color: white;}#sk-container-id-5 div.sk-parallel-item:first-child::after {align-self: flex-end;width: 50%;}#sk-container-id-5 div.sk-parallel-item:last-child::after {align-self: flex-start;width: 50%;}#sk-container-id-5 div.sk-parallel-item:only-child::after {width: 0;}#sk-container-id-5 div.sk-dashed-wrapped {border: 1px dashed gray;margin: 0 0.4em 0.5em 0.4em;box-sizing: border-box;padding-bottom: 0.4em;background-color: white;}#sk-container-id-5 div.sk-label label {font-family: monospace;font-weight: bold;display: inline-block;line-height: 1.2em;}#sk-container-id-5 div.sk-label-container {text-align: center;}#sk-container-id-5 div.sk-container {/* jupyter's `normalize.less` sets `[hidden] { display: none; }` but bootstrap.min.css set `[hidden] { display: none !important; }` so we also need the `!important` here to be able to override the default hidden behavior on the sphinx rendered scikit-learn.org. See: https://github.com/scikit-learn/scikit-learn/issues/21755 */display: inline-block !important;position: relative;}#sk-container-id-5 div.sk-text-repr-fallback {display: none;}</style><div id=\"sk-container-id-5\" class=\"sk-top-container\"><div class=\"sk-text-repr-fallback\"><pre>MLPRegressor(hidden_layer_sizes=(200, 120), max_iter=300, random_state=123)</pre><b>In a Jupyter environment, please rerun this cell to show the HTML representation or trust the notebook. <br />On GitHub, the HTML representation is unable to render, please try loading this page with nbviewer.org.</b></div><div class=\"sk-container\" hidden><div class=\"sk-item\"><div class=\"sk-estimator sk-toggleable\"><input class=\"sk-toggleable__control sk-hidden--visually\" id=\"sk-estimator-id-5\" type=\"checkbox\" checked><label for=\"sk-estimator-id-5\" class=\"sk-toggleable__label sk-toggleable__label-arrow\">MLPRegressor</label><div class=\"sk-toggleable__content\"><pre>MLPRegressor(hidden_layer_sizes=(200, 120), max_iter=300, random_state=123)</pre></div></div></div></div></div>"
      ],
      "text/plain": [
       "MLPRegressor(hidden_layer_sizes=(200, 120), max_iter=300, random_state=123)"
      ]
     },
     "execution_count": 33,
     "metadata": {},
     "output_type": "execute_result"
    }
   ],
   "source": [
    "mlp.fit(X.values,y.values.ravel())"
   ]
  },
  {
   "cell_type": "code",
   "execution_count": 34,
   "id": "db8fdbe1-eb63-4f2a-9861-fb962fcfff9f",
   "metadata": {},
   "outputs": [],
   "source": [
    "h = 0\n",
    "w, h = 13, 300000\n",
    "experience_mlp = [[0 for x in range(w)] for y in range(h)] \n",
    "\n",
    "global counter\n",
    "counter = 0"
   ]
  },
  {
   "cell_type": "code",
   "execution_count": 35,
   "id": "87e0ab08-66a7-407a-8ee7-09319f57612a",
   "metadata": {},
   "outputs": [],
   "source": [
    "def mlp_test_model(model_b, experience, mode='static', display=True):\n",
    "    global counter\n",
    "    i = 0\n",
    "    test_game = Gridworld(mode=mode)\n",
    "    if display:\n",
    "        print(\"Initial State:\")\n",
    "        print(test_game.display())\n",
    "    status = 1\n",
    "    j = 0\n",
    "    while(status == 1): #A\n",
    "        p_curr = from2dto1d((str(test_game.board.components['Player'].pos)))\n",
    "        pi = from2dto1d((str(test_game.board.components['Pit'].pos)))\n",
    "        g = from2dto1d((str(test_game.board.components['Goal'].pos)))\n",
    "        w = from2dto1d((str(test_game.board.components['Wall'].pos)))\n",
    "\n",
    "        q_value_next = []\n",
    "\n",
    "        test_game.makeMove('u')\n",
    "        p = from2dto1d((str(test_game.board.components['Player'].pos)))\n",
    "        \n",
    "        if p_curr != p:\n",
    "            en0,en1,en2,en3,en4,en5,en6,en7,en8,en9,en10,en11,en12,en13,en14,en15 = from_num_to_one_hot_encode(p)\n",
    "            reward = test_game.reward()\n",
    "            q_value_next.append(model_b.predict([[p,pi,g,w]])[0])\n",
    "            test_game.makeMove('d')\n",
    "        else:\n",
    "            q_value_next.append(-10)\n",
    "        \n",
    "        test_game.makeMove('d')\n",
    "        p = from2dto1d((str(test_game.board.components['Player'].pos)))\n",
    "        \n",
    "        if p_curr != p:\n",
    "            en0,en1,en2,en3,en4,en5,en6,en7,en8,en9,en10,en11,en12,en13,en14,en15 = from_num_to_one_hot_encode(p)\n",
    "            reward = test_game.reward()\n",
    "            q_value_next.append(model_b.predict([[p,pi,g,w]])[0])\n",
    "            test_game.makeMove('u')\n",
    "        else:\n",
    "            q_value_next.append(-10)\n",
    "        \n",
    "        test_game.makeMove('l')\n",
    "        p = from2dto1d((str(test_game.board.components['Player'].pos)))\n",
    "        \n",
    "\n",
    "        if p_curr != p:\n",
    "            test_game.makeMove('r')\n",
    "            en0,en1,en2,en3,en4,en5,en6,en7,en8,en9,en10,en11,en12,en13,en14,en15 = from_num_to_one_hot_encode(p)\n",
    "            reward = test_game.reward()\n",
    "            q_value_next.append(model_b.predict([[p,pi,g,w]])[0])\n",
    "        else:\n",
    "            q_value_next.append(-10)\n",
    "        \n",
    "        test_game.makeMove('r')\n",
    "        p = from2dto1d((str(test_game.board.components['Player'].pos)))\n",
    "        \n",
    "\n",
    "        if p_curr != p:\n",
    "            en0,en1,en2,en3,en4,en5,en6,en7,en8,en9,en10,en11,en12,en13,en14,en15 = from_num_to_one_hot_encode(p)\n",
    "            reward = test_game.reward()\n",
    "            q_value_next.append(model_b.predict([[p,pi,g,w]])[0])\n",
    "            test_game.makeMove('l')\n",
    "        else:\n",
    "            q_value_next.append(-10)\n",
    "        \n",
    "#         print(q_value_next)\n",
    "        \n",
    "        \n",
    "        action_ = np.argmax(q_value_next)\n",
    "#         print(action_)\n",
    "        action = action_set[action_]\n",
    "        \n",
    "        experience[counter][0] = p_curr\n",
    "        experience[counter][1] = pi\n",
    "        experience[counter][2] = g\n",
    "        experience[counter][3] = w\n",
    "        experience[counter][4] = action_\n",
    "        \n",
    "    \n",
    "        if display:\n",
    "            print('Move #: %s; Taking action: %s' % (i, action))\n",
    "        test_game.makeMove(action)\n",
    "        p_next = from2dto1d((str(test_game.board.components['Player'].pos)))\n",
    "        experience[counter][5] = p_next\n",
    "        \n",
    "        j += 1\n",
    "        if display:\n",
    "            print(test_game.display())\n",
    "        reward = test_game.reward()\n",
    "        experience[counter][6] = reward\n",
    "        if reward > -1:\n",
    "            experience[counter][7] = True\n",
    "        else:\n",
    "            experience[counter][7] = False\n",
    "        experience[counter][8] =  q_value_next[action_]\n",
    "        experience[counter][9] = q_value_next[0]\n",
    "        experience[counter][10] = q_value_next[1]\n",
    "        experience[counter][11] = q_value_next[2]\n",
    "        experience[counter][12] = q_value_next[3]\n",
    "        if reward != -1:\n",
    "            if reward > 0:\n",
    "                status = 2\n",
    "                if display:\n",
    "                    print(\"Game won! Reward: %s\" % (reward,))\n",
    "            else:\n",
    "                status = 0\n",
    "                if display:\n",
    "                    print(\"Game LOST. Reward: %s\" % (reward,))\n",
    "        counter += 1\n",
    "        i += 1\n",
    "        if (i > 15):\n",
    "            if display:\n",
    "                print(\"Game lost; too many moves.\")\n",
    "            break\n",
    "    \n",
    "    win = True if status == 2 else False\n",
    "    return win"
   ]
  },
  {
   "cell_type": "code",
   "execution_count": 36,
   "id": "31d808f2-26f0-42ec-a91c-33ac39f0ed0a",
   "metadata": {},
   "outputs": [
    {
     "name": "stdout",
     "output_type": "stream",
     "text": [
      "Games played: 1000, # of wins: 880\n",
      "0.88\n",
      "0.88\n",
      "Games played: 1000, # of wins: 869\n",
      "0.869\n",
      "1.749\n",
      "Games played: 1000, # of wins: 881\n",
      "0.881\n",
      "2.63\n",
      "Games played: 1000, # of wins: 892\n",
      "0.892\n",
      "3.522\n",
      "Games played: 1000, # of wins: 894\n",
      "0.894\n",
      "4.4159999999999995\n",
      "Games played: 1000, # of wins: 884\n",
      "0.884\n",
      "5.3\n",
      "Games played: 1000, # of wins: 890\n",
      "0.89\n",
      "6.1899999999999995\n",
      "Games played: 1000, # of wins: 864\n",
      "0.864\n",
      "7.053999999999999\n",
      "Games played: 1000, # of wins: 886\n",
      "0.886\n",
      "7.9399999999999995\n",
      "Games played: 1000, # of wins: 888\n",
      "0.888\n",
      "8.828\n",
      "Win percentage: 88.27999999999999%\n"
     ]
    }
   ],
   "source": [
    "win_num = 0\n",
    "for i in range(0,10):\n",
    "    max_games = 1000\n",
    "    wins = 0\n",
    "    for i in range(max_games):\n",
    "        win = mlp_test_model(mlp, experience_mlp, 'random', display = False)\n",
    "        if win:\n",
    "            wins += 1\n",
    "    win_perc = float(wins) / float(max_games)\n",
    "    win_num = win_num + win_perc\n",
    "    print(\"Games played: {0}, # of wins: {1}\".format(max_games,wins))\n",
    "    print(win_perc)\n",
    "    print(win_num)\n",
    "win_num = win_num / 10\n",
    "print(\"Win percentage: {}%\".format(win_num*100))"
   ]
  },
  {
   "cell_type": "markdown",
   "id": "a5e29ce4-80ce-44f9-b2f3-7af4a8936e85",
   "metadata": {},
   "source": [
    "## Q-Value 100%"
   ]
  },
  {
   "cell_type": "code",
   "execution_count": 37,
   "id": "20054cbd-23f8-448c-aecc-a9f0c7abf8be",
   "metadata": {},
   "outputs": [
    {
     "data": {
      "text/html": [
       "<style>#sk-container-id-6 {color: black;background-color: white;}#sk-container-id-6 pre{padding: 0;}#sk-container-id-6 div.sk-toggleable {background-color: white;}#sk-container-id-6 label.sk-toggleable__label {cursor: pointer;display: block;width: 100%;margin-bottom: 0;padding: 0.3em;box-sizing: border-box;text-align: center;}#sk-container-id-6 label.sk-toggleable__label-arrow:before {content: \"▸\";float: left;margin-right: 0.25em;color: #696969;}#sk-container-id-6 label.sk-toggleable__label-arrow:hover:before {color: black;}#sk-container-id-6 div.sk-estimator:hover label.sk-toggleable__label-arrow:before {color: black;}#sk-container-id-6 div.sk-toggleable__content {max-height: 0;max-width: 0;overflow: hidden;text-align: left;background-color: #f0f8ff;}#sk-container-id-6 div.sk-toggleable__content pre {margin: 0.2em;color: black;border-radius: 0.25em;background-color: #f0f8ff;}#sk-container-id-6 input.sk-toggleable__control:checked~div.sk-toggleable__content {max-height: 200px;max-width: 100%;overflow: auto;}#sk-container-id-6 input.sk-toggleable__control:checked~label.sk-toggleable__label-arrow:before {content: \"▾\";}#sk-container-id-6 div.sk-estimator input.sk-toggleable__control:checked~label.sk-toggleable__label {background-color: #d4ebff;}#sk-container-id-6 div.sk-label input.sk-toggleable__control:checked~label.sk-toggleable__label {background-color: #d4ebff;}#sk-container-id-6 input.sk-hidden--visually {border: 0;clip: rect(1px 1px 1px 1px);clip: rect(1px, 1px, 1px, 1px);height: 1px;margin: -1px;overflow: hidden;padding: 0;position: absolute;width: 1px;}#sk-container-id-6 div.sk-estimator {font-family: monospace;background-color: #f0f8ff;border: 1px dotted black;border-radius: 0.25em;box-sizing: border-box;margin-bottom: 0.5em;}#sk-container-id-6 div.sk-estimator:hover {background-color: #d4ebff;}#sk-container-id-6 div.sk-parallel-item::after {content: \"\";width: 100%;border-bottom: 1px solid gray;flex-grow: 1;}#sk-container-id-6 div.sk-label:hover label.sk-toggleable__label {background-color: #d4ebff;}#sk-container-id-6 div.sk-serial::before {content: \"\";position: absolute;border-left: 1px solid gray;box-sizing: border-box;top: 0;bottom: 0;left: 50%;z-index: 0;}#sk-container-id-6 div.sk-serial {display: flex;flex-direction: column;align-items: center;background-color: white;padding-right: 0.2em;padding-left: 0.2em;position: relative;}#sk-container-id-6 div.sk-item {position: relative;z-index: 1;}#sk-container-id-6 div.sk-parallel {display: flex;align-items: stretch;justify-content: center;background-color: white;position: relative;}#sk-container-id-6 div.sk-item::before, #sk-container-id-6 div.sk-parallel-item::before {content: \"\";position: absolute;border-left: 1px solid gray;box-sizing: border-box;top: 0;bottom: 0;left: 50%;z-index: -1;}#sk-container-id-6 div.sk-parallel-item {display: flex;flex-direction: column;z-index: 1;position: relative;background-color: white;}#sk-container-id-6 div.sk-parallel-item:first-child::after {align-self: flex-end;width: 50%;}#sk-container-id-6 div.sk-parallel-item:last-child::after {align-self: flex-start;width: 50%;}#sk-container-id-6 div.sk-parallel-item:only-child::after {width: 0;}#sk-container-id-6 div.sk-dashed-wrapped {border: 1px dashed gray;margin: 0 0.4em 0.5em 0.4em;box-sizing: border-box;padding-bottom: 0.4em;background-color: white;}#sk-container-id-6 div.sk-label label {font-family: monospace;font-weight: bold;display: inline-block;line-height: 1.2em;}#sk-container-id-6 div.sk-label-container {text-align: center;}#sk-container-id-6 div.sk-container {/* jupyter's `normalize.less` sets `[hidden] { display: none; }` but bootstrap.min.css set `[hidden] { display: none !important; }` so we also need the `!important` here to be able to override the default hidden behavior on the sphinx rendered scikit-learn.org. See: https://github.com/scikit-learn/scikit-learn/issues/21755 */display: inline-block !important;position: relative;}#sk-container-id-6 div.sk-text-repr-fallback {display: none;}</style><div id=\"sk-container-id-6\" class=\"sk-top-container\"><div class=\"sk-text-repr-fallback\"><pre>MLPRegressor(hidden_layer_sizes=(200, 120), max_iter=300, random_state=123)</pre><b>In a Jupyter environment, please rerun this cell to show the HTML representation or trust the notebook. <br />On GitHub, the HTML representation is unable to render, please try loading this page with nbviewer.org.</b></div><div class=\"sk-container\" hidden><div class=\"sk-item\"><div class=\"sk-estimator sk-toggleable\"><input class=\"sk-toggleable__control sk-hidden--visually\" id=\"sk-estimator-id-6\" type=\"checkbox\" checked><label for=\"sk-estimator-id-6\" class=\"sk-toggleable__label sk-toggleable__label-arrow\">MLPRegressor</label><div class=\"sk-toggleable__content\"><pre>MLPRegressor(hidden_layer_sizes=(200, 120), max_iter=300, random_state=123)</pre></div></div></div></div></div>"
      ],
      "text/plain": [
       "MLPRegressor(hidden_layer_sizes=(200, 120), max_iter=300, random_state=123)"
      ]
     },
     "execution_count": 37,
     "metadata": {},
     "output_type": "execute_result"
    }
   ],
   "source": [
    "from sklearn.model_selection import train_test_split\n",
    "X = no_dup_df[['Player','Pit', 'Goal', 'Wall']]\n",
    "y = no_dup_df[['Q_Current']]\n",
    "X_train, X_test, y_train, y_test = train_test_split(X, y, test_size = 1/10, random_state = 0)\n",
    "mlp = MLPRegressor(hidden_layer_sizes=(200,120), max_iter=300, activation = 'relu', solver='adam', random_state=123)\n",
    "mlp.fit(X.values,y.values.ravel())"
   ]
  },
  {
   "cell_type": "code",
   "execution_count": 38,
   "id": "a1af001d-d35b-438c-b9ef-3a96266f01f0",
   "metadata": {},
   "outputs": [],
   "source": [
    "h = 0\n",
    "w, h = 13, 300000\n",
    "experience_mlp = [[0 for x in range(w)] for y in range(h)] \n",
    "\n",
    "global counter\n",
    "counter = 0"
   ]
  },
  {
   "cell_type": "code",
   "execution_count": 39,
   "id": "aaeb220c-3223-4a3c-b143-60c39f726de0",
   "metadata": {},
   "outputs": [
    {
     "name": "stdout",
     "output_type": "stream",
     "text": [
      "Games played: 1000, # of wins: 919\n",
      "0.919\n",
      "0.919\n",
      "Games played: 1000, # of wins: 927\n",
      "0.927\n",
      "1.846\n",
      "Games played: 1000, # of wins: 919\n",
      "0.919\n",
      "2.765\n",
      "Games played: 1000, # of wins: 932\n",
      "0.932\n",
      "3.697\n",
      "Games played: 1000, # of wins: 913\n",
      "0.913\n",
      "4.61\n",
      "Games played: 1000, # of wins: 928\n",
      "0.928\n",
      "5.538\n",
      "Games played: 1000, # of wins: 934\n",
      "0.934\n",
      "6.472\n",
      "Games played: 1000, # of wins: 932\n",
      "0.932\n",
      "7.404000000000001\n",
      "Games played: 1000, # of wins: 921\n",
      "0.921\n",
      "8.325000000000001\n",
      "Games played: 1000, # of wins: 912\n",
      "0.912\n",
      "9.237000000000002\n",
      "Win percentage: 92.37000000000002%\n"
     ]
    }
   ],
   "source": [
    "win_num = 0\n",
    "for i in range(0,10):\n",
    "    max_games = 1000\n",
    "    wins = 0\n",
    "    for i in range(max_games):\n",
    "        win = mlp_test_model(mlp, experience_mlp, 'random', display = False)\n",
    "        if win:\n",
    "            wins += 1\n",
    "    win_perc = float(wins) / float(max_games)\n",
    "    win_num = win_num + win_perc\n",
    "    print(\"Games played: {0}, # of wins: {1}\".format(max_games,wins))\n",
    "    print(win_perc)\n",
    "    print(win_num)\n",
    "win_num = win_num / 10\n",
    "print(\"Win percentage: {}%\".format(win_num*100))"
   ]
  },
  {
   "cell_type": "markdown",
   "id": "632fe248-c478-46c6-b75d-d2bede5a702e",
   "metadata": {},
   "source": [
    "## Bellman Operator 90%"
   ]
  },
  {
   "cell_type": "code",
   "execution_count": 12,
   "id": "251508c4-6fc1-4b59-b763-c43eee2973c2",
   "metadata": {},
   "outputs": [],
   "source": [
    "from sklearn.model_selection import train_test_split\n",
    "X = no_dup_df[['Player','Pit', 'Goal', 'Wall']]\n",
    "y = no_dup_df[['Bellman_Operator']]\n",
    "X_train, X_test, y_train, y_test = train_test_split(X, y, test_size = 1/10, random_state = 0)"
   ]
  },
  {
   "cell_type": "code",
   "execution_count": 13,
   "id": "51506ddf-2ea7-4067-842b-bfae434258b5",
   "metadata": {},
   "outputs": [],
   "source": [
    "mlp = MLPRegressor(hidden_layer_sizes=(200,120), max_iter=300, activation = 'relu', solver='adam', random_state=123)"
   ]
  },
  {
   "cell_type": "code",
   "execution_count": 14,
   "id": "1193b0fd-47bf-40a0-808e-ccefb612e175",
   "metadata": {},
   "outputs": [
    {
     "data": {
      "text/html": [
       "<style>#sk-container-id-1 {color: black;background-color: white;}#sk-container-id-1 pre{padding: 0;}#sk-container-id-1 div.sk-toggleable {background-color: white;}#sk-container-id-1 label.sk-toggleable__label {cursor: pointer;display: block;width: 100%;margin-bottom: 0;padding: 0.3em;box-sizing: border-box;text-align: center;}#sk-container-id-1 label.sk-toggleable__label-arrow:before {content: \"▸\";float: left;margin-right: 0.25em;color: #696969;}#sk-container-id-1 label.sk-toggleable__label-arrow:hover:before {color: black;}#sk-container-id-1 div.sk-estimator:hover label.sk-toggleable__label-arrow:before {color: black;}#sk-container-id-1 div.sk-toggleable__content {max-height: 0;max-width: 0;overflow: hidden;text-align: left;background-color: #f0f8ff;}#sk-container-id-1 div.sk-toggleable__content pre {margin: 0.2em;color: black;border-radius: 0.25em;background-color: #f0f8ff;}#sk-container-id-1 input.sk-toggleable__control:checked~div.sk-toggleable__content {max-height: 200px;max-width: 100%;overflow: auto;}#sk-container-id-1 input.sk-toggleable__control:checked~label.sk-toggleable__label-arrow:before {content: \"▾\";}#sk-container-id-1 div.sk-estimator input.sk-toggleable__control:checked~label.sk-toggleable__label {background-color: #d4ebff;}#sk-container-id-1 div.sk-label input.sk-toggleable__control:checked~label.sk-toggleable__label {background-color: #d4ebff;}#sk-container-id-1 input.sk-hidden--visually {border: 0;clip: rect(1px 1px 1px 1px);clip: rect(1px, 1px, 1px, 1px);height: 1px;margin: -1px;overflow: hidden;padding: 0;position: absolute;width: 1px;}#sk-container-id-1 div.sk-estimator {font-family: monospace;background-color: #f0f8ff;border: 1px dotted black;border-radius: 0.25em;box-sizing: border-box;margin-bottom: 0.5em;}#sk-container-id-1 div.sk-estimator:hover {background-color: #d4ebff;}#sk-container-id-1 div.sk-parallel-item::after {content: \"\";width: 100%;border-bottom: 1px solid gray;flex-grow: 1;}#sk-container-id-1 div.sk-label:hover label.sk-toggleable__label {background-color: #d4ebff;}#sk-container-id-1 div.sk-serial::before {content: \"\";position: absolute;border-left: 1px solid gray;box-sizing: border-box;top: 0;bottom: 0;left: 50%;z-index: 0;}#sk-container-id-1 div.sk-serial {display: flex;flex-direction: column;align-items: center;background-color: white;padding-right: 0.2em;padding-left: 0.2em;position: relative;}#sk-container-id-1 div.sk-item {position: relative;z-index: 1;}#sk-container-id-1 div.sk-parallel {display: flex;align-items: stretch;justify-content: center;background-color: white;position: relative;}#sk-container-id-1 div.sk-item::before, #sk-container-id-1 div.sk-parallel-item::before {content: \"\";position: absolute;border-left: 1px solid gray;box-sizing: border-box;top: 0;bottom: 0;left: 50%;z-index: -1;}#sk-container-id-1 div.sk-parallel-item {display: flex;flex-direction: column;z-index: 1;position: relative;background-color: white;}#sk-container-id-1 div.sk-parallel-item:first-child::after {align-self: flex-end;width: 50%;}#sk-container-id-1 div.sk-parallel-item:last-child::after {align-self: flex-start;width: 50%;}#sk-container-id-1 div.sk-parallel-item:only-child::after {width: 0;}#sk-container-id-1 div.sk-dashed-wrapped {border: 1px dashed gray;margin: 0 0.4em 0.5em 0.4em;box-sizing: border-box;padding-bottom: 0.4em;background-color: white;}#sk-container-id-1 div.sk-label label {font-family: monospace;font-weight: bold;display: inline-block;line-height: 1.2em;}#sk-container-id-1 div.sk-label-container {text-align: center;}#sk-container-id-1 div.sk-container {/* jupyter's `normalize.less` sets `[hidden] { display: none; }` but bootstrap.min.css set `[hidden] { display: none !important; }` so we also need the `!important` here to be able to override the default hidden behavior on the sphinx rendered scikit-learn.org. See: https://github.com/scikit-learn/scikit-learn/issues/21755 */display: inline-block !important;position: relative;}#sk-container-id-1 div.sk-text-repr-fallback {display: none;}</style><div id=\"sk-container-id-1\" class=\"sk-top-container\"><div class=\"sk-text-repr-fallback\"><pre>MLPRegressor(hidden_layer_sizes=(200, 120), max_iter=300, random_state=123)</pre><b>In a Jupyter environment, please rerun this cell to show the HTML representation or trust the notebook. <br />On GitHub, the HTML representation is unable to render, please try loading this page with nbviewer.org.</b></div><div class=\"sk-container\" hidden><div class=\"sk-item\"><div class=\"sk-estimator sk-toggleable\"><input class=\"sk-toggleable__control sk-hidden--visually\" id=\"sk-estimator-id-1\" type=\"checkbox\" checked><label for=\"sk-estimator-id-1\" class=\"sk-toggleable__label sk-toggleable__label-arrow\">MLPRegressor</label><div class=\"sk-toggleable__content\"><pre>MLPRegressor(hidden_layer_sizes=(200, 120), max_iter=300, random_state=123)</pre></div></div></div></div></div>"
      ],
      "text/plain": [
       "MLPRegressor(hidden_layer_sizes=(200, 120), max_iter=300, random_state=123)"
      ]
     },
     "execution_count": 14,
     "metadata": {},
     "output_type": "execute_result"
    }
   ],
   "source": [
    "mlp.fit(X_train.values,y_train.values.ravel())"
   ]
  },
  {
   "cell_type": "code",
   "execution_count": 15,
   "id": "58defe46-0d95-47ec-b305-d0881aaec767",
   "metadata": {},
   "outputs": [],
   "source": [
    "h = 0\n",
    "w, h = 13, 300000\n",
    "experience_mlp = [[0 for x in range(w)] for y in range(h)] \n",
    "\n",
    "global counter\n",
    "counter = 0"
   ]
  },
  {
   "cell_type": "code",
   "execution_count": 18,
   "id": "fa87833f-3059-45fe-945f-61ae6182aad4",
   "metadata": {},
   "outputs": [
    {
     "name": "stdout",
     "output_type": "stream",
     "text": [
      "Games played: 1000, # of wins: 880\n",
      "0.88\n",
      "0.88\n",
      "Games played: 1000, # of wins: 866\n",
      "0.866\n",
      "1.746\n",
      "Games played: 1000, # of wins: 855\n",
      "0.855\n",
      "2.601\n",
      "Games played: 1000, # of wins: 864\n",
      "0.864\n",
      "3.465\n",
      "Games played: 1000, # of wins: 866\n",
      "0.866\n",
      "4.3309999999999995\n",
      "Games played: 1000, # of wins: 855\n",
      "0.855\n",
      "5.186\n",
      "Games played: 1000, # of wins: 880\n",
      "0.88\n",
      "6.066\n",
      "Games played: 1000, # of wins: 858\n",
      "0.858\n",
      "6.9239999999999995\n",
      "Games played: 1000, # of wins: 844\n",
      "0.844\n",
      "7.768\n",
      "Games played: 1000, # of wins: 869\n",
      "0.869\n",
      "8.637\n",
      "Win percentage: 86.37%\n"
     ]
    }
   ],
   "source": [
    "win_num = 0\n",
    "for i in range(0,10):\n",
    "    max_games = 1000\n",
    "    wins = 0\n",
    "    for i in range(max_games):\n",
    "        win = mlp_test_model(mlp, experience_mlp, 'random', display = False)\n",
    "        if win:\n",
    "            wins += 1\n",
    "    win_perc = float(wins) / float(max_games)\n",
    "    win_num = win_num + win_perc\n",
    "    print(\"Games played: {0}, # of wins: {1}\".format(max_games,wins))\n",
    "    print(win_perc)\n",
    "    print(win_num)\n",
    "win_num = win_num / 10\n",
    "print(\"Win percentage: {}%\".format(win_num*100))"
   ]
  },
  {
   "cell_type": "markdown",
   "id": "516f321a-b527-4e3b-af11-da1531309fbb",
   "metadata": {},
   "source": [
    "## Q-Value 90%"
   ]
  },
  {
   "cell_type": "code",
   "execution_count": 20,
   "id": "e332b410-a769-4836-a729-f236490846d9",
   "metadata": {},
   "outputs": [],
   "source": [
    "from sklearn.model_selection import train_test_split\n",
    "X = no_dup_df[['Player','Pit', 'Goal', 'Wall']]\n",
    "y = no_dup_df[['Q_Current']]\n",
    "X_train, X_test, y_train, y_test = train_test_split(X, y, test_size = 1/10, random_state = 0)"
   ]
  },
  {
   "cell_type": "code",
   "execution_count": 21,
   "id": "ac5eace7-71ea-447f-b677-61eaf43ade75",
   "metadata": {},
   "outputs": [
    {
     "data": {
      "text/html": [
       "<style>#sk-container-id-2 {color: black;background-color: white;}#sk-container-id-2 pre{padding: 0;}#sk-container-id-2 div.sk-toggleable {background-color: white;}#sk-container-id-2 label.sk-toggleable__label {cursor: pointer;display: block;width: 100%;margin-bottom: 0;padding: 0.3em;box-sizing: border-box;text-align: center;}#sk-container-id-2 label.sk-toggleable__label-arrow:before {content: \"▸\";float: left;margin-right: 0.25em;color: #696969;}#sk-container-id-2 label.sk-toggleable__label-arrow:hover:before {color: black;}#sk-container-id-2 div.sk-estimator:hover label.sk-toggleable__label-arrow:before {color: black;}#sk-container-id-2 div.sk-toggleable__content {max-height: 0;max-width: 0;overflow: hidden;text-align: left;background-color: #f0f8ff;}#sk-container-id-2 div.sk-toggleable__content pre {margin: 0.2em;color: black;border-radius: 0.25em;background-color: #f0f8ff;}#sk-container-id-2 input.sk-toggleable__control:checked~div.sk-toggleable__content {max-height: 200px;max-width: 100%;overflow: auto;}#sk-container-id-2 input.sk-toggleable__control:checked~label.sk-toggleable__label-arrow:before {content: \"▾\";}#sk-container-id-2 div.sk-estimator input.sk-toggleable__control:checked~label.sk-toggleable__label {background-color: #d4ebff;}#sk-container-id-2 div.sk-label input.sk-toggleable__control:checked~label.sk-toggleable__label {background-color: #d4ebff;}#sk-container-id-2 input.sk-hidden--visually {border: 0;clip: rect(1px 1px 1px 1px);clip: rect(1px, 1px, 1px, 1px);height: 1px;margin: -1px;overflow: hidden;padding: 0;position: absolute;width: 1px;}#sk-container-id-2 div.sk-estimator {font-family: monospace;background-color: #f0f8ff;border: 1px dotted black;border-radius: 0.25em;box-sizing: border-box;margin-bottom: 0.5em;}#sk-container-id-2 div.sk-estimator:hover {background-color: #d4ebff;}#sk-container-id-2 div.sk-parallel-item::after {content: \"\";width: 100%;border-bottom: 1px solid gray;flex-grow: 1;}#sk-container-id-2 div.sk-label:hover label.sk-toggleable__label {background-color: #d4ebff;}#sk-container-id-2 div.sk-serial::before {content: \"\";position: absolute;border-left: 1px solid gray;box-sizing: border-box;top: 0;bottom: 0;left: 50%;z-index: 0;}#sk-container-id-2 div.sk-serial {display: flex;flex-direction: column;align-items: center;background-color: white;padding-right: 0.2em;padding-left: 0.2em;position: relative;}#sk-container-id-2 div.sk-item {position: relative;z-index: 1;}#sk-container-id-2 div.sk-parallel {display: flex;align-items: stretch;justify-content: center;background-color: white;position: relative;}#sk-container-id-2 div.sk-item::before, #sk-container-id-2 div.sk-parallel-item::before {content: \"\";position: absolute;border-left: 1px solid gray;box-sizing: border-box;top: 0;bottom: 0;left: 50%;z-index: -1;}#sk-container-id-2 div.sk-parallel-item {display: flex;flex-direction: column;z-index: 1;position: relative;background-color: white;}#sk-container-id-2 div.sk-parallel-item:first-child::after {align-self: flex-end;width: 50%;}#sk-container-id-2 div.sk-parallel-item:last-child::after {align-self: flex-start;width: 50%;}#sk-container-id-2 div.sk-parallel-item:only-child::after {width: 0;}#sk-container-id-2 div.sk-dashed-wrapped {border: 1px dashed gray;margin: 0 0.4em 0.5em 0.4em;box-sizing: border-box;padding-bottom: 0.4em;background-color: white;}#sk-container-id-2 div.sk-label label {font-family: monospace;font-weight: bold;display: inline-block;line-height: 1.2em;}#sk-container-id-2 div.sk-label-container {text-align: center;}#sk-container-id-2 div.sk-container {/* jupyter's `normalize.less` sets `[hidden] { display: none; }` but bootstrap.min.css set `[hidden] { display: none !important; }` so we also need the `!important` here to be able to override the default hidden behavior on the sphinx rendered scikit-learn.org. See: https://github.com/scikit-learn/scikit-learn/issues/21755 */display: inline-block !important;position: relative;}#sk-container-id-2 div.sk-text-repr-fallback {display: none;}</style><div id=\"sk-container-id-2\" class=\"sk-top-container\"><div class=\"sk-text-repr-fallback\"><pre>MLPRegressor(hidden_layer_sizes=(200, 120), max_iter=300, random_state=123)</pre><b>In a Jupyter environment, please rerun this cell to show the HTML representation or trust the notebook. <br />On GitHub, the HTML representation is unable to render, please try loading this page with nbviewer.org.</b></div><div class=\"sk-container\" hidden><div class=\"sk-item\"><div class=\"sk-estimator sk-toggleable\"><input class=\"sk-toggleable__control sk-hidden--visually\" id=\"sk-estimator-id-2\" type=\"checkbox\" checked><label for=\"sk-estimator-id-2\" class=\"sk-toggleable__label sk-toggleable__label-arrow\">MLPRegressor</label><div class=\"sk-toggleable__content\"><pre>MLPRegressor(hidden_layer_sizes=(200, 120), max_iter=300, random_state=123)</pre></div></div></div></div></div>"
      ],
      "text/plain": [
       "MLPRegressor(hidden_layer_sizes=(200, 120), max_iter=300, random_state=123)"
      ]
     },
     "execution_count": 21,
     "metadata": {},
     "output_type": "execute_result"
    }
   ],
   "source": [
    "mlp.fit(X_train.values,y_train.values.ravel())"
   ]
  },
  {
   "cell_type": "code",
   "execution_count": 22,
   "id": "6051771f-fb85-4c44-af92-739948b77792",
   "metadata": {},
   "outputs": [],
   "source": [
    "h = 0\n",
    "w, h = 13, 300000\n",
    "experience_mlp = [[0 for x in range(w)] for y in range(h)] \n",
    "\n",
    "global counter\n",
    "counter = 0"
   ]
  },
  {
   "cell_type": "code",
   "execution_count": 23,
   "id": "3370e274-41f4-46a8-870c-cdca61cf6438",
   "metadata": {},
   "outputs": [
    {
     "name": "stdout",
     "output_type": "stream",
     "text": [
      "Games played: 1000, # of wins: 937\n",
      "0.937\n",
      "0.937\n",
      "Games played: 1000, # of wins: 942\n",
      "0.942\n",
      "1.879\n",
      "Games played: 1000, # of wins: 935\n",
      "0.935\n",
      "2.814\n",
      "Games played: 1000, # of wins: 921\n",
      "0.921\n",
      "3.7350000000000003\n",
      "Games played: 1000, # of wins: 926\n",
      "0.926\n",
      "4.6610000000000005\n",
      "Games played: 1000, # of wins: 921\n",
      "0.921\n",
      "5.582000000000001\n",
      "Games played: 1000, # of wins: 943\n",
      "0.943\n",
      "6.525\n",
      "Games played: 1000, # of wins: 922\n",
      "0.922\n",
      "7.447\n",
      "Games played: 1000, # of wins: 920\n",
      "0.92\n",
      "8.367\n",
      "Games played: 1000, # of wins: 930\n",
      "0.93\n",
      "9.297\n",
      "Win percentage: 92.97000000000001%\n"
     ]
    }
   ],
   "source": [
    "win_num = 0\n",
    "for i in range(0,10):\n",
    "    max_games = 1000\n",
    "    wins = 0\n",
    "    for i in range(max_games):\n",
    "        win = mlp_test_model(mlp, experience_mlp, 'random', display = False)\n",
    "        if win:\n",
    "            wins += 1\n",
    "    win_perc = float(wins) / float(max_games)\n",
    "    win_num = win_num + win_perc\n",
    "    print(\"Games played: {0}, # of wins: {1}\".format(max_games,wins))\n",
    "    print(win_perc)\n",
    "    print(win_num)\n",
    "win_num = win_num / 10\n",
    "print(\"Win percentage: {}%\".format(win_num*100))"
   ]
  },
  {
   "cell_type": "markdown",
   "id": "7dfa74ef-c453-40d7-b665-39e90063f085",
   "metadata": {},
   "source": [
    "## Bellman Operator 80%"
   ]
  },
  {
   "cell_type": "code",
   "execution_count": 41,
   "id": "80084105-b183-4764-8622-a9c2ff3b845f",
   "metadata": {},
   "outputs": [
    {
     "name": "stderr",
     "output_type": "stream",
     "text": [
      "D:\\Conda\\lib\\site-packages\\sklearn\\neural_network\\_multilayer_perceptron.py:702: ConvergenceWarning: Stochastic Optimizer: Maximum iterations (300) reached and the optimization hasn't converged yet.\n",
      "  warnings.warn(\n"
     ]
    },
    {
     "data": {
      "text/html": [
       "<style>#sk-container-id-7 {color: black;background-color: white;}#sk-container-id-7 pre{padding: 0;}#sk-container-id-7 div.sk-toggleable {background-color: white;}#sk-container-id-7 label.sk-toggleable__label {cursor: pointer;display: block;width: 100%;margin-bottom: 0;padding: 0.3em;box-sizing: border-box;text-align: center;}#sk-container-id-7 label.sk-toggleable__label-arrow:before {content: \"▸\";float: left;margin-right: 0.25em;color: #696969;}#sk-container-id-7 label.sk-toggleable__label-arrow:hover:before {color: black;}#sk-container-id-7 div.sk-estimator:hover label.sk-toggleable__label-arrow:before {color: black;}#sk-container-id-7 div.sk-toggleable__content {max-height: 0;max-width: 0;overflow: hidden;text-align: left;background-color: #f0f8ff;}#sk-container-id-7 div.sk-toggleable__content pre {margin: 0.2em;color: black;border-radius: 0.25em;background-color: #f0f8ff;}#sk-container-id-7 input.sk-toggleable__control:checked~div.sk-toggleable__content {max-height: 200px;max-width: 100%;overflow: auto;}#sk-container-id-7 input.sk-toggleable__control:checked~label.sk-toggleable__label-arrow:before {content: \"▾\";}#sk-container-id-7 div.sk-estimator input.sk-toggleable__control:checked~label.sk-toggleable__label {background-color: #d4ebff;}#sk-container-id-7 div.sk-label input.sk-toggleable__control:checked~label.sk-toggleable__label {background-color: #d4ebff;}#sk-container-id-7 input.sk-hidden--visually {border: 0;clip: rect(1px 1px 1px 1px);clip: rect(1px, 1px, 1px, 1px);height: 1px;margin: -1px;overflow: hidden;padding: 0;position: absolute;width: 1px;}#sk-container-id-7 div.sk-estimator {font-family: monospace;background-color: #f0f8ff;border: 1px dotted black;border-radius: 0.25em;box-sizing: border-box;margin-bottom: 0.5em;}#sk-container-id-7 div.sk-estimator:hover {background-color: #d4ebff;}#sk-container-id-7 div.sk-parallel-item::after {content: \"\";width: 100%;border-bottom: 1px solid gray;flex-grow: 1;}#sk-container-id-7 div.sk-label:hover label.sk-toggleable__label {background-color: #d4ebff;}#sk-container-id-7 div.sk-serial::before {content: \"\";position: absolute;border-left: 1px solid gray;box-sizing: border-box;top: 0;bottom: 0;left: 50%;z-index: 0;}#sk-container-id-7 div.sk-serial {display: flex;flex-direction: column;align-items: center;background-color: white;padding-right: 0.2em;padding-left: 0.2em;position: relative;}#sk-container-id-7 div.sk-item {position: relative;z-index: 1;}#sk-container-id-7 div.sk-parallel {display: flex;align-items: stretch;justify-content: center;background-color: white;position: relative;}#sk-container-id-7 div.sk-item::before, #sk-container-id-7 div.sk-parallel-item::before {content: \"\";position: absolute;border-left: 1px solid gray;box-sizing: border-box;top: 0;bottom: 0;left: 50%;z-index: -1;}#sk-container-id-7 div.sk-parallel-item {display: flex;flex-direction: column;z-index: 1;position: relative;background-color: white;}#sk-container-id-7 div.sk-parallel-item:first-child::after {align-self: flex-end;width: 50%;}#sk-container-id-7 div.sk-parallel-item:last-child::after {align-self: flex-start;width: 50%;}#sk-container-id-7 div.sk-parallel-item:only-child::after {width: 0;}#sk-container-id-7 div.sk-dashed-wrapped {border: 1px dashed gray;margin: 0 0.4em 0.5em 0.4em;box-sizing: border-box;padding-bottom: 0.4em;background-color: white;}#sk-container-id-7 div.sk-label label {font-family: monospace;font-weight: bold;display: inline-block;line-height: 1.2em;}#sk-container-id-7 div.sk-label-container {text-align: center;}#sk-container-id-7 div.sk-container {/* jupyter's `normalize.less` sets `[hidden] { display: none; }` but bootstrap.min.css set `[hidden] { display: none !important; }` so we also need the `!important` here to be able to override the default hidden behavior on the sphinx rendered scikit-learn.org. See: https://github.com/scikit-learn/scikit-learn/issues/21755 */display: inline-block !important;position: relative;}#sk-container-id-7 div.sk-text-repr-fallback {display: none;}</style><div id=\"sk-container-id-7\" class=\"sk-top-container\"><div class=\"sk-text-repr-fallback\"><pre>MLPRegressor(hidden_layer_sizes=(200, 120), max_iter=300, random_state=123)</pre><b>In a Jupyter environment, please rerun this cell to show the HTML representation or trust the notebook. <br />On GitHub, the HTML representation is unable to render, please try loading this page with nbviewer.org.</b></div><div class=\"sk-container\" hidden><div class=\"sk-item\"><div class=\"sk-estimator sk-toggleable\"><input class=\"sk-toggleable__control sk-hidden--visually\" id=\"sk-estimator-id-7\" type=\"checkbox\" checked><label for=\"sk-estimator-id-7\" class=\"sk-toggleable__label sk-toggleable__label-arrow\">MLPRegressor</label><div class=\"sk-toggleable__content\"><pre>MLPRegressor(hidden_layer_sizes=(200, 120), max_iter=300, random_state=123)</pre></div></div></div></div></div>"
      ],
      "text/plain": [
       "MLPRegressor(hidden_layer_sizes=(200, 120), max_iter=300, random_state=123)"
      ]
     },
     "execution_count": 41,
     "metadata": {},
     "output_type": "execute_result"
    }
   ],
   "source": [
    "from sklearn.model_selection import train_test_split\n",
    "X = no_dup_df[['Player','Pit', 'Goal', 'Wall']]\n",
    "y = no_dup_df[['Bellman_Operator']]\n",
    "X_train, X_test, y_train, y_test = train_test_split(X, y, test_size = 2/10, random_state = 0)\n",
    "mlp = MLPRegressor(hidden_layer_sizes=(200,120), max_iter=300, activation = 'relu', solver='adam', random_state=123)\n",
    "mlp.fit(X_train.values,y_train.values.ravel())"
   ]
  },
  {
   "cell_type": "code",
   "execution_count": 42,
   "id": "e04729d4-4e60-4a4a-af0a-4d5dad2eba0c",
   "metadata": {},
   "outputs": [],
   "source": [
    "h = 0\n",
    "w, h = 13, 300000\n",
    "experience_mlp = [[0 for x in range(w)] for y in range(h)] \n",
    "\n",
    "global counter\n",
    "counter = 0"
   ]
  },
  {
   "cell_type": "code",
   "execution_count": 43,
   "id": "2d777a2e-b061-4d9e-8f40-acf63bfda67a",
   "metadata": {},
   "outputs": [
    {
     "name": "stdout",
     "output_type": "stream",
     "text": [
      "Games played: 1000, # of wins: 881\n",
      "0.881\n",
      "0.881\n",
      "Games played: 1000, # of wins: 891\n",
      "0.891\n",
      "1.772\n",
      "Games played: 1000, # of wins: 868\n",
      "0.868\n",
      "2.64\n",
      "Games played: 1000, # of wins: 874\n",
      "0.874\n",
      "3.5140000000000002\n",
      "Games played: 1000, # of wins: 883\n",
      "0.883\n",
      "4.397\n",
      "Games played: 1000, # of wins: 904\n",
      "0.904\n",
      "5.301\n",
      "Games played: 1000, # of wins: 869\n",
      "0.869\n",
      "6.17\n",
      "Games played: 1000, # of wins: 890\n",
      "0.89\n",
      "7.06\n",
      "Games played: 1000, # of wins: 884\n",
      "0.884\n",
      "7.944\n",
      "Games played: 1000, # of wins: 887\n",
      "0.887\n",
      "8.831\n",
      "Win percentage: 88.31%\n"
     ]
    }
   ],
   "source": [
    "win_num = 0\n",
    "for i in range(0,10):\n",
    "    max_games = 1000\n",
    "    wins = 0\n",
    "    for i in range(max_games):\n",
    "        win = mlp_test_model(mlp, experience_mlp, 'random', display = False)\n",
    "        if win:\n",
    "            wins += 1\n",
    "    win_perc = float(wins) / float(max_games)\n",
    "    win_num = win_num + win_perc\n",
    "    print(\"Games played: {0}, # of wins: {1}\".format(max_games,wins))\n",
    "    print(win_perc)\n",
    "    print(win_num)\n",
    "win_num = win_num / 10\n",
    "print(\"Win percentage: {}%\".format(win_num*100))"
   ]
  },
  {
   "cell_type": "markdown",
   "id": "45fd372d-fb6e-40da-85a6-81feaa0879b7",
   "metadata": {},
   "source": [
    "## Q-Value 80%"
   ]
  },
  {
   "cell_type": "code",
   "execution_count": 44,
   "id": "4215eb86-3731-4262-9ba7-e742f43570a9",
   "metadata": {},
   "outputs": [
    {
     "name": "stderr",
     "output_type": "stream",
     "text": [
      "D:\\Conda\\lib\\site-packages\\sklearn\\neural_network\\_multilayer_perceptron.py:702: ConvergenceWarning: Stochastic Optimizer: Maximum iterations (300) reached and the optimization hasn't converged yet.\n",
      "  warnings.warn(\n"
     ]
    },
    {
     "data": {
      "text/html": [
       "<style>#sk-container-id-8 {color: black;background-color: white;}#sk-container-id-8 pre{padding: 0;}#sk-container-id-8 div.sk-toggleable {background-color: white;}#sk-container-id-8 label.sk-toggleable__label {cursor: pointer;display: block;width: 100%;margin-bottom: 0;padding: 0.3em;box-sizing: border-box;text-align: center;}#sk-container-id-8 label.sk-toggleable__label-arrow:before {content: \"▸\";float: left;margin-right: 0.25em;color: #696969;}#sk-container-id-8 label.sk-toggleable__label-arrow:hover:before {color: black;}#sk-container-id-8 div.sk-estimator:hover label.sk-toggleable__label-arrow:before {color: black;}#sk-container-id-8 div.sk-toggleable__content {max-height: 0;max-width: 0;overflow: hidden;text-align: left;background-color: #f0f8ff;}#sk-container-id-8 div.sk-toggleable__content pre {margin: 0.2em;color: black;border-radius: 0.25em;background-color: #f0f8ff;}#sk-container-id-8 input.sk-toggleable__control:checked~div.sk-toggleable__content {max-height: 200px;max-width: 100%;overflow: auto;}#sk-container-id-8 input.sk-toggleable__control:checked~label.sk-toggleable__label-arrow:before {content: \"▾\";}#sk-container-id-8 div.sk-estimator input.sk-toggleable__control:checked~label.sk-toggleable__label {background-color: #d4ebff;}#sk-container-id-8 div.sk-label input.sk-toggleable__control:checked~label.sk-toggleable__label {background-color: #d4ebff;}#sk-container-id-8 input.sk-hidden--visually {border: 0;clip: rect(1px 1px 1px 1px);clip: rect(1px, 1px, 1px, 1px);height: 1px;margin: -1px;overflow: hidden;padding: 0;position: absolute;width: 1px;}#sk-container-id-8 div.sk-estimator {font-family: monospace;background-color: #f0f8ff;border: 1px dotted black;border-radius: 0.25em;box-sizing: border-box;margin-bottom: 0.5em;}#sk-container-id-8 div.sk-estimator:hover {background-color: #d4ebff;}#sk-container-id-8 div.sk-parallel-item::after {content: \"\";width: 100%;border-bottom: 1px solid gray;flex-grow: 1;}#sk-container-id-8 div.sk-label:hover label.sk-toggleable__label {background-color: #d4ebff;}#sk-container-id-8 div.sk-serial::before {content: \"\";position: absolute;border-left: 1px solid gray;box-sizing: border-box;top: 0;bottom: 0;left: 50%;z-index: 0;}#sk-container-id-8 div.sk-serial {display: flex;flex-direction: column;align-items: center;background-color: white;padding-right: 0.2em;padding-left: 0.2em;position: relative;}#sk-container-id-8 div.sk-item {position: relative;z-index: 1;}#sk-container-id-8 div.sk-parallel {display: flex;align-items: stretch;justify-content: center;background-color: white;position: relative;}#sk-container-id-8 div.sk-item::before, #sk-container-id-8 div.sk-parallel-item::before {content: \"\";position: absolute;border-left: 1px solid gray;box-sizing: border-box;top: 0;bottom: 0;left: 50%;z-index: -1;}#sk-container-id-8 div.sk-parallel-item {display: flex;flex-direction: column;z-index: 1;position: relative;background-color: white;}#sk-container-id-8 div.sk-parallel-item:first-child::after {align-self: flex-end;width: 50%;}#sk-container-id-8 div.sk-parallel-item:last-child::after {align-self: flex-start;width: 50%;}#sk-container-id-8 div.sk-parallel-item:only-child::after {width: 0;}#sk-container-id-8 div.sk-dashed-wrapped {border: 1px dashed gray;margin: 0 0.4em 0.5em 0.4em;box-sizing: border-box;padding-bottom: 0.4em;background-color: white;}#sk-container-id-8 div.sk-label label {font-family: monospace;font-weight: bold;display: inline-block;line-height: 1.2em;}#sk-container-id-8 div.sk-label-container {text-align: center;}#sk-container-id-8 div.sk-container {/* jupyter's `normalize.less` sets `[hidden] { display: none; }` but bootstrap.min.css set `[hidden] { display: none !important; }` so we also need the `!important` here to be able to override the default hidden behavior on the sphinx rendered scikit-learn.org. See: https://github.com/scikit-learn/scikit-learn/issues/21755 */display: inline-block !important;position: relative;}#sk-container-id-8 div.sk-text-repr-fallback {display: none;}</style><div id=\"sk-container-id-8\" class=\"sk-top-container\"><div class=\"sk-text-repr-fallback\"><pre>MLPRegressor(hidden_layer_sizes=(200, 120), max_iter=300, random_state=123)</pre><b>In a Jupyter environment, please rerun this cell to show the HTML representation or trust the notebook. <br />On GitHub, the HTML representation is unable to render, please try loading this page with nbviewer.org.</b></div><div class=\"sk-container\" hidden><div class=\"sk-item\"><div class=\"sk-estimator sk-toggleable\"><input class=\"sk-toggleable__control sk-hidden--visually\" id=\"sk-estimator-id-8\" type=\"checkbox\" checked><label for=\"sk-estimator-id-8\" class=\"sk-toggleable__label sk-toggleable__label-arrow\">MLPRegressor</label><div class=\"sk-toggleable__content\"><pre>MLPRegressor(hidden_layer_sizes=(200, 120), max_iter=300, random_state=123)</pre></div></div></div></div></div>"
      ],
      "text/plain": [
       "MLPRegressor(hidden_layer_sizes=(200, 120), max_iter=300, random_state=123)"
      ]
     },
     "execution_count": 44,
     "metadata": {},
     "output_type": "execute_result"
    }
   ],
   "source": [
    "from sklearn.model_selection import train_test_split\n",
    "X = no_dup_df[['Player','Pit', 'Goal', 'Wall']]\n",
    "y = no_dup_df[['Q_Current']]\n",
    "X_train, X_test, y_train, y_test = train_test_split(X, y, test_size = 2/10, random_state = 0)\n",
    "mlp = MLPRegressor(hidden_layer_sizes=(200,120), max_iter=300, activation = 'relu', solver='adam', random_state=123)\n",
    "mlp.fit(X_train.values,y_train.values.ravel())"
   ]
  },
  {
   "cell_type": "code",
   "execution_count": 45,
   "id": "7f00d359-2036-4b94-89f0-5fb69c172d81",
   "metadata": {},
   "outputs": [
    {
     "name": "stdout",
     "output_type": "stream",
     "text": [
      "Games played: 1000, # of wins: 940\n",
      "0.94\n",
      "0.94\n",
      "Games played: 1000, # of wins: 942\n",
      "0.942\n",
      "1.882\n",
      "Games played: 1000, # of wins: 935\n",
      "0.935\n",
      "2.817\n",
      "Games played: 1000, # of wins: 924\n",
      "0.924\n",
      "3.741\n",
      "Games played: 1000, # of wins: 948\n",
      "0.948\n",
      "4.689\n",
      "Games played: 1000, # of wins: 913\n",
      "0.913\n",
      "5.602\n",
      "Games played: 1000, # of wins: 920\n",
      "0.92\n",
      "6.522\n",
      "Games played: 1000, # of wins: 946\n",
      "0.946\n",
      "7.468\n",
      "Games played: 1000, # of wins: 928\n",
      "0.928\n",
      "8.396\n",
      "Games played: 1000, # of wins: 931\n",
      "0.931\n",
      "9.327000000000002\n",
      "Win percentage: 93.27000000000002%\n"
     ]
    }
   ],
   "source": [
    "win_num = 0\n",
    "for i in range(0,10):\n",
    "    max_games = 1000\n",
    "    wins = 0\n",
    "    for i in range(max_games):\n",
    "        win = mlp_test_model(mlp, experience_mlp, 'random', display = False)\n",
    "        if win:\n",
    "            wins += 1\n",
    "    win_perc = float(wins) / float(max_games)\n",
    "    win_num = win_num + win_perc\n",
    "    print(\"Games played: {0}, # of wins: {1}\".format(max_games,wins))\n",
    "    print(win_perc)\n",
    "    print(win_num)\n",
    "win_num = win_num / 10\n",
    "print(\"Win percentage: {}%\".format(win_num*100))"
   ]
  },
  {
   "cell_type": "markdown",
   "id": "7113545d-bef7-43c5-85b8-07e118083b97",
   "metadata": {},
   "source": [
    "## Bellman Operator 70%"
   ]
  },
  {
   "cell_type": "code",
   "execution_count": 47,
   "id": "e758a862-af4a-4d12-a794-404ba92ae7e5",
   "metadata": {},
   "outputs": [
    {
     "data": {
      "text/html": [
       "<style>#sk-container-id-9 {color: black;background-color: white;}#sk-container-id-9 pre{padding: 0;}#sk-container-id-9 div.sk-toggleable {background-color: white;}#sk-container-id-9 label.sk-toggleable__label {cursor: pointer;display: block;width: 100%;margin-bottom: 0;padding: 0.3em;box-sizing: border-box;text-align: center;}#sk-container-id-9 label.sk-toggleable__label-arrow:before {content: \"▸\";float: left;margin-right: 0.25em;color: #696969;}#sk-container-id-9 label.sk-toggleable__label-arrow:hover:before {color: black;}#sk-container-id-9 div.sk-estimator:hover label.sk-toggleable__label-arrow:before {color: black;}#sk-container-id-9 div.sk-toggleable__content {max-height: 0;max-width: 0;overflow: hidden;text-align: left;background-color: #f0f8ff;}#sk-container-id-9 div.sk-toggleable__content pre {margin: 0.2em;color: black;border-radius: 0.25em;background-color: #f0f8ff;}#sk-container-id-9 input.sk-toggleable__control:checked~div.sk-toggleable__content {max-height: 200px;max-width: 100%;overflow: auto;}#sk-container-id-9 input.sk-toggleable__control:checked~label.sk-toggleable__label-arrow:before {content: \"▾\";}#sk-container-id-9 div.sk-estimator input.sk-toggleable__control:checked~label.sk-toggleable__label {background-color: #d4ebff;}#sk-container-id-9 div.sk-label input.sk-toggleable__control:checked~label.sk-toggleable__label {background-color: #d4ebff;}#sk-container-id-9 input.sk-hidden--visually {border: 0;clip: rect(1px 1px 1px 1px);clip: rect(1px, 1px, 1px, 1px);height: 1px;margin: -1px;overflow: hidden;padding: 0;position: absolute;width: 1px;}#sk-container-id-9 div.sk-estimator {font-family: monospace;background-color: #f0f8ff;border: 1px dotted black;border-radius: 0.25em;box-sizing: border-box;margin-bottom: 0.5em;}#sk-container-id-9 div.sk-estimator:hover {background-color: #d4ebff;}#sk-container-id-9 div.sk-parallel-item::after {content: \"\";width: 100%;border-bottom: 1px solid gray;flex-grow: 1;}#sk-container-id-9 div.sk-label:hover label.sk-toggleable__label {background-color: #d4ebff;}#sk-container-id-9 div.sk-serial::before {content: \"\";position: absolute;border-left: 1px solid gray;box-sizing: border-box;top: 0;bottom: 0;left: 50%;z-index: 0;}#sk-container-id-9 div.sk-serial {display: flex;flex-direction: column;align-items: center;background-color: white;padding-right: 0.2em;padding-left: 0.2em;position: relative;}#sk-container-id-9 div.sk-item {position: relative;z-index: 1;}#sk-container-id-9 div.sk-parallel {display: flex;align-items: stretch;justify-content: center;background-color: white;position: relative;}#sk-container-id-9 div.sk-item::before, #sk-container-id-9 div.sk-parallel-item::before {content: \"\";position: absolute;border-left: 1px solid gray;box-sizing: border-box;top: 0;bottom: 0;left: 50%;z-index: -1;}#sk-container-id-9 div.sk-parallel-item {display: flex;flex-direction: column;z-index: 1;position: relative;background-color: white;}#sk-container-id-9 div.sk-parallel-item:first-child::after {align-self: flex-end;width: 50%;}#sk-container-id-9 div.sk-parallel-item:last-child::after {align-self: flex-start;width: 50%;}#sk-container-id-9 div.sk-parallel-item:only-child::after {width: 0;}#sk-container-id-9 div.sk-dashed-wrapped {border: 1px dashed gray;margin: 0 0.4em 0.5em 0.4em;box-sizing: border-box;padding-bottom: 0.4em;background-color: white;}#sk-container-id-9 div.sk-label label {font-family: monospace;font-weight: bold;display: inline-block;line-height: 1.2em;}#sk-container-id-9 div.sk-label-container {text-align: center;}#sk-container-id-9 div.sk-container {/* jupyter's `normalize.less` sets `[hidden] { display: none; }` but bootstrap.min.css set `[hidden] { display: none !important; }` so we also need the `!important` here to be able to override the default hidden behavior on the sphinx rendered scikit-learn.org. See: https://github.com/scikit-learn/scikit-learn/issues/21755 */display: inline-block !important;position: relative;}#sk-container-id-9 div.sk-text-repr-fallback {display: none;}</style><div id=\"sk-container-id-9\" class=\"sk-top-container\"><div class=\"sk-text-repr-fallback\"><pre>MLPRegressor(hidden_layer_sizes=(200, 120), max_iter=300, random_state=123)</pre><b>In a Jupyter environment, please rerun this cell to show the HTML representation or trust the notebook. <br />On GitHub, the HTML representation is unable to render, please try loading this page with nbviewer.org.</b></div><div class=\"sk-container\" hidden><div class=\"sk-item\"><div class=\"sk-estimator sk-toggleable\"><input class=\"sk-toggleable__control sk-hidden--visually\" id=\"sk-estimator-id-9\" type=\"checkbox\" checked><label for=\"sk-estimator-id-9\" class=\"sk-toggleable__label sk-toggleable__label-arrow\">MLPRegressor</label><div class=\"sk-toggleable__content\"><pre>MLPRegressor(hidden_layer_sizes=(200, 120), max_iter=300, random_state=123)</pre></div></div></div></div></div>"
      ],
      "text/plain": [
       "MLPRegressor(hidden_layer_sizes=(200, 120), max_iter=300, random_state=123)"
      ]
     },
     "execution_count": 47,
     "metadata": {},
     "output_type": "execute_result"
    }
   ],
   "source": [
    "from sklearn.model_selection import train_test_split\n",
    "X = no_dup_df[['Player','Pit', 'Goal', 'Wall']]\n",
    "y = no_dup_df[['Bellman_Operator']]\n",
    "X_train, X_test, y_train, y_test = train_test_split(X, y, test_size = 3/10, random_state = 0)\n",
    "mlp = MLPRegressor(hidden_layer_sizes=(200,120), max_iter=300, activation = 'relu', solver='adam', random_state=123)\n",
    "mlp.fit(X_train.values,y_train.values.ravel())"
   ]
  },
  {
   "cell_type": "code",
   "execution_count": 46,
   "id": "ed51f7d0-1764-4091-980e-dc6629a7ba68",
   "metadata": {},
   "outputs": [],
   "source": [
    "h = 0\n",
    "w, h = 13, 300000\n",
    "experience_mlp = [[0 for x in range(w)] for y in range(h)] \n",
    "\n",
    "global counter\n",
    "counter = 0"
   ]
  },
  {
   "cell_type": "code",
   "execution_count": 48,
   "id": "ccab0c44-59ff-455a-b195-05ca8e7e9c88",
   "metadata": {},
   "outputs": [
    {
     "name": "stdout",
     "output_type": "stream",
     "text": [
      "Games played: 1000, # of wins: 862\n",
      "0.862\n",
      "0.862\n",
      "Games played: 1000, # of wins: 876\n",
      "0.876\n",
      "1.738\n",
      "Games played: 1000, # of wins: 859\n",
      "0.859\n",
      "2.597\n",
      "Games played: 1000, # of wins: 880\n",
      "0.88\n",
      "3.477\n",
      "Games played: 1000, # of wins: 855\n",
      "0.855\n",
      "4.332\n",
      "Games played: 1000, # of wins: 880\n",
      "0.88\n",
      "5.212\n",
      "Games played: 1000, # of wins: 874\n",
      "0.874\n",
      "6.085999999999999\n",
      "Games played: 1000, # of wins: 865\n",
      "0.865\n",
      "6.951\n",
      "Games played: 1000, # of wins: 850\n",
      "0.85\n",
      "7.800999999999999\n",
      "Games played: 1000, # of wins: 869\n",
      "0.869\n",
      "8.67\n",
      "Win percentage: 86.7%\n"
     ]
    }
   ],
   "source": [
    "win_num = 0\n",
    "for i in range(0,10):\n",
    "    max_games = 1000\n",
    "    wins = 0\n",
    "    for i in range(max_games):\n",
    "        win = mlp_test_model(mlp, experience_mlp, 'random', display = False)\n",
    "        if win:\n",
    "            wins += 1\n",
    "    win_perc = float(wins) / float(max_games)\n",
    "    win_num = win_num + win_perc\n",
    "    print(\"Games played: {0}, # of wins: {1}\".format(max_games,wins))\n",
    "    print(win_perc)\n",
    "    print(win_num)\n",
    "win_num = win_num / 10\n",
    "print(\"Win percentage: {}%\".format(win_num*100))"
   ]
  },
  {
   "cell_type": "markdown",
   "id": "64bca351-2795-40a4-bb60-4d44b089c55a",
   "metadata": {},
   "source": [
    "## Q-Value 70%"
   ]
  },
  {
   "cell_type": "code",
   "execution_count": 49,
   "id": "6833d8dd-5cc0-4f74-a573-0176968b2695",
   "metadata": {},
   "outputs": [
    {
     "data": {
      "text/html": [
       "<style>#sk-container-id-10 {color: black;background-color: white;}#sk-container-id-10 pre{padding: 0;}#sk-container-id-10 div.sk-toggleable {background-color: white;}#sk-container-id-10 label.sk-toggleable__label {cursor: pointer;display: block;width: 100%;margin-bottom: 0;padding: 0.3em;box-sizing: border-box;text-align: center;}#sk-container-id-10 label.sk-toggleable__label-arrow:before {content: \"▸\";float: left;margin-right: 0.25em;color: #696969;}#sk-container-id-10 label.sk-toggleable__label-arrow:hover:before {color: black;}#sk-container-id-10 div.sk-estimator:hover label.sk-toggleable__label-arrow:before {color: black;}#sk-container-id-10 div.sk-toggleable__content {max-height: 0;max-width: 0;overflow: hidden;text-align: left;background-color: #f0f8ff;}#sk-container-id-10 div.sk-toggleable__content pre {margin: 0.2em;color: black;border-radius: 0.25em;background-color: #f0f8ff;}#sk-container-id-10 input.sk-toggleable__control:checked~div.sk-toggleable__content {max-height: 200px;max-width: 100%;overflow: auto;}#sk-container-id-10 input.sk-toggleable__control:checked~label.sk-toggleable__label-arrow:before {content: \"▾\";}#sk-container-id-10 div.sk-estimator input.sk-toggleable__control:checked~label.sk-toggleable__label {background-color: #d4ebff;}#sk-container-id-10 div.sk-label input.sk-toggleable__control:checked~label.sk-toggleable__label {background-color: #d4ebff;}#sk-container-id-10 input.sk-hidden--visually {border: 0;clip: rect(1px 1px 1px 1px);clip: rect(1px, 1px, 1px, 1px);height: 1px;margin: -1px;overflow: hidden;padding: 0;position: absolute;width: 1px;}#sk-container-id-10 div.sk-estimator {font-family: monospace;background-color: #f0f8ff;border: 1px dotted black;border-radius: 0.25em;box-sizing: border-box;margin-bottom: 0.5em;}#sk-container-id-10 div.sk-estimator:hover {background-color: #d4ebff;}#sk-container-id-10 div.sk-parallel-item::after {content: \"\";width: 100%;border-bottom: 1px solid gray;flex-grow: 1;}#sk-container-id-10 div.sk-label:hover label.sk-toggleable__label {background-color: #d4ebff;}#sk-container-id-10 div.sk-serial::before {content: \"\";position: absolute;border-left: 1px solid gray;box-sizing: border-box;top: 0;bottom: 0;left: 50%;z-index: 0;}#sk-container-id-10 div.sk-serial {display: flex;flex-direction: column;align-items: center;background-color: white;padding-right: 0.2em;padding-left: 0.2em;position: relative;}#sk-container-id-10 div.sk-item {position: relative;z-index: 1;}#sk-container-id-10 div.sk-parallel {display: flex;align-items: stretch;justify-content: center;background-color: white;position: relative;}#sk-container-id-10 div.sk-item::before, #sk-container-id-10 div.sk-parallel-item::before {content: \"\";position: absolute;border-left: 1px solid gray;box-sizing: border-box;top: 0;bottom: 0;left: 50%;z-index: -1;}#sk-container-id-10 div.sk-parallel-item {display: flex;flex-direction: column;z-index: 1;position: relative;background-color: white;}#sk-container-id-10 div.sk-parallel-item:first-child::after {align-self: flex-end;width: 50%;}#sk-container-id-10 div.sk-parallel-item:last-child::after {align-self: flex-start;width: 50%;}#sk-container-id-10 div.sk-parallel-item:only-child::after {width: 0;}#sk-container-id-10 div.sk-dashed-wrapped {border: 1px dashed gray;margin: 0 0.4em 0.5em 0.4em;box-sizing: border-box;padding-bottom: 0.4em;background-color: white;}#sk-container-id-10 div.sk-label label {font-family: monospace;font-weight: bold;display: inline-block;line-height: 1.2em;}#sk-container-id-10 div.sk-label-container {text-align: center;}#sk-container-id-10 div.sk-container {/* jupyter's `normalize.less` sets `[hidden] { display: none; }` but bootstrap.min.css set `[hidden] { display: none !important; }` so we also need the `!important` here to be able to override the default hidden behavior on the sphinx rendered scikit-learn.org. See: https://github.com/scikit-learn/scikit-learn/issues/21755 */display: inline-block !important;position: relative;}#sk-container-id-10 div.sk-text-repr-fallback {display: none;}</style><div id=\"sk-container-id-10\" class=\"sk-top-container\"><div class=\"sk-text-repr-fallback\"><pre>MLPRegressor(hidden_layer_sizes=(200, 120), max_iter=300, random_state=123)</pre><b>In a Jupyter environment, please rerun this cell to show the HTML representation or trust the notebook. <br />On GitHub, the HTML representation is unable to render, please try loading this page with nbviewer.org.</b></div><div class=\"sk-container\" hidden><div class=\"sk-item\"><div class=\"sk-estimator sk-toggleable\"><input class=\"sk-toggleable__control sk-hidden--visually\" id=\"sk-estimator-id-10\" type=\"checkbox\" checked><label for=\"sk-estimator-id-10\" class=\"sk-toggleable__label sk-toggleable__label-arrow\">MLPRegressor</label><div class=\"sk-toggleable__content\"><pre>MLPRegressor(hidden_layer_sizes=(200, 120), max_iter=300, random_state=123)</pre></div></div></div></div></div>"
      ],
      "text/plain": [
       "MLPRegressor(hidden_layer_sizes=(200, 120), max_iter=300, random_state=123)"
      ]
     },
     "execution_count": 49,
     "metadata": {},
     "output_type": "execute_result"
    }
   ],
   "source": [
    "from sklearn.model_selection import train_test_split\n",
    "X = no_dup_df[['Player','Pit', 'Goal', 'Wall']]\n",
    "y = no_dup_df[['Q_Current']]\n",
    "X_train, X_test, y_train, y_test = train_test_split(X, y, test_size = 3/10, random_state = 0)\n",
    "mlp = MLPRegressor(hidden_layer_sizes=(200,120), max_iter=300, activation = 'relu', solver='adam', random_state=123)\n",
    "mlp.fit(X_train.values,y_train.values.ravel())"
   ]
  },
  {
   "cell_type": "code",
   "execution_count": 50,
   "id": "18eb3dfb-506e-4008-9b39-92d912a53165",
   "metadata": {},
   "outputs": [
    {
     "name": "stdout",
     "output_type": "stream",
     "text": [
      "Games played: 1000, # of wins: 918\n",
      "0.918\n",
      "0.918\n",
      "Games played: 1000, # of wins: 926\n",
      "0.926\n",
      "1.844\n",
      "Games played: 1000, # of wins: 906\n",
      "0.906\n",
      "2.75\n",
      "Games played: 1000, # of wins: 919\n",
      "0.919\n",
      "3.669\n",
      "Games played: 1000, # of wins: 905\n",
      "0.905\n",
      "4.574\n",
      "Games played: 1000, # of wins: 910\n",
      "0.91\n",
      "5.484\n",
      "Games played: 1000, # of wins: 907\n",
      "0.907\n",
      "6.391\n",
      "Games played: 1000, # of wins: 918\n",
      "0.918\n",
      "7.309\n",
      "Games played: 1000, # of wins: 916\n",
      "0.916\n",
      "8.225\n",
      "Games played: 1000, # of wins: 917\n",
      "0.917\n",
      "9.142\n",
      "Win percentage: 91.41999999999999%\n"
     ]
    }
   ],
   "source": [
    "win_num = 0\n",
    "for i in range(0,10):\n",
    "    max_games = 1000\n",
    "    wins = 0\n",
    "    for i in range(max_games):\n",
    "        win = mlp_test_model(mlp, experience_mlp, 'random', display = False)\n",
    "        if win:\n",
    "            wins += 1\n",
    "    win_perc = float(wins) / float(max_games)\n",
    "    win_num = win_num + win_perc\n",
    "    print(\"Games played: {0}, # of wins: {1}\".format(max_games,wins))\n",
    "    print(win_perc)\n",
    "    print(win_num)\n",
    "win_num = win_num / 10\n",
    "print(\"Win percentage: {}%\".format(win_num*100))"
   ]
  },
  {
   "cell_type": "markdown",
   "id": "286323f9-f46b-4cbc-9437-c70b1317ca83",
   "metadata": {},
   "source": [
    "## Bellman Operator 60%"
   ]
  },
  {
   "cell_type": "code",
   "execution_count": 51,
   "id": "e15d9fb3-a904-4b18-87cc-93439fa20080",
   "metadata": {},
   "outputs": [
    {
     "name": "stderr",
     "output_type": "stream",
     "text": [
      "D:\\Conda\\lib\\site-packages\\sklearn\\neural_network\\_multilayer_perceptron.py:702: ConvergenceWarning: Stochastic Optimizer: Maximum iterations (300) reached and the optimization hasn't converged yet.\n",
      "  warnings.warn(\n"
     ]
    },
    {
     "data": {
      "text/html": [
       "<style>#sk-container-id-11 {color: black;background-color: white;}#sk-container-id-11 pre{padding: 0;}#sk-container-id-11 div.sk-toggleable {background-color: white;}#sk-container-id-11 label.sk-toggleable__label {cursor: pointer;display: block;width: 100%;margin-bottom: 0;padding: 0.3em;box-sizing: border-box;text-align: center;}#sk-container-id-11 label.sk-toggleable__label-arrow:before {content: \"▸\";float: left;margin-right: 0.25em;color: #696969;}#sk-container-id-11 label.sk-toggleable__label-arrow:hover:before {color: black;}#sk-container-id-11 div.sk-estimator:hover label.sk-toggleable__label-arrow:before {color: black;}#sk-container-id-11 div.sk-toggleable__content {max-height: 0;max-width: 0;overflow: hidden;text-align: left;background-color: #f0f8ff;}#sk-container-id-11 div.sk-toggleable__content pre {margin: 0.2em;color: black;border-radius: 0.25em;background-color: #f0f8ff;}#sk-container-id-11 input.sk-toggleable__control:checked~div.sk-toggleable__content {max-height: 200px;max-width: 100%;overflow: auto;}#sk-container-id-11 input.sk-toggleable__control:checked~label.sk-toggleable__label-arrow:before {content: \"▾\";}#sk-container-id-11 div.sk-estimator input.sk-toggleable__control:checked~label.sk-toggleable__label {background-color: #d4ebff;}#sk-container-id-11 div.sk-label input.sk-toggleable__control:checked~label.sk-toggleable__label {background-color: #d4ebff;}#sk-container-id-11 input.sk-hidden--visually {border: 0;clip: rect(1px 1px 1px 1px);clip: rect(1px, 1px, 1px, 1px);height: 1px;margin: -1px;overflow: hidden;padding: 0;position: absolute;width: 1px;}#sk-container-id-11 div.sk-estimator {font-family: monospace;background-color: #f0f8ff;border: 1px dotted black;border-radius: 0.25em;box-sizing: border-box;margin-bottom: 0.5em;}#sk-container-id-11 div.sk-estimator:hover {background-color: #d4ebff;}#sk-container-id-11 div.sk-parallel-item::after {content: \"\";width: 100%;border-bottom: 1px solid gray;flex-grow: 1;}#sk-container-id-11 div.sk-label:hover label.sk-toggleable__label {background-color: #d4ebff;}#sk-container-id-11 div.sk-serial::before {content: \"\";position: absolute;border-left: 1px solid gray;box-sizing: border-box;top: 0;bottom: 0;left: 50%;z-index: 0;}#sk-container-id-11 div.sk-serial {display: flex;flex-direction: column;align-items: center;background-color: white;padding-right: 0.2em;padding-left: 0.2em;position: relative;}#sk-container-id-11 div.sk-item {position: relative;z-index: 1;}#sk-container-id-11 div.sk-parallel {display: flex;align-items: stretch;justify-content: center;background-color: white;position: relative;}#sk-container-id-11 div.sk-item::before, #sk-container-id-11 div.sk-parallel-item::before {content: \"\";position: absolute;border-left: 1px solid gray;box-sizing: border-box;top: 0;bottom: 0;left: 50%;z-index: -1;}#sk-container-id-11 div.sk-parallel-item {display: flex;flex-direction: column;z-index: 1;position: relative;background-color: white;}#sk-container-id-11 div.sk-parallel-item:first-child::after {align-self: flex-end;width: 50%;}#sk-container-id-11 div.sk-parallel-item:last-child::after {align-self: flex-start;width: 50%;}#sk-container-id-11 div.sk-parallel-item:only-child::after {width: 0;}#sk-container-id-11 div.sk-dashed-wrapped {border: 1px dashed gray;margin: 0 0.4em 0.5em 0.4em;box-sizing: border-box;padding-bottom: 0.4em;background-color: white;}#sk-container-id-11 div.sk-label label {font-family: monospace;font-weight: bold;display: inline-block;line-height: 1.2em;}#sk-container-id-11 div.sk-label-container {text-align: center;}#sk-container-id-11 div.sk-container {/* jupyter's `normalize.less` sets `[hidden] { display: none; }` but bootstrap.min.css set `[hidden] { display: none !important; }` so we also need the `!important` here to be able to override the default hidden behavior on the sphinx rendered scikit-learn.org. See: https://github.com/scikit-learn/scikit-learn/issues/21755 */display: inline-block !important;position: relative;}#sk-container-id-11 div.sk-text-repr-fallback {display: none;}</style><div id=\"sk-container-id-11\" class=\"sk-top-container\"><div class=\"sk-text-repr-fallback\"><pre>MLPRegressor(hidden_layer_sizes=(200, 120), max_iter=300, random_state=123)</pre><b>In a Jupyter environment, please rerun this cell to show the HTML representation or trust the notebook. <br />On GitHub, the HTML representation is unable to render, please try loading this page with nbviewer.org.</b></div><div class=\"sk-container\" hidden><div class=\"sk-item\"><div class=\"sk-estimator sk-toggleable\"><input class=\"sk-toggleable__control sk-hidden--visually\" id=\"sk-estimator-id-11\" type=\"checkbox\" checked><label for=\"sk-estimator-id-11\" class=\"sk-toggleable__label sk-toggleable__label-arrow\">MLPRegressor</label><div class=\"sk-toggleable__content\"><pre>MLPRegressor(hidden_layer_sizes=(200, 120), max_iter=300, random_state=123)</pre></div></div></div></div></div>"
      ],
      "text/plain": [
       "MLPRegressor(hidden_layer_sizes=(200, 120), max_iter=300, random_state=123)"
      ]
     },
     "execution_count": 51,
     "metadata": {},
     "output_type": "execute_result"
    }
   ],
   "source": [
    "from sklearn.model_selection import train_test_split\n",
    "X = no_dup_df[['Player','Pit', 'Goal', 'Wall']]\n",
    "y = no_dup_df[['Bellman_Operator']]\n",
    "X_train, X_test, y_train, y_test = train_test_split(X, y, test_size = 4/10, random_state = 0)\n",
    "mlp = MLPRegressor(hidden_layer_sizes=(200,120), max_iter=300, activation = 'relu', solver='adam', random_state=123)\n",
    "mlp.fit(X_train.values,y_train.values.ravel())"
   ]
  },
  {
   "cell_type": "code",
   "execution_count": 52,
   "id": "09a0c2f4-1a76-426a-8b4e-e9780f8d2049",
   "metadata": {},
   "outputs": [],
   "source": [
    "h = 0\n",
    "w, h = 13, 300000\n",
    "experience_mlp = [[0 for x in range(w)] for y in range(h)] \n",
    "\n",
    "global counter\n",
    "counter = 0"
   ]
  },
  {
   "cell_type": "code",
   "execution_count": 53,
   "id": "7176d557-9151-4ef4-ab45-9f4f20279798",
   "metadata": {},
   "outputs": [
    {
     "name": "stdout",
     "output_type": "stream",
     "text": [
      "Games played: 1000, # of wins: 870\n",
      "0.87\n",
      "0.87\n",
      "Games played: 1000, # of wins: 876\n",
      "0.876\n",
      "1.746\n",
      "Games played: 1000, # of wins: 877\n",
      "0.877\n",
      "2.623\n",
      "Games played: 1000, # of wins: 857\n",
      "0.857\n",
      "3.4800000000000004\n",
      "Games played: 1000, # of wins: 848\n",
      "0.848\n",
      "4.328\n",
      "Games played: 1000, # of wins: 862\n",
      "0.862\n",
      "5.19\n",
      "Games played: 1000, # of wins: 874\n",
      "0.874\n",
      "6.064\n",
      "Games played: 1000, # of wins: 867\n",
      "0.867\n",
      "6.931\n",
      "Games played: 1000, # of wins: 859\n",
      "0.859\n",
      "7.79\n",
      "Games played: 1000, # of wins: 868\n",
      "0.868\n",
      "8.658\n",
      "Win percentage: 86.57999999999998%\n"
     ]
    }
   ],
   "source": [
    "win_num = 0\n",
    "for i in range(0,10):\n",
    "    max_games = 1000\n",
    "    wins = 0\n",
    "    for i in range(max_games):\n",
    "        win = mlp_test_model(mlp, experience_mlp, 'random', display = False)\n",
    "        if win:\n",
    "            wins += 1\n",
    "    win_perc = float(wins) / float(max_games)\n",
    "    win_num = win_num + win_perc\n",
    "    print(\"Games played: {0}, # of wins: {1}\".format(max_games,wins))\n",
    "    print(win_perc)\n",
    "    print(win_num)\n",
    "win_num = win_num / 10\n",
    "print(\"Win percentage: {}%\".format(win_num*100))"
   ]
  },
  {
   "cell_type": "markdown",
   "id": "3db403cf-a871-4fcb-a38a-5bcca7c4752a",
   "metadata": {},
   "source": [
    "## Q-Value 60%"
   ]
  },
  {
   "cell_type": "code",
   "execution_count": 54,
   "id": "226af85f-c4ce-4eb5-95d9-a83099fddad1",
   "metadata": {},
   "outputs": [
    {
     "name": "stderr",
     "output_type": "stream",
     "text": [
      "D:\\Conda\\lib\\site-packages\\sklearn\\neural_network\\_multilayer_perceptron.py:702: ConvergenceWarning: Stochastic Optimizer: Maximum iterations (300) reached and the optimization hasn't converged yet.\n",
      "  warnings.warn(\n"
     ]
    },
    {
     "data": {
      "text/html": [
       "<style>#sk-container-id-12 {color: black;background-color: white;}#sk-container-id-12 pre{padding: 0;}#sk-container-id-12 div.sk-toggleable {background-color: white;}#sk-container-id-12 label.sk-toggleable__label {cursor: pointer;display: block;width: 100%;margin-bottom: 0;padding: 0.3em;box-sizing: border-box;text-align: center;}#sk-container-id-12 label.sk-toggleable__label-arrow:before {content: \"▸\";float: left;margin-right: 0.25em;color: #696969;}#sk-container-id-12 label.sk-toggleable__label-arrow:hover:before {color: black;}#sk-container-id-12 div.sk-estimator:hover label.sk-toggleable__label-arrow:before {color: black;}#sk-container-id-12 div.sk-toggleable__content {max-height: 0;max-width: 0;overflow: hidden;text-align: left;background-color: #f0f8ff;}#sk-container-id-12 div.sk-toggleable__content pre {margin: 0.2em;color: black;border-radius: 0.25em;background-color: #f0f8ff;}#sk-container-id-12 input.sk-toggleable__control:checked~div.sk-toggleable__content {max-height: 200px;max-width: 100%;overflow: auto;}#sk-container-id-12 input.sk-toggleable__control:checked~label.sk-toggleable__label-arrow:before {content: \"▾\";}#sk-container-id-12 div.sk-estimator input.sk-toggleable__control:checked~label.sk-toggleable__label {background-color: #d4ebff;}#sk-container-id-12 div.sk-label input.sk-toggleable__control:checked~label.sk-toggleable__label {background-color: #d4ebff;}#sk-container-id-12 input.sk-hidden--visually {border: 0;clip: rect(1px 1px 1px 1px);clip: rect(1px, 1px, 1px, 1px);height: 1px;margin: -1px;overflow: hidden;padding: 0;position: absolute;width: 1px;}#sk-container-id-12 div.sk-estimator {font-family: monospace;background-color: #f0f8ff;border: 1px dotted black;border-radius: 0.25em;box-sizing: border-box;margin-bottom: 0.5em;}#sk-container-id-12 div.sk-estimator:hover {background-color: #d4ebff;}#sk-container-id-12 div.sk-parallel-item::after {content: \"\";width: 100%;border-bottom: 1px solid gray;flex-grow: 1;}#sk-container-id-12 div.sk-label:hover label.sk-toggleable__label {background-color: #d4ebff;}#sk-container-id-12 div.sk-serial::before {content: \"\";position: absolute;border-left: 1px solid gray;box-sizing: border-box;top: 0;bottom: 0;left: 50%;z-index: 0;}#sk-container-id-12 div.sk-serial {display: flex;flex-direction: column;align-items: center;background-color: white;padding-right: 0.2em;padding-left: 0.2em;position: relative;}#sk-container-id-12 div.sk-item {position: relative;z-index: 1;}#sk-container-id-12 div.sk-parallel {display: flex;align-items: stretch;justify-content: center;background-color: white;position: relative;}#sk-container-id-12 div.sk-item::before, #sk-container-id-12 div.sk-parallel-item::before {content: \"\";position: absolute;border-left: 1px solid gray;box-sizing: border-box;top: 0;bottom: 0;left: 50%;z-index: -1;}#sk-container-id-12 div.sk-parallel-item {display: flex;flex-direction: column;z-index: 1;position: relative;background-color: white;}#sk-container-id-12 div.sk-parallel-item:first-child::after {align-self: flex-end;width: 50%;}#sk-container-id-12 div.sk-parallel-item:last-child::after {align-self: flex-start;width: 50%;}#sk-container-id-12 div.sk-parallel-item:only-child::after {width: 0;}#sk-container-id-12 div.sk-dashed-wrapped {border: 1px dashed gray;margin: 0 0.4em 0.5em 0.4em;box-sizing: border-box;padding-bottom: 0.4em;background-color: white;}#sk-container-id-12 div.sk-label label {font-family: monospace;font-weight: bold;display: inline-block;line-height: 1.2em;}#sk-container-id-12 div.sk-label-container {text-align: center;}#sk-container-id-12 div.sk-container {/* jupyter's `normalize.less` sets `[hidden] { display: none; }` but bootstrap.min.css set `[hidden] { display: none !important; }` so we also need the `!important` here to be able to override the default hidden behavior on the sphinx rendered scikit-learn.org. See: https://github.com/scikit-learn/scikit-learn/issues/21755 */display: inline-block !important;position: relative;}#sk-container-id-12 div.sk-text-repr-fallback {display: none;}</style><div id=\"sk-container-id-12\" class=\"sk-top-container\"><div class=\"sk-text-repr-fallback\"><pre>MLPRegressor(hidden_layer_sizes=(200, 120), max_iter=300, random_state=123)</pre><b>In a Jupyter environment, please rerun this cell to show the HTML representation or trust the notebook. <br />On GitHub, the HTML representation is unable to render, please try loading this page with nbviewer.org.</b></div><div class=\"sk-container\" hidden><div class=\"sk-item\"><div class=\"sk-estimator sk-toggleable\"><input class=\"sk-toggleable__control sk-hidden--visually\" id=\"sk-estimator-id-12\" type=\"checkbox\" checked><label for=\"sk-estimator-id-12\" class=\"sk-toggleable__label sk-toggleable__label-arrow\">MLPRegressor</label><div class=\"sk-toggleable__content\"><pre>MLPRegressor(hidden_layer_sizes=(200, 120), max_iter=300, random_state=123)</pre></div></div></div></div></div>"
      ],
      "text/plain": [
       "MLPRegressor(hidden_layer_sizes=(200, 120), max_iter=300, random_state=123)"
      ]
     },
     "execution_count": 54,
     "metadata": {},
     "output_type": "execute_result"
    }
   ],
   "source": [
    "from sklearn.model_selection import train_test_split\n",
    "X = no_dup_df[['Player','Pit', 'Goal', 'Wall']]\n",
    "y = no_dup_df[['Q_Current']]\n",
    "X_train, X_test, y_train, y_test = train_test_split(X, y, test_size = 4/10, random_state = 0)\n",
    "mlp = MLPRegressor(hidden_layer_sizes=(200,120), max_iter=300, activation = 'relu', solver='adam', random_state=123)\n",
    "mlp.fit(X_train.values,y_train.values.ravel())"
   ]
  },
  {
   "cell_type": "code",
   "execution_count": 55,
   "id": "eb335b00-d9cf-4430-ae32-867c19652bb7",
   "metadata": {},
   "outputs": [
    {
     "name": "stdout",
     "output_type": "stream",
     "text": [
      "Games played: 1000, # of wins: 920\n",
      "0.92\n",
      "0.92\n",
      "Games played: 1000, # of wins: 920\n",
      "0.92\n",
      "1.84\n",
      "Games played: 1000, # of wins: 932\n",
      "0.932\n",
      "2.7720000000000002\n",
      "Games played: 1000, # of wins: 944\n",
      "0.944\n",
      "3.716\n",
      "Games played: 1000, # of wins: 929\n",
      "0.929\n",
      "4.6450000000000005\n",
      "Games played: 1000, # of wins: 915\n",
      "0.915\n",
      "5.5600000000000005\n",
      "Games played: 1000, # of wins: 942\n",
      "0.942\n",
      "6.502000000000001\n",
      "Games played: 1000, # of wins: 929\n",
      "0.929\n",
      "7.431000000000001\n",
      "Games played: 1000, # of wins: 944\n",
      "0.944\n",
      "8.375\n",
      "Games played: 1000, # of wins: 944\n",
      "0.944\n",
      "9.318999999999999\n",
      "Win percentage: 93.19%\n"
     ]
    }
   ],
   "source": [
    "win_num = 0\n",
    "for i in range(0,10):\n",
    "    max_games = 1000\n",
    "    wins = 0\n",
    "    for i in range(max_games):\n",
    "        win = mlp_test_model(mlp, experience_mlp, 'random', display = False)\n",
    "        if win:\n",
    "            wins += 1\n",
    "    win_perc = float(wins) / float(max_games)\n",
    "    win_num = win_num + win_perc\n",
    "    print(\"Games played: {0}, # of wins: {1}\".format(max_games,wins))\n",
    "    print(win_perc)\n",
    "    print(win_num)\n",
    "win_num = win_num / 10\n",
    "print(\"Win percentage: {}%\".format(win_num*100))"
   ]
  },
  {
   "cell_type": "markdown",
   "id": "510450a9-efb6-43c9-a6d5-5a2cda263376",
   "metadata": {},
   "source": [
    "## Bellman Operator 50%"
   ]
  },
  {
   "cell_type": "code",
   "execution_count": 56,
   "id": "c8334463-1622-4154-90f6-ea8056522e75",
   "metadata": {},
   "outputs": [
    {
     "name": "stderr",
     "output_type": "stream",
     "text": [
      "D:\\Conda\\lib\\site-packages\\sklearn\\neural_network\\_multilayer_perceptron.py:702: ConvergenceWarning: Stochastic Optimizer: Maximum iterations (300) reached and the optimization hasn't converged yet.\n",
      "  warnings.warn(\n"
     ]
    },
    {
     "data": {
      "text/html": [
       "<style>#sk-container-id-13 {color: black;background-color: white;}#sk-container-id-13 pre{padding: 0;}#sk-container-id-13 div.sk-toggleable {background-color: white;}#sk-container-id-13 label.sk-toggleable__label {cursor: pointer;display: block;width: 100%;margin-bottom: 0;padding: 0.3em;box-sizing: border-box;text-align: center;}#sk-container-id-13 label.sk-toggleable__label-arrow:before {content: \"▸\";float: left;margin-right: 0.25em;color: #696969;}#sk-container-id-13 label.sk-toggleable__label-arrow:hover:before {color: black;}#sk-container-id-13 div.sk-estimator:hover label.sk-toggleable__label-arrow:before {color: black;}#sk-container-id-13 div.sk-toggleable__content {max-height: 0;max-width: 0;overflow: hidden;text-align: left;background-color: #f0f8ff;}#sk-container-id-13 div.sk-toggleable__content pre {margin: 0.2em;color: black;border-radius: 0.25em;background-color: #f0f8ff;}#sk-container-id-13 input.sk-toggleable__control:checked~div.sk-toggleable__content {max-height: 200px;max-width: 100%;overflow: auto;}#sk-container-id-13 input.sk-toggleable__control:checked~label.sk-toggleable__label-arrow:before {content: \"▾\";}#sk-container-id-13 div.sk-estimator input.sk-toggleable__control:checked~label.sk-toggleable__label {background-color: #d4ebff;}#sk-container-id-13 div.sk-label input.sk-toggleable__control:checked~label.sk-toggleable__label {background-color: #d4ebff;}#sk-container-id-13 input.sk-hidden--visually {border: 0;clip: rect(1px 1px 1px 1px);clip: rect(1px, 1px, 1px, 1px);height: 1px;margin: -1px;overflow: hidden;padding: 0;position: absolute;width: 1px;}#sk-container-id-13 div.sk-estimator {font-family: monospace;background-color: #f0f8ff;border: 1px dotted black;border-radius: 0.25em;box-sizing: border-box;margin-bottom: 0.5em;}#sk-container-id-13 div.sk-estimator:hover {background-color: #d4ebff;}#sk-container-id-13 div.sk-parallel-item::after {content: \"\";width: 100%;border-bottom: 1px solid gray;flex-grow: 1;}#sk-container-id-13 div.sk-label:hover label.sk-toggleable__label {background-color: #d4ebff;}#sk-container-id-13 div.sk-serial::before {content: \"\";position: absolute;border-left: 1px solid gray;box-sizing: border-box;top: 0;bottom: 0;left: 50%;z-index: 0;}#sk-container-id-13 div.sk-serial {display: flex;flex-direction: column;align-items: center;background-color: white;padding-right: 0.2em;padding-left: 0.2em;position: relative;}#sk-container-id-13 div.sk-item {position: relative;z-index: 1;}#sk-container-id-13 div.sk-parallel {display: flex;align-items: stretch;justify-content: center;background-color: white;position: relative;}#sk-container-id-13 div.sk-item::before, #sk-container-id-13 div.sk-parallel-item::before {content: \"\";position: absolute;border-left: 1px solid gray;box-sizing: border-box;top: 0;bottom: 0;left: 50%;z-index: -1;}#sk-container-id-13 div.sk-parallel-item {display: flex;flex-direction: column;z-index: 1;position: relative;background-color: white;}#sk-container-id-13 div.sk-parallel-item:first-child::after {align-self: flex-end;width: 50%;}#sk-container-id-13 div.sk-parallel-item:last-child::after {align-self: flex-start;width: 50%;}#sk-container-id-13 div.sk-parallel-item:only-child::after {width: 0;}#sk-container-id-13 div.sk-dashed-wrapped {border: 1px dashed gray;margin: 0 0.4em 0.5em 0.4em;box-sizing: border-box;padding-bottom: 0.4em;background-color: white;}#sk-container-id-13 div.sk-label label {font-family: monospace;font-weight: bold;display: inline-block;line-height: 1.2em;}#sk-container-id-13 div.sk-label-container {text-align: center;}#sk-container-id-13 div.sk-container {/* jupyter's `normalize.less` sets `[hidden] { display: none; }` but bootstrap.min.css set `[hidden] { display: none !important; }` so we also need the `!important` here to be able to override the default hidden behavior on the sphinx rendered scikit-learn.org. See: https://github.com/scikit-learn/scikit-learn/issues/21755 */display: inline-block !important;position: relative;}#sk-container-id-13 div.sk-text-repr-fallback {display: none;}</style><div id=\"sk-container-id-13\" class=\"sk-top-container\"><div class=\"sk-text-repr-fallback\"><pre>MLPRegressor(hidden_layer_sizes=(200, 120), max_iter=300, random_state=123)</pre><b>In a Jupyter environment, please rerun this cell to show the HTML representation or trust the notebook. <br />On GitHub, the HTML representation is unable to render, please try loading this page with nbviewer.org.</b></div><div class=\"sk-container\" hidden><div class=\"sk-item\"><div class=\"sk-estimator sk-toggleable\"><input class=\"sk-toggleable__control sk-hidden--visually\" id=\"sk-estimator-id-13\" type=\"checkbox\" checked><label for=\"sk-estimator-id-13\" class=\"sk-toggleable__label sk-toggleable__label-arrow\">MLPRegressor</label><div class=\"sk-toggleable__content\"><pre>MLPRegressor(hidden_layer_sizes=(200, 120), max_iter=300, random_state=123)</pre></div></div></div></div></div>"
      ],
      "text/plain": [
       "MLPRegressor(hidden_layer_sizes=(200, 120), max_iter=300, random_state=123)"
      ]
     },
     "execution_count": 56,
     "metadata": {},
     "output_type": "execute_result"
    }
   ],
   "source": [
    "from sklearn.model_selection import train_test_split\n",
    "X = no_dup_df[['Player','Pit', 'Goal', 'Wall']]\n",
    "y = no_dup_df[['Bellman_Operator']]\n",
    "X_train, X_test, y_train, y_test = train_test_split(X, y, test_size = 5/10, random_state = 0)\n",
    "mlp = MLPRegressor(hidden_layer_sizes=(200,120), max_iter=300, activation = 'relu', solver='adam', random_state=123)\n",
    "mlp.fit(X_train.values,y_train.values.ravel())"
   ]
  },
  {
   "cell_type": "code",
   "execution_count": 57,
   "id": "2f08e547-4ba7-40fb-856b-c16015afa81b",
   "metadata": {},
   "outputs": [],
   "source": [
    "h = 0\n",
    "w, h = 13, 300000\n",
    "experience_mlp = [[0 for x in range(w)] for y in range(h)] \n",
    "\n",
    "global counter\n",
    "counter = 0"
   ]
  },
  {
   "cell_type": "code",
   "execution_count": 58,
   "id": "8cbfda93-01b8-43cf-82c1-d00a60b8ef9d",
   "metadata": {},
   "outputs": [
    {
     "name": "stdout",
     "output_type": "stream",
     "text": [
      "Games played: 1000, # of wins: 849\n",
      "0.849\n",
      "0.849\n",
      "Games played: 1000, # of wins: 858\n",
      "0.858\n",
      "1.7069999999999999\n",
      "Games played: 1000, # of wins: 831\n",
      "0.831\n",
      "2.538\n",
      "Games played: 1000, # of wins: 852\n",
      "0.852\n",
      "3.3899999999999997\n",
      "Games played: 1000, # of wins: 837\n",
      "0.837\n",
      "4.226999999999999\n",
      "Games played: 1000, # of wins: 825\n",
      "0.825\n",
      "5.052\n",
      "Games played: 1000, # of wins: 850\n",
      "0.85\n",
      "5.901999999999999\n",
      "Games played: 1000, # of wins: 829\n",
      "0.829\n",
      "6.730999999999999\n",
      "Games played: 1000, # of wins: 832\n",
      "0.832\n",
      "7.562999999999999\n",
      "Games played: 1000, # of wins: 844\n",
      "0.844\n",
      "8.406999999999998\n",
      "Win percentage: 84.06999999999998%\n"
     ]
    }
   ],
   "source": [
    "win_num = 0\n",
    "for i in range(0,10):\n",
    "    max_games = 1000\n",
    "    wins = 0\n",
    "    for i in range(max_games):\n",
    "        win = mlp_test_model(mlp, experience_mlp, 'random', display = False)\n",
    "        if win:\n",
    "            wins += 1\n",
    "    win_perc = float(wins) / float(max_games)\n",
    "    win_num = win_num + win_perc\n",
    "    print(\"Games played: {0}, # of wins: {1}\".format(max_games,wins))\n",
    "    print(win_perc)\n",
    "    print(win_num)\n",
    "win_num = win_num / 10\n",
    "print(\"Win percentage: {}%\".format(win_num*100))"
   ]
  },
  {
   "cell_type": "markdown",
   "id": "e068d8c7-5182-4a8e-9feb-96bfb24dd15c",
   "metadata": {},
   "source": [
    "## Q-Value 50%"
   ]
  },
  {
   "cell_type": "code",
   "execution_count": 59,
   "id": "18665c33-6b72-4a2a-b7d4-638a98c1f85e",
   "metadata": {},
   "outputs": [
    {
     "data": {
      "text/html": [
       "<style>#sk-container-id-14 {color: black;background-color: white;}#sk-container-id-14 pre{padding: 0;}#sk-container-id-14 div.sk-toggleable {background-color: white;}#sk-container-id-14 label.sk-toggleable__label {cursor: pointer;display: block;width: 100%;margin-bottom: 0;padding: 0.3em;box-sizing: border-box;text-align: center;}#sk-container-id-14 label.sk-toggleable__label-arrow:before {content: \"▸\";float: left;margin-right: 0.25em;color: #696969;}#sk-container-id-14 label.sk-toggleable__label-arrow:hover:before {color: black;}#sk-container-id-14 div.sk-estimator:hover label.sk-toggleable__label-arrow:before {color: black;}#sk-container-id-14 div.sk-toggleable__content {max-height: 0;max-width: 0;overflow: hidden;text-align: left;background-color: #f0f8ff;}#sk-container-id-14 div.sk-toggleable__content pre {margin: 0.2em;color: black;border-radius: 0.25em;background-color: #f0f8ff;}#sk-container-id-14 input.sk-toggleable__control:checked~div.sk-toggleable__content {max-height: 200px;max-width: 100%;overflow: auto;}#sk-container-id-14 input.sk-toggleable__control:checked~label.sk-toggleable__label-arrow:before {content: \"▾\";}#sk-container-id-14 div.sk-estimator input.sk-toggleable__control:checked~label.sk-toggleable__label {background-color: #d4ebff;}#sk-container-id-14 div.sk-label input.sk-toggleable__control:checked~label.sk-toggleable__label {background-color: #d4ebff;}#sk-container-id-14 input.sk-hidden--visually {border: 0;clip: rect(1px 1px 1px 1px);clip: rect(1px, 1px, 1px, 1px);height: 1px;margin: -1px;overflow: hidden;padding: 0;position: absolute;width: 1px;}#sk-container-id-14 div.sk-estimator {font-family: monospace;background-color: #f0f8ff;border: 1px dotted black;border-radius: 0.25em;box-sizing: border-box;margin-bottom: 0.5em;}#sk-container-id-14 div.sk-estimator:hover {background-color: #d4ebff;}#sk-container-id-14 div.sk-parallel-item::after {content: \"\";width: 100%;border-bottom: 1px solid gray;flex-grow: 1;}#sk-container-id-14 div.sk-label:hover label.sk-toggleable__label {background-color: #d4ebff;}#sk-container-id-14 div.sk-serial::before {content: \"\";position: absolute;border-left: 1px solid gray;box-sizing: border-box;top: 0;bottom: 0;left: 50%;z-index: 0;}#sk-container-id-14 div.sk-serial {display: flex;flex-direction: column;align-items: center;background-color: white;padding-right: 0.2em;padding-left: 0.2em;position: relative;}#sk-container-id-14 div.sk-item {position: relative;z-index: 1;}#sk-container-id-14 div.sk-parallel {display: flex;align-items: stretch;justify-content: center;background-color: white;position: relative;}#sk-container-id-14 div.sk-item::before, #sk-container-id-14 div.sk-parallel-item::before {content: \"\";position: absolute;border-left: 1px solid gray;box-sizing: border-box;top: 0;bottom: 0;left: 50%;z-index: -1;}#sk-container-id-14 div.sk-parallel-item {display: flex;flex-direction: column;z-index: 1;position: relative;background-color: white;}#sk-container-id-14 div.sk-parallel-item:first-child::after {align-self: flex-end;width: 50%;}#sk-container-id-14 div.sk-parallel-item:last-child::after {align-self: flex-start;width: 50%;}#sk-container-id-14 div.sk-parallel-item:only-child::after {width: 0;}#sk-container-id-14 div.sk-dashed-wrapped {border: 1px dashed gray;margin: 0 0.4em 0.5em 0.4em;box-sizing: border-box;padding-bottom: 0.4em;background-color: white;}#sk-container-id-14 div.sk-label label {font-family: monospace;font-weight: bold;display: inline-block;line-height: 1.2em;}#sk-container-id-14 div.sk-label-container {text-align: center;}#sk-container-id-14 div.sk-container {/* jupyter's `normalize.less` sets `[hidden] { display: none; }` but bootstrap.min.css set `[hidden] { display: none !important; }` so we also need the `!important` here to be able to override the default hidden behavior on the sphinx rendered scikit-learn.org. See: https://github.com/scikit-learn/scikit-learn/issues/21755 */display: inline-block !important;position: relative;}#sk-container-id-14 div.sk-text-repr-fallback {display: none;}</style><div id=\"sk-container-id-14\" class=\"sk-top-container\"><div class=\"sk-text-repr-fallback\"><pre>MLPRegressor(hidden_layer_sizes=(200, 120), max_iter=300, random_state=123)</pre><b>In a Jupyter environment, please rerun this cell to show the HTML representation or trust the notebook. <br />On GitHub, the HTML representation is unable to render, please try loading this page with nbviewer.org.</b></div><div class=\"sk-container\" hidden><div class=\"sk-item\"><div class=\"sk-estimator sk-toggleable\"><input class=\"sk-toggleable__control sk-hidden--visually\" id=\"sk-estimator-id-14\" type=\"checkbox\" checked><label for=\"sk-estimator-id-14\" class=\"sk-toggleable__label sk-toggleable__label-arrow\">MLPRegressor</label><div class=\"sk-toggleable__content\"><pre>MLPRegressor(hidden_layer_sizes=(200, 120), max_iter=300, random_state=123)</pre></div></div></div></div></div>"
      ],
      "text/plain": [
       "MLPRegressor(hidden_layer_sizes=(200, 120), max_iter=300, random_state=123)"
      ]
     },
     "execution_count": 59,
     "metadata": {},
     "output_type": "execute_result"
    }
   ],
   "source": [
    "from sklearn.model_selection import train_test_split\n",
    "X = no_dup_df[['Player','Pit', 'Goal', 'Wall']]\n",
    "y = no_dup_df[['Q_Current']]\n",
    "X_train, X_test, y_train, y_test = train_test_split(X, y, test_size = 5/10, random_state = 0)\n",
    "mlp = MLPRegressor(hidden_layer_sizes=(200,120), max_iter=300, activation = 'relu', solver='adam', random_state=123)\n",
    "mlp.fit(X_train.values,y_train.values.ravel())"
   ]
  },
  {
   "cell_type": "code",
   "execution_count": 60,
   "id": "3eb57b86-f3bb-4c19-a6f5-99da9f070cf0",
   "metadata": {},
   "outputs": [
    {
     "name": "stdout",
     "output_type": "stream",
     "text": [
      "Games played: 1000, # of wins: 916\n",
      "0.916\n",
      "0.916\n",
      "Games played: 1000, # of wins: 916\n",
      "0.916\n",
      "1.832\n",
      "Games played: 1000, # of wins: 915\n",
      "0.915\n",
      "2.747\n",
      "Games played: 1000, # of wins: 902\n",
      "0.902\n",
      "3.649\n",
      "Games played: 1000, # of wins: 898\n",
      "0.898\n",
      "4.547\n",
      "Games played: 1000, # of wins: 902\n",
      "0.902\n",
      "5.449\n",
      "Games played: 1000, # of wins: 938\n",
      "0.938\n",
      "6.387\n",
      "Games played: 1000, # of wins: 917\n",
      "0.917\n",
      "7.303999999999999\n",
      "Games played: 1000, # of wins: 921\n",
      "0.921\n",
      "8.225\n",
      "Games played: 1000, # of wins: 907\n",
      "0.907\n",
      "9.132\n",
      "Win percentage: 91.32000000000001%\n"
     ]
    }
   ],
   "source": [
    "win_num = 0\n",
    "for i in range(0,10):\n",
    "    max_games = 1000\n",
    "    wins = 0\n",
    "    for i in range(max_games):\n",
    "        win = mlp_test_model(mlp, experience_mlp, 'random', display = False)\n",
    "        if win:\n",
    "            wins += 1\n",
    "    win_perc = float(wins) / float(max_games)\n",
    "    win_num = win_num + win_perc\n",
    "    print(\"Games played: {0}, # of wins: {1}\".format(max_games,wins))\n",
    "    print(win_perc)\n",
    "    print(win_num)\n",
    "win_num = win_num / 10\n",
    "print(\"Win percentage: {}%\".format(win_num*100))"
   ]
  },
  {
   "cell_type": "markdown",
   "id": "f2de264f-0ac5-401f-baf4-b81a75a80b78",
   "metadata": {},
   "source": [
    "## Bellman Opearator 40%"
   ]
  },
  {
   "cell_type": "code",
   "execution_count": 61,
   "id": "26fbb3a9-0b17-4f84-b8c1-d841d17f683d",
   "metadata": {},
   "outputs": [
    {
     "name": "stderr",
     "output_type": "stream",
     "text": [
      "D:\\Conda\\lib\\site-packages\\sklearn\\neural_network\\_multilayer_perceptron.py:702: ConvergenceWarning: Stochastic Optimizer: Maximum iterations (300) reached and the optimization hasn't converged yet.\n",
      "  warnings.warn(\n"
     ]
    },
    {
     "data": {
      "text/html": [
       "<style>#sk-container-id-15 {color: black;background-color: white;}#sk-container-id-15 pre{padding: 0;}#sk-container-id-15 div.sk-toggleable {background-color: white;}#sk-container-id-15 label.sk-toggleable__label {cursor: pointer;display: block;width: 100%;margin-bottom: 0;padding: 0.3em;box-sizing: border-box;text-align: center;}#sk-container-id-15 label.sk-toggleable__label-arrow:before {content: \"▸\";float: left;margin-right: 0.25em;color: #696969;}#sk-container-id-15 label.sk-toggleable__label-arrow:hover:before {color: black;}#sk-container-id-15 div.sk-estimator:hover label.sk-toggleable__label-arrow:before {color: black;}#sk-container-id-15 div.sk-toggleable__content {max-height: 0;max-width: 0;overflow: hidden;text-align: left;background-color: #f0f8ff;}#sk-container-id-15 div.sk-toggleable__content pre {margin: 0.2em;color: black;border-radius: 0.25em;background-color: #f0f8ff;}#sk-container-id-15 input.sk-toggleable__control:checked~div.sk-toggleable__content {max-height: 200px;max-width: 100%;overflow: auto;}#sk-container-id-15 input.sk-toggleable__control:checked~label.sk-toggleable__label-arrow:before {content: \"▾\";}#sk-container-id-15 div.sk-estimator input.sk-toggleable__control:checked~label.sk-toggleable__label {background-color: #d4ebff;}#sk-container-id-15 div.sk-label input.sk-toggleable__control:checked~label.sk-toggleable__label {background-color: #d4ebff;}#sk-container-id-15 input.sk-hidden--visually {border: 0;clip: rect(1px 1px 1px 1px);clip: rect(1px, 1px, 1px, 1px);height: 1px;margin: -1px;overflow: hidden;padding: 0;position: absolute;width: 1px;}#sk-container-id-15 div.sk-estimator {font-family: monospace;background-color: #f0f8ff;border: 1px dotted black;border-radius: 0.25em;box-sizing: border-box;margin-bottom: 0.5em;}#sk-container-id-15 div.sk-estimator:hover {background-color: #d4ebff;}#sk-container-id-15 div.sk-parallel-item::after {content: \"\";width: 100%;border-bottom: 1px solid gray;flex-grow: 1;}#sk-container-id-15 div.sk-label:hover label.sk-toggleable__label {background-color: #d4ebff;}#sk-container-id-15 div.sk-serial::before {content: \"\";position: absolute;border-left: 1px solid gray;box-sizing: border-box;top: 0;bottom: 0;left: 50%;z-index: 0;}#sk-container-id-15 div.sk-serial {display: flex;flex-direction: column;align-items: center;background-color: white;padding-right: 0.2em;padding-left: 0.2em;position: relative;}#sk-container-id-15 div.sk-item {position: relative;z-index: 1;}#sk-container-id-15 div.sk-parallel {display: flex;align-items: stretch;justify-content: center;background-color: white;position: relative;}#sk-container-id-15 div.sk-item::before, #sk-container-id-15 div.sk-parallel-item::before {content: \"\";position: absolute;border-left: 1px solid gray;box-sizing: border-box;top: 0;bottom: 0;left: 50%;z-index: -1;}#sk-container-id-15 div.sk-parallel-item {display: flex;flex-direction: column;z-index: 1;position: relative;background-color: white;}#sk-container-id-15 div.sk-parallel-item:first-child::after {align-self: flex-end;width: 50%;}#sk-container-id-15 div.sk-parallel-item:last-child::after {align-self: flex-start;width: 50%;}#sk-container-id-15 div.sk-parallel-item:only-child::after {width: 0;}#sk-container-id-15 div.sk-dashed-wrapped {border: 1px dashed gray;margin: 0 0.4em 0.5em 0.4em;box-sizing: border-box;padding-bottom: 0.4em;background-color: white;}#sk-container-id-15 div.sk-label label {font-family: monospace;font-weight: bold;display: inline-block;line-height: 1.2em;}#sk-container-id-15 div.sk-label-container {text-align: center;}#sk-container-id-15 div.sk-container {/* jupyter's `normalize.less` sets `[hidden] { display: none; }` but bootstrap.min.css set `[hidden] { display: none !important; }` so we also need the `!important` here to be able to override the default hidden behavior on the sphinx rendered scikit-learn.org. See: https://github.com/scikit-learn/scikit-learn/issues/21755 */display: inline-block !important;position: relative;}#sk-container-id-15 div.sk-text-repr-fallback {display: none;}</style><div id=\"sk-container-id-15\" class=\"sk-top-container\"><div class=\"sk-text-repr-fallback\"><pre>MLPRegressor(hidden_layer_sizes=(200, 120), max_iter=300, random_state=123)</pre><b>In a Jupyter environment, please rerun this cell to show the HTML representation or trust the notebook. <br />On GitHub, the HTML representation is unable to render, please try loading this page with nbviewer.org.</b></div><div class=\"sk-container\" hidden><div class=\"sk-item\"><div class=\"sk-estimator sk-toggleable\"><input class=\"sk-toggleable__control sk-hidden--visually\" id=\"sk-estimator-id-15\" type=\"checkbox\" checked><label for=\"sk-estimator-id-15\" class=\"sk-toggleable__label sk-toggleable__label-arrow\">MLPRegressor</label><div class=\"sk-toggleable__content\"><pre>MLPRegressor(hidden_layer_sizes=(200, 120), max_iter=300, random_state=123)</pre></div></div></div></div></div>"
      ],
      "text/plain": [
       "MLPRegressor(hidden_layer_sizes=(200, 120), max_iter=300, random_state=123)"
      ]
     },
     "execution_count": 61,
     "metadata": {},
     "output_type": "execute_result"
    }
   ],
   "source": [
    "from sklearn.model_selection import train_test_split\n",
    "X = no_dup_df[['Player','Pit', 'Goal', 'Wall']]\n",
    "y = no_dup_df[['Bellman_Operator']]\n",
    "X_train, X_test, y_train, y_test = train_test_split(X, y, test_size = 6/10, random_state = 0)\n",
    "mlp = MLPRegressor(hidden_layer_sizes=(200,120), max_iter=300, activation = 'relu', solver='adam', random_state=123)\n",
    "mlp.fit(X_train.values,y_train.values.ravel())"
   ]
  },
  {
   "cell_type": "code",
   "execution_count": 62,
   "id": "ef779334-0c7b-4e96-81da-3e371f0e0a34",
   "metadata": {},
   "outputs": [],
   "source": [
    "h = 0\n",
    "w, h = 13, 300000\n",
    "experience_mlp = [[0 for x in range(w)] for y in range(h)] \n",
    "\n",
    "global counter\n",
    "counter = 0"
   ]
  },
  {
   "cell_type": "code",
   "execution_count": 63,
   "id": "285fd21b-e982-417c-85bd-35a58afb169d",
   "metadata": {},
   "outputs": [
    {
     "name": "stdout",
     "output_type": "stream",
     "text": [
      "Games played: 1000, # of wins: 860\n",
      "0.86\n",
      "0.86\n",
      "Games played: 1000, # of wins: 851\n",
      "0.851\n",
      "1.7109999999999999\n",
      "Games played: 1000, # of wins: 841\n",
      "0.841\n",
      "2.5519999999999996\n",
      "Games played: 1000, # of wins: 849\n",
      "0.849\n",
      "3.401\n",
      "Games played: 1000, # of wins: 855\n",
      "0.855\n",
      "4.256\n",
      "Games played: 1000, # of wins: 856\n",
      "0.856\n",
      "5.112\n",
      "Games played: 1000, # of wins: 842\n",
      "0.842\n",
      "5.954\n",
      "Games played: 1000, # of wins: 850\n",
      "0.85\n",
      "6.803999999999999\n",
      "Games played: 1000, # of wins: 866\n",
      "0.866\n",
      "7.669999999999999\n",
      "Games played: 1000, # of wins: 864\n",
      "0.864\n",
      "8.533999999999999\n",
      "Win percentage: 85.33999999999999%\n"
     ]
    }
   ],
   "source": [
    "win_num = 0\n",
    "for i in range(0,10):\n",
    "    max_games = 1000\n",
    "    wins = 0\n",
    "    for i in range(max_games):\n",
    "        win = mlp_test_model(mlp, experience_mlp, 'random', display = False)\n",
    "        if win:\n",
    "            wins += 1\n",
    "    win_perc = float(wins) / float(max_games)\n",
    "    win_num = win_num + win_perc\n",
    "    print(\"Games played: {0}, # of wins: {1}\".format(max_games,wins))\n",
    "    print(win_perc)\n",
    "    print(win_num)\n",
    "win_num = win_num / 10\n",
    "print(\"Win percentage: {}%\".format(win_num*100))"
   ]
  },
  {
   "cell_type": "markdown",
   "id": "d0c4e809-134d-4a5f-ab48-b6ef2d702a9c",
   "metadata": {},
   "source": [
    "## Q-Value 40%"
   ]
  },
  {
   "cell_type": "code",
   "execution_count": 64,
   "id": "301f5904-2add-47a7-abe1-3f8e776551bb",
   "metadata": {},
   "outputs": [
    {
     "name": "stderr",
     "output_type": "stream",
     "text": [
      "D:\\Conda\\lib\\site-packages\\sklearn\\neural_network\\_multilayer_perceptron.py:702: ConvergenceWarning: Stochastic Optimizer: Maximum iterations (300) reached and the optimization hasn't converged yet.\n",
      "  warnings.warn(\n"
     ]
    },
    {
     "data": {
      "text/html": [
       "<style>#sk-container-id-16 {color: black;background-color: white;}#sk-container-id-16 pre{padding: 0;}#sk-container-id-16 div.sk-toggleable {background-color: white;}#sk-container-id-16 label.sk-toggleable__label {cursor: pointer;display: block;width: 100%;margin-bottom: 0;padding: 0.3em;box-sizing: border-box;text-align: center;}#sk-container-id-16 label.sk-toggleable__label-arrow:before {content: \"▸\";float: left;margin-right: 0.25em;color: #696969;}#sk-container-id-16 label.sk-toggleable__label-arrow:hover:before {color: black;}#sk-container-id-16 div.sk-estimator:hover label.sk-toggleable__label-arrow:before {color: black;}#sk-container-id-16 div.sk-toggleable__content {max-height: 0;max-width: 0;overflow: hidden;text-align: left;background-color: #f0f8ff;}#sk-container-id-16 div.sk-toggleable__content pre {margin: 0.2em;color: black;border-radius: 0.25em;background-color: #f0f8ff;}#sk-container-id-16 input.sk-toggleable__control:checked~div.sk-toggleable__content {max-height: 200px;max-width: 100%;overflow: auto;}#sk-container-id-16 input.sk-toggleable__control:checked~label.sk-toggleable__label-arrow:before {content: \"▾\";}#sk-container-id-16 div.sk-estimator input.sk-toggleable__control:checked~label.sk-toggleable__label {background-color: #d4ebff;}#sk-container-id-16 div.sk-label input.sk-toggleable__control:checked~label.sk-toggleable__label {background-color: #d4ebff;}#sk-container-id-16 input.sk-hidden--visually {border: 0;clip: rect(1px 1px 1px 1px);clip: rect(1px, 1px, 1px, 1px);height: 1px;margin: -1px;overflow: hidden;padding: 0;position: absolute;width: 1px;}#sk-container-id-16 div.sk-estimator {font-family: monospace;background-color: #f0f8ff;border: 1px dotted black;border-radius: 0.25em;box-sizing: border-box;margin-bottom: 0.5em;}#sk-container-id-16 div.sk-estimator:hover {background-color: #d4ebff;}#sk-container-id-16 div.sk-parallel-item::after {content: \"\";width: 100%;border-bottom: 1px solid gray;flex-grow: 1;}#sk-container-id-16 div.sk-label:hover label.sk-toggleable__label {background-color: #d4ebff;}#sk-container-id-16 div.sk-serial::before {content: \"\";position: absolute;border-left: 1px solid gray;box-sizing: border-box;top: 0;bottom: 0;left: 50%;z-index: 0;}#sk-container-id-16 div.sk-serial {display: flex;flex-direction: column;align-items: center;background-color: white;padding-right: 0.2em;padding-left: 0.2em;position: relative;}#sk-container-id-16 div.sk-item {position: relative;z-index: 1;}#sk-container-id-16 div.sk-parallel {display: flex;align-items: stretch;justify-content: center;background-color: white;position: relative;}#sk-container-id-16 div.sk-item::before, #sk-container-id-16 div.sk-parallel-item::before {content: \"\";position: absolute;border-left: 1px solid gray;box-sizing: border-box;top: 0;bottom: 0;left: 50%;z-index: -1;}#sk-container-id-16 div.sk-parallel-item {display: flex;flex-direction: column;z-index: 1;position: relative;background-color: white;}#sk-container-id-16 div.sk-parallel-item:first-child::after {align-self: flex-end;width: 50%;}#sk-container-id-16 div.sk-parallel-item:last-child::after {align-self: flex-start;width: 50%;}#sk-container-id-16 div.sk-parallel-item:only-child::after {width: 0;}#sk-container-id-16 div.sk-dashed-wrapped {border: 1px dashed gray;margin: 0 0.4em 0.5em 0.4em;box-sizing: border-box;padding-bottom: 0.4em;background-color: white;}#sk-container-id-16 div.sk-label label {font-family: monospace;font-weight: bold;display: inline-block;line-height: 1.2em;}#sk-container-id-16 div.sk-label-container {text-align: center;}#sk-container-id-16 div.sk-container {/* jupyter's `normalize.less` sets `[hidden] { display: none; }` but bootstrap.min.css set `[hidden] { display: none !important; }` so we also need the `!important` here to be able to override the default hidden behavior on the sphinx rendered scikit-learn.org. See: https://github.com/scikit-learn/scikit-learn/issues/21755 */display: inline-block !important;position: relative;}#sk-container-id-16 div.sk-text-repr-fallback {display: none;}</style><div id=\"sk-container-id-16\" class=\"sk-top-container\"><div class=\"sk-text-repr-fallback\"><pre>MLPRegressor(hidden_layer_sizes=(200, 120), max_iter=300, random_state=123)</pre><b>In a Jupyter environment, please rerun this cell to show the HTML representation or trust the notebook. <br />On GitHub, the HTML representation is unable to render, please try loading this page with nbviewer.org.</b></div><div class=\"sk-container\" hidden><div class=\"sk-item\"><div class=\"sk-estimator sk-toggleable\"><input class=\"sk-toggleable__control sk-hidden--visually\" id=\"sk-estimator-id-16\" type=\"checkbox\" checked><label for=\"sk-estimator-id-16\" class=\"sk-toggleable__label sk-toggleable__label-arrow\">MLPRegressor</label><div class=\"sk-toggleable__content\"><pre>MLPRegressor(hidden_layer_sizes=(200, 120), max_iter=300, random_state=123)</pre></div></div></div></div></div>"
      ],
      "text/plain": [
       "MLPRegressor(hidden_layer_sizes=(200, 120), max_iter=300, random_state=123)"
      ]
     },
     "execution_count": 64,
     "metadata": {},
     "output_type": "execute_result"
    }
   ],
   "source": [
    "from sklearn.model_selection import train_test_split\n",
    "X = no_dup_df[['Player','Pit', 'Goal', 'Wall']]\n",
    "y = no_dup_df[['Q_Current']]\n",
    "X_train, X_test, y_train, y_test = train_test_split(X, y, test_size = 6/10, random_state = 0)\n",
    "mlp = MLPRegressor(hidden_layer_sizes=(200,120), max_iter=300, activation = 'relu', solver='adam', random_state=123)\n",
    "mlp.fit(X_train.values,y_train.values.ravel())"
   ]
  },
  {
   "cell_type": "code",
   "execution_count": 65,
   "id": "8a1dfa69-9d7f-4f88-a876-621973b61b9b",
   "metadata": {},
   "outputs": [
    {
     "name": "stdout",
     "output_type": "stream",
     "text": [
      "Games played: 1000, # of wins: 872\n",
      "0.872\n",
      "0.872\n",
      "Games played: 1000, # of wins: 893\n",
      "0.893\n",
      "1.7650000000000001\n",
      "Games played: 1000, # of wins: 889\n",
      "0.889\n",
      "2.654\n",
      "Games played: 1000, # of wins: 894\n",
      "0.894\n",
      "3.548\n",
      "Games played: 1000, # of wins: 881\n",
      "0.881\n",
      "4.429\n",
      "Games played: 1000, # of wins: 887\n",
      "0.887\n",
      "5.316000000000001\n",
      "Games played: 1000, # of wins: 881\n",
      "0.881\n",
      "6.197000000000001\n",
      "Games played: 1000, # of wins: 872\n",
      "0.872\n",
      "7.069000000000001\n",
      "Games played: 1000, # of wins: 882\n",
      "0.882\n",
      "7.9510000000000005\n",
      "Games played: 1000, # of wins: 898\n",
      "0.898\n",
      "8.849\n",
      "Win percentage: 88.49000000000001%\n"
     ]
    }
   ],
   "source": [
    "win_num = 0\n",
    "for i in range(0,10):\n",
    "    max_games = 1000\n",
    "    wins = 0\n",
    "    for i in range(max_games):\n",
    "        win = mlp_test_model(mlp, experience_mlp, 'random', display = False)\n",
    "        if win:\n",
    "            wins += 1\n",
    "    win_perc = float(wins) / float(max_games)\n",
    "    win_num = win_num + win_perc\n",
    "    print(\"Games played: {0}, # of wins: {1}\".format(max_games,wins))\n",
    "    print(win_perc)\n",
    "    print(win_num)\n",
    "win_num = win_num / 10\n",
    "print(\"Win percentage: {}%\".format(win_num*100))"
   ]
  },
  {
   "cell_type": "markdown",
   "id": "10018009-c7b3-44b9-bb93-cc66388961f9",
   "metadata": {},
   "source": [
    "## Bellman Operator 30%"
   ]
  },
  {
   "cell_type": "code",
   "execution_count": 66,
   "id": "2fcf7b62-b981-457f-94ce-00779d4d965b",
   "metadata": {},
   "outputs": [
    {
     "name": "stderr",
     "output_type": "stream",
     "text": [
      "D:\\Conda\\lib\\site-packages\\sklearn\\neural_network\\_multilayer_perceptron.py:702: ConvergenceWarning: Stochastic Optimizer: Maximum iterations (300) reached and the optimization hasn't converged yet.\n",
      "  warnings.warn(\n"
     ]
    },
    {
     "data": {
      "text/html": [
       "<style>#sk-container-id-17 {color: black;background-color: white;}#sk-container-id-17 pre{padding: 0;}#sk-container-id-17 div.sk-toggleable {background-color: white;}#sk-container-id-17 label.sk-toggleable__label {cursor: pointer;display: block;width: 100%;margin-bottom: 0;padding: 0.3em;box-sizing: border-box;text-align: center;}#sk-container-id-17 label.sk-toggleable__label-arrow:before {content: \"▸\";float: left;margin-right: 0.25em;color: #696969;}#sk-container-id-17 label.sk-toggleable__label-arrow:hover:before {color: black;}#sk-container-id-17 div.sk-estimator:hover label.sk-toggleable__label-arrow:before {color: black;}#sk-container-id-17 div.sk-toggleable__content {max-height: 0;max-width: 0;overflow: hidden;text-align: left;background-color: #f0f8ff;}#sk-container-id-17 div.sk-toggleable__content pre {margin: 0.2em;color: black;border-radius: 0.25em;background-color: #f0f8ff;}#sk-container-id-17 input.sk-toggleable__control:checked~div.sk-toggleable__content {max-height: 200px;max-width: 100%;overflow: auto;}#sk-container-id-17 input.sk-toggleable__control:checked~label.sk-toggleable__label-arrow:before {content: \"▾\";}#sk-container-id-17 div.sk-estimator input.sk-toggleable__control:checked~label.sk-toggleable__label {background-color: #d4ebff;}#sk-container-id-17 div.sk-label input.sk-toggleable__control:checked~label.sk-toggleable__label {background-color: #d4ebff;}#sk-container-id-17 input.sk-hidden--visually {border: 0;clip: rect(1px 1px 1px 1px);clip: rect(1px, 1px, 1px, 1px);height: 1px;margin: -1px;overflow: hidden;padding: 0;position: absolute;width: 1px;}#sk-container-id-17 div.sk-estimator {font-family: monospace;background-color: #f0f8ff;border: 1px dotted black;border-radius: 0.25em;box-sizing: border-box;margin-bottom: 0.5em;}#sk-container-id-17 div.sk-estimator:hover {background-color: #d4ebff;}#sk-container-id-17 div.sk-parallel-item::after {content: \"\";width: 100%;border-bottom: 1px solid gray;flex-grow: 1;}#sk-container-id-17 div.sk-label:hover label.sk-toggleable__label {background-color: #d4ebff;}#sk-container-id-17 div.sk-serial::before {content: \"\";position: absolute;border-left: 1px solid gray;box-sizing: border-box;top: 0;bottom: 0;left: 50%;z-index: 0;}#sk-container-id-17 div.sk-serial {display: flex;flex-direction: column;align-items: center;background-color: white;padding-right: 0.2em;padding-left: 0.2em;position: relative;}#sk-container-id-17 div.sk-item {position: relative;z-index: 1;}#sk-container-id-17 div.sk-parallel {display: flex;align-items: stretch;justify-content: center;background-color: white;position: relative;}#sk-container-id-17 div.sk-item::before, #sk-container-id-17 div.sk-parallel-item::before {content: \"\";position: absolute;border-left: 1px solid gray;box-sizing: border-box;top: 0;bottom: 0;left: 50%;z-index: -1;}#sk-container-id-17 div.sk-parallel-item {display: flex;flex-direction: column;z-index: 1;position: relative;background-color: white;}#sk-container-id-17 div.sk-parallel-item:first-child::after {align-self: flex-end;width: 50%;}#sk-container-id-17 div.sk-parallel-item:last-child::after {align-self: flex-start;width: 50%;}#sk-container-id-17 div.sk-parallel-item:only-child::after {width: 0;}#sk-container-id-17 div.sk-dashed-wrapped {border: 1px dashed gray;margin: 0 0.4em 0.5em 0.4em;box-sizing: border-box;padding-bottom: 0.4em;background-color: white;}#sk-container-id-17 div.sk-label label {font-family: monospace;font-weight: bold;display: inline-block;line-height: 1.2em;}#sk-container-id-17 div.sk-label-container {text-align: center;}#sk-container-id-17 div.sk-container {/* jupyter's `normalize.less` sets `[hidden] { display: none; }` but bootstrap.min.css set `[hidden] { display: none !important; }` so we also need the `!important` here to be able to override the default hidden behavior on the sphinx rendered scikit-learn.org. See: https://github.com/scikit-learn/scikit-learn/issues/21755 */display: inline-block !important;position: relative;}#sk-container-id-17 div.sk-text-repr-fallback {display: none;}</style><div id=\"sk-container-id-17\" class=\"sk-top-container\"><div class=\"sk-text-repr-fallback\"><pre>MLPRegressor(hidden_layer_sizes=(200, 120), max_iter=300, random_state=123)</pre><b>In a Jupyter environment, please rerun this cell to show the HTML representation or trust the notebook. <br />On GitHub, the HTML representation is unable to render, please try loading this page with nbviewer.org.</b></div><div class=\"sk-container\" hidden><div class=\"sk-item\"><div class=\"sk-estimator sk-toggleable\"><input class=\"sk-toggleable__control sk-hidden--visually\" id=\"sk-estimator-id-17\" type=\"checkbox\" checked><label for=\"sk-estimator-id-17\" class=\"sk-toggleable__label sk-toggleable__label-arrow\">MLPRegressor</label><div class=\"sk-toggleable__content\"><pre>MLPRegressor(hidden_layer_sizes=(200, 120), max_iter=300, random_state=123)</pre></div></div></div></div></div>"
      ],
      "text/plain": [
       "MLPRegressor(hidden_layer_sizes=(200, 120), max_iter=300, random_state=123)"
      ]
     },
     "execution_count": 66,
     "metadata": {},
     "output_type": "execute_result"
    }
   ],
   "source": [
    "from sklearn.model_selection import train_test_split\n",
    "X = no_dup_df[['Player','Pit', 'Goal', 'Wall']]\n",
    "y = no_dup_df[['Bellman_Operator']]\n",
    "X_train, X_test, y_train, y_test = train_test_split(X, y, test_size = 7/10, random_state = 0)\n",
    "mlp = MLPRegressor(hidden_layer_sizes=(200,120), max_iter=300, activation = 'relu', solver='adam', random_state=123)\n",
    "mlp.fit(X_train.values,y_train.values.ravel())"
   ]
  },
  {
   "cell_type": "code",
   "execution_count": 67,
   "id": "33b88e06-996a-4882-b8e3-b6f442d2b57b",
   "metadata": {},
   "outputs": [],
   "source": [
    "h = 0\n",
    "w, h = 13, 300000\n",
    "experience_mlp = [[0 for x in range(w)] for y in range(h)] \n",
    "\n",
    "global counter\n",
    "counter = 0"
   ]
  },
  {
   "cell_type": "code",
   "execution_count": 68,
   "id": "a082b7b3-fa10-46ab-8757-ba2c01661292",
   "metadata": {},
   "outputs": [
    {
     "name": "stdout",
     "output_type": "stream",
     "text": [
      "Games played: 1000, # of wins: 812\n",
      "0.812\n",
      "0.812\n",
      "Games played: 1000, # of wins: 823\n",
      "0.823\n",
      "1.635\n",
      "Games played: 1000, # of wins: 814\n",
      "0.814\n",
      "2.449\n",
      "Games played: 1000, # of wins: 837\n",
      "0.837\n",
      "3.2859999999999996\n",
      "Games played: 1000, # of wins: 806\n",
      "0.806\n",
      "4.092\n",
      "Games played: 1000, # of wins: 834\n",
      "0.834\n",
      "4.925999999999999\n",
      "Games played: 1000, # of wins: 825\n",
      "0.825\n",
      "5.7509999999999994\n",
      "Games played: 1000, # of wins: 803\n",
      "0.803\n",
      "6.553999999999999\n",
      "Games played: 1000, # of wins: 815\n",
      "0.815\n",
      "7.369\n",
      "Games played: 1000, # of wins: 821\n",
      "0.821\n",
      "8.19\n",
      "Win percentage: 81.89999999999999%\n"
     ]
    }
   ],
   "source": [
    "win_num = 0\n",
    "for i in range(0,10):\n",
    "    max_games = 1000\n",
    "    wins = 0\n",
    "    for i in range(max_games):\n",
    "        win = mlp_test_model(mlp, experience_mlp, 'random', display = False)\n",
    "        if win:\n",
    "            wins += 1\n",
    "    win_perc = float(wins) / float(max_games)\n",
    "    win_num = win_num + win_perc\n",
    "    print(\"Games played: {0}, # of wins: {1}\".format(max_games,wins))\n",
    "    print(win_perc)\n",
    "    print(win_num)\n",
    "win_num = win_num / 10\n",
    "print(\"Win percentage: {}%\".format(win_num*100))"
   ]
  },
  {
   "cell_type": "markdown",
   "id": "a7aa518b-cf53-4ba3-8c99-be90d2ed3da4",
   "metadata": {},
   "source": [
    "## Q-Value 30%"
   ]
  },
  {
   "cell_type": "code",
   "execution_count": 71,
   "id": "e68368e2-1d4b-49bd-ad1a-e554b988b154",
   "metadata": {},
   "outputs": [
    {
     "name": "stderr",
     "output_type": "stream",
     "text": [
      "D:\\Conda\\lib\\site-packages\\sklearn\\neural_network\\_multilayer_perceptron.py:702: ConvergenceWarning: Stochastic Optimizer: Maximum iterations (300) reached and the optimization hasn't converged yet.\n",
      "  warnings.warn(\n"
     ]
    },
    {
     "data": {
      "text/html": [
       "<style>#sk-container-id-18 {color: black;background-color: white;}#sk-container-id-18 pre{padding: 0;}#sk-container-id-18 div.sk-toggleable {background-color: white;}#sk-container-id-18 label.sk-toggleable__label {cursor: pointer;display: block;width: 100%;margin-bottom: 0;padding: 0.3em;box-sizing: border-box;text-align: center;}#sk-container-id-18 label.sk-toggleable__label-arrow:before {content: \"▸\";float: left;margin-right: 0.25em;color: #696969;}#sk-container-id-18 label.sk-toggleable__label-arrow:hover:before {color: black;}#sk-container-id-18 div.sk-estimator:hover label.sk-toggleable__label-arrow:before {color: black;}#sk-container-id-18 div.sk-toggleable__content {max-height: 0;max-width: 0;overflow: hidden;text-align: left;background-color: #f0f8ff;}#sk-container-id-18 div.sk-toggleable__content pre {margin: 0.2em;color: black;border-radius: 0.25em;background-color: #f0f8ff;}#sk-container-id-18 input.sk-toggleable__control:checked~div.sk-toggleable__content {max-height: 200px;max-width: 100%;overflow: auto;}#sk-container-id-18 input.sk-toggleable__control:checked~label.sk-toggleable__label-arrow:before {content: \"▾\";}#sk-container-id-18 div.sk-estimator input.sk-toggleable__control:checked~label.sk-toggleable__label {background-color: #d4ebff;}#sk-container-id-18 div.sk-label input.sk-toggleable__control:checked~label.sk-toggleable__label {background-color: #d4ebff;}#sk-container-id-18 input.sk-hidden--visually {border: 0;clip: rect(1px 1px 1px 1px);clip: rect(1px, 1px, 1px, 1px);height: 1px;margin: -1px;overflow: hidden;padding: 0;position: absolute;width: 1px;}#sk-container-id-18 div.sk-estimator {font-family: monospace;background-color: #f0f8ff;border: 1px dotted black;border-radius: 0.25em;box-sizing: border-box;margin-bottom: 0.5em;}#sk-container-id-18 div.sk-estimator:hover {background-color: #d4ebff;}#sk-container-id-18 div.sk-parallel-item::after {content: \"\";width: 100%;border-bottom: 1px solid gray;flex-grow: 1;}#sk-container-id-18 div.sk-label:hover label.sk-toggleable__label {background-color: #d4ebff;}#sk-container-id-18 div.sk-serial::before {content: \"\";position: absolute;border-left: 1px solid gray;box-sizing: border-box;top: 0;bottom: 0;left: 50%;z-index: 0;}#sk-container-id-18 div.sk-serial {display: flex;flex-direction: column;align-items: center;background-color: white;padding-right: 0.2em;padding-left: 0.2em;position: relative;}#sk-container-id-18 div.sk-item {position: relative;z-index: 1;}#sk-container-id-18 div.sk-parallel {display: flex;align-items: stretch;justify-content: center;background-color: white;position: relative;}#sk-container-id-18 div.sk-item::before, #sk-container-id-18 div.sk-parallel-item::before {content: \"\";position: absolute;border-left: 1px solid gray;box-sizing: border-box;top: 0;bottom: 0;left: 50%;z-index: -1;}#sk-container-id-18 div.sk-parallel-item {display: flex;flex-direction: column;z-index: 1;position: relative;background-color: white;}#sk-container-id-18 div.sk-parallel-item:first-child::after {align-self: flex-end;width: 50%;}#sk-container-id-18 div.sk-parallel-item:last-child::after {align-self: flex-start;width: 50%;}#sk-container-id-18 div.sk-parallel-item:only-child::after {width: 0;}#sk-container-id-18 div.sk-dashed-wrapped {border: 1px dashed gray;margin: 0 0.4em 0.5em 0.4em;box-sizing: border-box;padding-bottom: 0.4em;background-color: white;}#sk-container-id-18 div.sk-label label {font-family: monospace;font-weight: bold;display: inline-block;line-height: 1.2em;}#sk-container-id-18 div.sk-label-container {text-align: center;}#sk-container-id-18 div.sk-container {/* jupyter's `normalize.less` sets `[hidden] { display: none; }` but bootstrap.min.css set `[hidden] { display: none !important; }` so we also need the `!important` here to be able to override the default hidden behavior on the sphinx rendered scikit-learn.org. See: https://github.com/scikit-learn/scikit-learn/issues/21755 */display: inline-block !important;position: relative;}#sk-container-id-18 div.sk-text-repr-fallback {display: none;}</style><div id=\"sk-container-id-18\" class=\"sk-top-container\"><div class=\"sk-text-repr-fallback\"><pre>MLPRegressor(hidden_layer_sizes=(200, 120), max_iter=300, random_state=123)</pre><b>In a Jupyter environment, please rerun this cell to show the HTML representation or trust the notebook. <br />On GitHub, the HTML representation is unable to render, please try loading this page with nbviewer.org.</b></div><div class=\"sk-container\" hidden><div class=\"sk-item\"><div class=\"sk-estimator sk-toggleable\"><input class=\"sk-toggleable__control sk-hidden--visually\" id=\"sk-estimator-id-18\" type=\"checkbox\" checked><label for=\"sk-estimator-id-18\" class=\"sk-toggleable__label sk-toggleable__label-arrow\">MLPRegressor</label><div class=\"sk-toggleable__content\"><pre>MLPRegressor(hidden_layer_sizes=(200, 120), max_iter=300, random_state=123)</pre></div></div></div></div></div>"
      ],
      "text/plain": [
       "MLPRegressor(hidden_layer_sizes=(200, 120), max_iter=300, random_state=123)"
      ]
     },
     "execution_count": 71,
     "metadata": {},
     "output_type": "execute_result"
    }
   ],
   "source": [
    "from sklearn.model_selection import train_test_split\n",
    "X = no_dup_df[['Player','Pit', 'Goal', 'Wall']]\n",
    "y = no_dup_df[['Q_Current']]\n",
    "X_train, X_test, y_train, y_test = train_test_split(X, y, test_size = 7/10, random_state = 0)\n",
    "mlp = MLPRegressor(hidden_layer_sizes=(200,120), max_iter=300, activation = 'relu', solver='adam', random_state=123)\n",
    "mlp.fit(X_train.values,y_train.values.ravel())"
   ]
  },
  {
   "cell_type": "code",
   "execution_count": 72,
   "id": "55491f29-4333-4541-8965-2e6073bfb887",
   "metadata": {},
   "outputs": [
    {
     "name": "stdout",
     "output_type": "stream",
     "text": [
      "Games played: 1000, # of wins: 855\n",
      "0.855\n",
      "0.855\n",
      "Games played: 1000, # of wins: 861\n",
      "0.861\n",
      "1.716\n",
      "Games played: 1000, # of wins: 868\n",
      "0.868\n",
      "2.584\n",
      "Games played: 1000, # of wins: 876\n",
      "0.876\n",
      "3.46\n",
      "Games played: 1000, # of wins: 877\n",
      "0.877\n",
      "4.337\n",
      "Games played: 1000, # of wins: 850\n",
      "0.85\n",
      "5.186999999999999\n",
      "Games played: 1000, # of wins: 857\n",
      "0.857\n",
      "6.044\n",
      "Games played: 1000, # of wins: 865\n",
      "0.865\n",
      "6.909\n",
      "Games played: 1000, # of wins: 856\n",
      "0.856\n",
      "7.765\n",
      "Games played: 1000, # of wins: 879\n",
      "0.879\n",
      "8.644\n",
      "Win percentage: 86.44000000000001%\n"
     ]
    }
   ],
   "source": [
    "win_num = 0\n",
    "for i in range(0,10):\n",
    "    max_games = 1000\n",
    "    wins = 0\n",
    "    for i in range(max_games):\n",
    "        win = mlp_test_model(mlp, experience_mlp, 'random', display = False)\n",
    "        if win:\n",
    "            wins += 1\n",
    "    win_perc = float(wins) / float(max_games)\n",
    "    win_num = win_num + win_perc\n",
    "    print(\"Games played: {0}, # of wins: {1}\".format(max_games,wins))\n",
    "    print(win_perc)\n",
    "    print(win_num)\n",
    "win_num = win_num / 10\n",
    "print(\"Win percentage: {}%\".format(win_num*100))"
   ]
  },
  {
   "cell_type": "markdown",
   "id": "9fffaa86-af2a-4eed-aaa2-dd266024149d",
   "metadata": {},
   "source": [
    "## Bellman Operator 20%"
   ]
  },
  {
   "cell_type": "code",
   "execution_count": 74,
   "id": "27920ec3-8a78-4c5d-8f56-cab4fcf52717",
   "metadata": {},
   "outputs": [
    {
     "name": "stderr",
     "output_type": "stream",
     "text": [
      "D:\\Conda\\lib\\site-packages\\sklearn\\neural_network\\_multilayer_perceptron.py:702: ConvergenceWarning: Stochastic Optimizer: Maximum iterations (300) reached and the optimization hasn't converged yet.\n",
      "  warnings.warn(\n"
     ]
    },
    {
     "data": {
      "text/html": [
       "<style>#sk-container-id-19 {color: black;background-color: white;}#sk-container-id-19 pre{padding: 0;}#sk-container-id-19 div.sk-toggleable {background-color: white;}#sk-container-id-19 label.sk-toggleable__label {cursor: pointer;display: block;width: 100%;margin-bottom: 0;padding: 0.3em;box-sizing: border-box;text-align: center;}#sk-container-id-19 label.sk-toggleable__label-arrow:before {content: \"▸\";float: left;margin-right: 0.25em;color: #696969;}#sk-container-id-19 label.sk-toggleable__label-arrow:hover:before {color: black;}#sk-container-id-19 div.sk-estimator:hover label.sk-toggleable__label-arrow:before {color: black;}#sk-container-id-19 div.sk-toggleable__content {max-height: 0;max-width: 0;overflow: hidden;text-align: left;background-color: #f0f8ff;}#sk-container-id-19 div.sk-toggleable__content pre {margin: 0.2em;color: black;border-radius: 0.25em;background-color: #f0f8ff;}#sk-container-id-19 input.sk-toggleable__control:checked~div.sk-toggleable__content {max-height: 200px;max-width: 100%;overflow: auto;}#sk-container-id-19 input.sk-toggleable__control:checked~label.sk-toggleable__label-arrow:before {content: \"▾\";}#sk-container-id-19 div.sk-estimator input.sk-toggleable__control:checked~label.sk-toggleable__label {background-color: #d4ebff;}#sk-container-id-19 div.sk-label input.sk-toggleable__control:checked~label.sk-toggleable__label {background-color: #d4ebff;}#sk-container-id-19 input.sk-hidden--visually {border: 0;clip: rect(1px 1px 1px 1px);clip: rect(1px, 1px, 1px, 1px);height: 1px;margin: -1px;overflow: hidden;padding: 0;position: absolute;width: 1px;}#sk-container-id-19 div.sk-estimator {font-family: monospace;background-color: #f0f8ff;border: 1px dotted black;border-radius: 0.25em;box-sizing: border-box;margin-bottom: 0.5em;}#sk-container-id-19 div.sk-estimator:hover {background-color: #d4ebff;}#sk-container-id-19 div.sk-parallel-item::after {content: \"\";width: 100%;border-bottom: 1px solid gray;flex-grow: 1;}#sk-container-id-19 div.sk-label:hover label.sk-toggleable__label {background-color: #d4ebff;}#sk-container-id-19 div.sk-serial::before {content: \"\";position: absolute;border-left: 1px solid gray;box-sizing: border-box;top: 0;bottom: 0;left: 50%;z-index: 0;}#sk-container-id-19 div.sk-serial {display: flex;flex-direction: column;align-items: center;background-color: white;padding-right: 0.2em;padding-left: 0.2em;position: relative;}#sk-container-id-19 div.sk-item {position: relative;z-index: 1;}#sk-container-id-19 div.sk-parallel {display: flex;align-items: stretch;justify-content: center;background-color: white;position: relative;}#sk-container-id-19 div.sk-item::before, #sk-container-id-19 div.sk-parallel-item::before {content: \"\";position: absolute;border-left: 1px solid gray;box-sizing: border-box;top: 0;bottom: 0;left: 50%;z-index: -1;}#sk-container-id-19 div.sk-parallel-item {display: flex;flex-direction: column;z-index: 1;position: relative;background-color: white;}#sk-container-id-19 div.sk-parallel-item:first-child::after {align-self: flex-end;width: 50%;}#sk-container-id-19 div.sk-parallel-item:last-child::after {align-self: flex-start;width: 50%;}#sk-container-id-19 div.sk-parallel-item:only-child::after {width: 0;}#sk-container-id-19 div.sk-dashed-wrapped {border: 1px dashed gray;margin: 0 0.4em 0.5em 0.4em;box-sizing: border-box;padding-bottom: 0.4em;background-color: white;}#sk-container-id-19 div.sk-label label {font-family: monospace;font-weight: bold;display: inline-block;line-height: 1.2em;}#sk-container-id-19 div.sk-label-container {text-align: center;}#sk-container-id-19 div.sk-container {/* jupyter's `normalize.less` sets `[hidden] { display: none; }` but bootstrap.min.css set `[hidden] { display: none !important; }` so we also need the `!important` here to be able to override the default hidden behavior on the sphinx rendered scikit-learn.org. See: https://github.com/scikit-learn/scikit-learn/issues/21755 */display: inline-block !important;position: relative;}#sk-container-id-19 div.sk-text-repr-fallback {display: none;}</style><div id=\"sk-container-id-19\" class=\"sk-top-container\"><div class=\"sk-text-repr-fallback\"><pre>MLPRegressor(hidden_layer_sizes=(200, 120), max_iter=300, random_state=123)</pre><b>In a Jupyter environment, please rerun this cell to show the HTML representation or trust the notebook. <br />On GitHub, the HTML representation is unable to render, please try loading this page with nbviewer.org.</b></div><div class=\"sk-container\" hidden><div class=\"sk-item\"><div class=\"sk-estimator sk-toggleable\"><input class=\"sk-toggleable__control sk-hidden--visually\" id=\"sk-estimator-id-19\" type=\"checkbox\" checked><label for=\"sk-estimator-id-19\" class=\"sk-toggleable__label sk-toggleable__label-arrow\">MLPRegressor</label><div class=\"sk-toggleable__content\"><pre>MLPRegressor(hidden_layer_sizes=(200, 120), max_iter=300, random_state=123)</pre></div></div></div></div></div>"
      ],
      "text/plain": [
       "MLPRegressor(hidden_layer_sizes=(200, 120), max_iter=300, random_state=123)"
      ]
     },
     "execution_count": 74,
     "metadata": {},
     "output_type": "execute_result"
    }
   ],
   "source": [
    "from sklearn.model_selection import train_test_split\n",
    "X = no_dup_df[['Player','Pit', 'Goal', 'Wall']]\n",
    "y = no_dup_df[['Bellman_Operator']]\n",
    "X_train, X_test, y_train, y_test = train_test_split(X, y, test_size = 8/10, random_state = 0)\n",
    "mlp = MLPRegressor(hidden_layer_sizes=(200,120), max_iter=300, activation = 'relu', solver='adam', random_state=123)\n",
    "mlp.fit(X_train.values,y_train.values.ravel())"
   ]
  },
  {
   "cell_type": "code",
   "execution_count": 75,
   "id": "aad69dd9-9626-4f0c-85f1-d6cccb723589",
   "metadata": {},
   "outputs": [],
   "source": [
    "h = 0\n",
    "w, h = 13, 300000\n",
    "experience_mlp = [[0 for x in range(w)] for y in range(h)] \n",
    "\n",
    "global counter\n",
    "counter = 0"
   ]
  },
  {
   "cell_type": "code",
   "execution_count": 76,
   "id": "d61b9aec-07a5-4c45-8e6e-d31720a89757",
   "metadata": {},
   "outputs": [
    {
     "name": "stdout",
     "output_type": "stream",
     "text": [
      "Games played: 1000, # of wins: 781\n",
      "0.781\n",
      "0.781\n",
      "Games played: 1000, # of wins: 756\n",
      "0.756\n",
      "1.537\n",
      "Games played: 1000, # of wins: 797\n",
      "0.797\n",
      "2.334\n",
      "Games played: 1000, # of wins: 796\n",
      "0.796\n",
      "3.13\n",
      "Games played: 1000, # of wins: 783\n",
      "0.783\n",
      "3.913\n",
      "Games played: 1000, # of wins: 798\n",
      "0.798\n",
      "4.711\n",
      "Games played: 1000, # of wins: 771\n",
      "0.771\n",
      "5.482\n",
      "Games played: 1000, # of wins: 774\n",
      "0.774\n",
      "6.256\n",
      "Games played: 1000, # of wins: 770\n",
      "0.77\n",
      "7.026\n",
      "Games played: 1000, # of wins: 792\n",
      "0.792\n",
      "7.818\n",
      "Win percentage: 78.17999999999999%\n"
     ]
    }
   ],
   "source": [
    "win_num = 0\n",
    "for i in range(0,10):\n",
    "    max_games = 1000\n",
    "    wins = 0\n",
    "    for i in range(max_games):\n",
    "        win = mlp_test_model(mlp, experience_mlp, 'random', display = False)\n",
    "        if win:\n",
    "            wins += 1\n",
    "    win_perc = float(wins) / float(max_games)\n",
    "    win_num = win_num + win_perc\n",
    "    print(\"Games played: {0}, # of wins: {1}\".format(max_games,wins))\n",
    "    print(win_perc)\n",
    "    print(win_num)\n",
    "win_num = win_num / 10\n",
    "print(\"Win percentage: {}%\".format(win_num*100))"
   ]
  },
  {
   "cell_type": "markdown",
   "id": "7506aacb-dfaa-4960-b13f-2b1406f26c5d",
   "metadata": {},
   "source": [
    "## Q-Value 20%"
   ]
  },
  {
   "cell_type": "code",
   "execution_count": 77,
   "id": "4b7b886f-9a70-45c5-b9ce-6f5dba43525e",
   "metadata": {},
   "outputs": [
    {
     "name": "stderr",
     "output_type": "stream",
     "text": [
      "D:\\Conda\\lib\\site-packages\\sklearn\\neural_network\\_multilayer_perceptron.py:702: ConvergenceWarning: Stochastic Optimizer: Maximum iterations (300) reached and the optimization hasn't converged yet.\n",
      "  warnings.warn(\n"
     ]
    },
    {
     "data": {
      "text/html": [
       "<style>#sk-container-id-20 {color: black;background-color: white;}#sk-container-id-20 pre{padding: 0;}#sk-container-id-20 div.sk-toggleable {background-color: white;}#sk-container-id-20 label.sk-toggleable__label {cursor: pointer;display: block;width: 100%;margin-bottom: 0;padding: 0.3em;box-sizing: border-box;text-align: center;}#sk-container-id-20 label.sk-toggleable__label-arrow:before {content: \"▸\";float: left;margin-right: 0.25em;color: #696969;}#sk-container-id-20 label.sk-toggleable__label-arrow:hover:before {color: black;}#sk-container-id-20 div.sk-estimator:hover label.sk-toggleable__label-arrow:before {color: black;}#sk-container-id-20 div.sk-toggleable__content {max-height: 0;max-width: 0;overflow: hidden;text-align: left;background-color: #f0f8ff;}#sk-container-id-20 div.sk-toggleable__content pre {margin: 0.2em;color: black;border-radius: 0.25em;background-color: #f0f8ff;}#sk-container-id-20 input.sk-toggleable__control:checked~div.sk-toggleable__content {max-height: 200px;max-width: 100%;overflow: auto;}#sk-container-id-20 input.sk-toggleable__control:checked~label.sk-toggleable__label-arrow:before {content: \"▾\";}#sk-container-id-20 div.sk-estimator input.sk-toggleable__control:checked~label.sk-toggleable__label {background-color: #d4ebff;}#sk-container-id-20 div.sk-label input.sk-toggleable__control:checked~label.sk-toggleable__label {background-color: #d4ebff;}#sk-container-id-20 input.sk-hidden--visually {border: 0;clip: rect(1px 1px 1px 1px);clip: rect(1px, 1px, 1px, 1px);height: 1px;margin: -1px;overflow: hidden;padding: 0;position: absolute;width: 1px;}#sk-container-id-20 div.sk-estimator {font-family: monospace;background-color: #f0f8ff;border: 1px dotted black;border-radius: 0.25em;box-sizing: border-box;margin-bottom: 0.5em;}#sk-container-id-20 div.sk-estimator:hover {background-color: #d4ebff;}#sk-container-id-20 div.sk-parallel-item::after {content: \"\";width: 100%;border-bottom: 1px solid gray;flex-grow: 1;}#sk-container-id-20 div.sk-label:hover label.sk-toggleable__label {background-color: #d4ebff;}#sk-container-id-20 div.sk-serial::before {content: \"\";position: absolute;border-left: 1px solid gray;box-sizing: border-box;top: 0;bottom: 0;left: 50%;z-index: 0;}#sk-container-id-20 div.sk-serial {display: flex;flex-direction: column;align-items: center;background-color: white;padding-right: 0.2em;padding-left: 0.2em;position: relative;}#sk-container-id-20 div.sk-item {position: relative;z-index: 1;}#sk-container-id-20 div.sk-parallel {display: flex;align-items: stretch;justify-content: center;background-color: white;position: relative;}#sk-container-id-20 div.sk-item::before, #sk-container-id-20 div.sk-parallel-item::before {content: \"\";position: absolute;border-left: 1px solid gray;box-sizing: border-box;top: 0;bottom: 0;left: 50%;z-index: -1;}#sk-container-id-20 div.sk-parallel-item {display: flex;flex-direction: column;z-index: 1;position: relative;background-color: white;}#sk-container-id-20 div.sk-parallel-item:first-child::after {align-self: flex-end;width: 50%;}#sk-container-id-20 div.sk-parallel-item:last-child::after {align-self: flex-start;width: 50%;}#sk-container-id-20 div.sk-parallel-item:only-child::after {width: 0;}#sk-container-id-20 div.sk-dashed-wrapped {border: 1px dashed gray;margin: 0 0.4em 0.5em 0.4em;box-sizing: border-box;padding-bottom: 0.4em;background-color: white;}#sk-container-id-20 div.sk-label label {font-family: monospace;font-weight: bold;display: inline-block;line-height: 1.2em;}#sk-container-id-20 div.sk-label-container {text-align: center;}#sk-container-id-20 div.sk-container {/* jupyter's `normalize.less` sets `[hidden] { display: none; }` but bootstrap.min.css set `[hidden] { display: none !important; }` so we also need the `!important` here to be able to override the default hidden behavior on the sphinx rendered scikit-learn.org. See: https://github.com/scikit-learn/scikit-learn/issues/21755 */display: inline-block !important;position: relative;}#sk-container-id-20 div.sk-text-repr-fallback {display: none;}</style><div id=\"sk-container-id-20\" class=\"sk-top-container\"><div class=\"sk-text-repr-fallback\"><pre>MLPRegressor(hidden_layer_sizes=(200, 120), max_iter=300, random_state=123)</pre><b>In a Jupyter environment, please rerun this cell to show the HTML representation or trust the notebook. <br />On GitHub, the HTML representation is unable to render, please try loading this page with nbviewer.org.</b></div><div class=\"sk-container\" hidden><div class=\"sk-item\"><div class=\"sk-estimator sk-toggleable\"><input class=\"sk-toggleable__control sk-hidden--visually\" id=\"sk-estimator-id-20\" type=\"checkbox\" checked><label for=\"sk-estimator-id-20\" class=\"sk-toggleable__label sk-toggleable__label-arrow\">MLPRegressor</label><div class=\"sk-toggleable__content\"><pre>MLPRegressor(hidden_layer_sizes=(200, 120), max_iter=300, random_state=123)</pre></div></div></div></div></div>"
      ],
      "text/plain": [
       "MLPRegressor(hidden_layer_sizes=(200, 120), max_iter=300, random_state=123)"
      ]
     },
     "execution_count": 77,
     "metadata": {},
     "output_type": "execute_result"
    }
   ],
   "source": [
    "from sklearn.model_selection import train_test_split\n",
    "X = no_dup_df[['Player','Pit', 'Goal', 'Wall']]\n",
    "y = no_dup_df[['Q_Current']]\n",
    "X_train, X_test, y_train, y_test = train_test_split(X, y, test_size = 8/10, random_state = 0)\n",
    "mlp = MLPRegressor(hidden_layer_sizes=(200,120), max_iter=300, activation = 'relu', solver='adam', random_state=123)\n",
    "mlp.fit(X_train.values,y_train.values.ravel())"
   ]
  },
  {
   "cell_type": "code",
   "execution_count": 78,
   "id": "13bea87d-58b3-4cfe-a517-807ac8a8e7a5",
   "metadata": {},
   "outputs": [
    {
     "name": "stdout",
     "output_type": "stream",
     "text": [
      "Games played: 1000, # of wins: 831\n",
      "0.831\n",
      "0.831\n",
      "Games played: 1000, # of wins: 825\n",
      "0.825\n",
      "1.656\n",
      "Games played: 1000, # of wins: 840\n",
      "0.84\n",
      "2.496\n",
      "Games played: 1000, # of wins: 819\n",
      "0.819\n",
      "3.315\n",
      "Games played: 1000, # of wins: 832\n",
      "0.832\n",
      "4.147\n",
      "Games played: 1000, # of wins: 825\n",
      "0.825\n",
      "4.972\n",
      "Games played: 1000, # of wins: 846\n",
      "0.846\n",
      "5.8180000000000005\n",
      "Games played: 1000, # of wins: 843\n",
      "0.843\n",
      "6.6610000000000005\n",
      "Games played: 1000, # of wins: 841\n",
      "0.841\n",
      "7.502000000000001\n",
      "Games played: 1000, # of wins: 853\n",
      "0.853\n",
      "8.355\n",
      "Win percentage: 83.55%\n"
     ]
    }
   ],
   "source": [
    "win_num = 0\n",
    "for i in range(0,10):\n",
    "    max_games = 1000\n",
    "    wins = 0\n",
    "    for i in range(max_games):\n",
    "        win = mlp_test_model(mlp, experience_mlp, 'random', display = False)\n",
    "        if win:\n",
    "            wins += 1\n",
    "    win_perc = float(wins) / float(max_games)\n",
    "    win_num = win_num + win_perc\n",
    "    print(\"Games played: {0}, # of wins: {1}\".format(max_games,wins))\n",
    "    print(win_perc)\n",
    "    print(win_num)\n",
    "win_num = win_num / 10\n",
    "print(\"Win percentage: {}%\".format(win_num*100))"
   ]
  },
  {
   "cell_type": "code",
   "execution_count": null,
   "id": "69750416-acfb-4b73-b70d-445cdb3b4e63",
   "metadata": {},
   "outputs": [],
   "source": []
  }
 ],
 "metadata": {
  "kernelspec": {
   "display_name": "Python 3 (ipykernel)",
   "language": "python",
   "name": "python3"
  },
  "language_info": {
   "codemirror_mode": {
    "name": "ipython",
    "version": 3
   },
   "file_extension": ".py",
   "mimetype": "text/x-python",
   "name": "python",
   "nbconvert_exporter": "python",
   "pygments_lexer": "ipython3",
   "version": "3.9.13"
  }
 },
 "nbformat": 4,
 "nbformat_minor": 5
}
